{
 "cells": [
  {
   "cell_type": "code",
   "execution_count": 1,
   "id": "b1c8b5a8-d338-4c9a-b679-279a02411123",
   "metadata": {},
   "outputs": [],
   "source": [
    "from pyspark.sql import SparkSession, Row\n",
    "from pyspark.sql.functions import *\n",
    "from pyspark.sql.types import *\n",
    "from pyspark.sql.types import *\n",
    "#from pyspark.sql.window import Window\n",
    "\n",
    "import getpass"
   ]
  },
  {
   "cell_type": "code",
   "execution_count": 2,
   "id": "83d71399-77b0-410d-b4fa-fe9c53c1e3b3",
   "metadata": {},
   "outputs": [
    {
     "name": "stdout",
     "output_type": "stream",
     "text": [
      "band\n"
     ]
    }
   ],
   "source": [
    "userName = getpass.getuser()\n",
    "print(userName)\n",
    "id_user = '1000'"
   ]
  },
  {
   "cell_type": "code",
   "execution_count": 3,
   "id": "da73f301-cbc0-4b81-aa94-bfc03186bd06",
   "metadata": {},
   "outputs": [
    {
     "name": "stderr",
     "output_type": "stream",
     "text": [
      "Setting default log level to \"WARN\".\n",
      "To adjust logging level use sc.setLogLevel(newLevel). For SparkR, use setLogLevel(newLevel).\n",
      "2022-01-04 13:50:13,487 WARN util.NativeCodeLoader: Unable to load native-hadoop library for your platform... using builtin-java classes where applicable\n"
     ]
    }
   ],
   "source": [
    "spark = SparkSession.\\\n",
    "        builder.\\\n",
    "        config(\"spark.ui.port\",\"0\").\\\n",
    "        master(\"yarn\").\\\n",
    "        enableHiveSupport().\\\n",
    "        config(\"spark.sql.warehouse.dir\", f\"/user/{userName}/warehouse\").\\\n",
    "        appName(\"Exercises\").\\\n",
    "        getOrCreate()"
   ]
  },
  {
   "cell_type": "code",
   "execution_count": 4,
   "id": "11503b35-5e74-42f7-928d-b79e87d9b80f",
   "metadata": {},
   "outputs": [],
   "source": [
    "spark.conf.set(\"spark.sql.shuffle.partitions\", \"2\")"
   ]
  },
  {
   "cell_type": "code",
   "execution_count": 5,
   "id": "14804d6f-ace6-44a7-aec4-2b1dfa51af77",
   "metadata": {},
   "outputs": [],
   "source": [
    "spark.conf.set(\"spark.sql.legacy.timeParserPolicy\", \"LEGACY\")"
   ]
  },
  {
   "cell_type": "code",
   "execution_count": 6,
   "id": "3359d0ad-2e43-4f65-88c5-81fa94a85d00",
   "metadata": {},
   "outputs": [],
   "source": [
    "# exercise 1:\n",
    "path = \"/public/crime/csv/Crimes.csv\""
   ]
  },
  {
   "cell_type": "code",
   "execution_count": null,
   "id": "cf2c6f2b-51e9-4105-9a17-90eb46f3a973",
   "metadata": {},
   "outputs": [],
   "source": [
    "'''schema = StructType().\\\n",
    "        add('ID', IntegerType(), True).\\\n",
    "        add('Case Number', StringType(), True).\\\n",
    "        add('Date', StringType(), True).\\\n",
    "        add('Block', StringType(), True).\\\n",
    "        add('IUCR', StringType(), True).\\\n",
    "        add('Primary Type', StringType(), True).\\\n",
    "        add('Description', StringType(), True).\\\n",
    "        add('Location Description' ,StringType(), True).\\\n",
    "        add('Arrest', BooleanType(), True).\\\n",
    "        add('Domestic', BooleanType(), True).\\\n",
    "        add('Beat', StringType(), True).\\\n",
    "        add('District', StringType(), True).\\\n",
    "        add('Ward', IntegerType(), True).\\\n",
    "        add('Community Area', IntegerType(), True).\\\n",
    "        add('FBI code', StringType(), True).\\\n",
    "        add('X Coordinate', LongType(), True).\\\n",
    "        add('Y Coordinate', LongType(), True).\\\n",
    "        add('Year', StringType(), True).\\\n",
    "        add('Updated On', StringType(), True).\\\n",
    "        add('Latitude', FloatType(), True).\\\n",
    "        add('Longitude', FloatType(), True).\\\n",
    "        add('Location', StringType(), True)\n",
    "crimes = spark.read.format('csv').schema(schema).option('header', True).option('inferschema', True).load(path)\n",
    "'''"
   ]
  },
  {
   "cell_type": "code",
   "execution_count": 7,
   "id": "49ab08f9-ef25-45f8-bb19-517f0ba20256",
   "metadata": {},
   "outputs": [
    {
     "name": "stderr",
     "output_type": "stream",
     "text": [
      "                                                                                \r"
     ]
    }
   ],
   "source": [
    "crimes= spark.read.csv(path, header=True, inferSchema=True)"
   ]
  },
  {
   "cell_type": "code",
   "execution_count": 8,
   "id": "50331d29-e5c4-48ac-a6f3-995ca4d79f0f",
   "metadata": {
    "tags": []
   },
   "outputs": [
    {
     "name": "stdout",
     "output_type": "stream",
     "text": [
      "root\n",
      " |-- ID: integer (nullable = true)\n",
      " |-- Case Number: string (nullable = true)\n",
      " |-- Date: string (nullable = true)\n",
      " |-- Block: string (nullable = true)\n",
      " |-- IUCR: string (nullable = true)\n",
      " |-- Primary Type: string (nullable = true)\n",
      " |-- Description: string (nullable = true)\n",
      " |-- Location Description: string (nullable = true)\n",
      " |-- Arrest: boolean (nullable = true)\n",
      " |-- Domestic: boolean (nullable = true)\n",
      " |-- Beat: integer (nullable = true)\n",
      " |-- District: integer (nullable = true)\n",
      " |-- Ward: integer (nullable = true)\n",
      " |-- Community Area: integer (nullable = true)\n",
      " |-- FBI Code: string (nullable = true)\n",
      " |-- X Coordinate: integer (nullable = true)\n",
      " |-- Y Coordinate: integer (nullable = true)\n",
      " |-- Year: integer (nullable = true)\n",
      " |-- Updated On: string (nullable = true)\n",
      " |-- Latitude: double (nullable = true)\n",
      " |-- Longitude: double (nullable = true)\n",
      " |-- Location: string (nullable = true)\n",
      "\n"
     ]
    }
   ],
   "source": [
    "crimes.printSchema()"
   ]
  },
  {
   "cell_type": "code",
   "execution_count": null,
   "id": "310a36b2-f019-47e7-92c2-ef0faf697c21",
   "metadata": {},
   "outputs": [],
   "source": [
    "crimes.show(5)"
   ]
  },
  {
   "cell_type": "code",
   "execution_count": null,
   "id": "c3122d27-5b3e-4218-ae98-a98e448891f5",
   "metadata": {},
   "outputs": [],
   "source": [
    "# Get monthly count of primary crime type\n",
    "\n",
    "#crimes.select(split(col(\"Date\"), \"/\")[1].alias(\"month\"), split(split(col(\"Date\"), \"/\")[2], ' ').alias(\"year\")).show(20)\n",
    "tmp_crimes = crimes.withColumn('Date', split(col('Date'), ' ')[0])"
   ]
  },
  {
   "cell_type": "code",
   "execution_count": null,
   "id": "27c5ec23-15e3-40de-9a67-87880916fa8b",
   "metadata": {},
   "outputs": [],
   "source": [
    "print(type(tmp_crimes))"
   ]
  },
  {
   "cell_type": "code",
   "execution_count": null,
   "id": "27ce8262-fcc0-4116-b4c8-da5ea6687142",
   "metadata": {},
   "outputs": [],
   "source": [
    "# sap' xep' theo month tang dan`, count_primary_type giam? dan`\n",
    "tmp = tmp_crimes.groupBy('Date').agg(count('Primary Type').alias('count_primary_type')).sort(asc(split(col('Date'), '/')[0]), desc('count_primary_type'))"
   ]
  },
  {
   "cell_type": "code",
   "execution_count": null,
   "id": "8db034c8-70a8-4bca-9b0e-7f6a442a6556",
   "metadata": {},
   "outputs": [],
   "source": [
    "tmp.show(5)"
   ]
  },
  {
   "cell_type": "code",
   "execution_count": null,
   "id": "4bc279eb-13df-40c7-b218-a4b89c7cd13c",
   "metadata": {},
   "outputs": [],
   "source": [
    "tmp = tmp.withColumn('count_primary_type', col('count_primary_type').cast('STRING'))"
   ]
  },
  {
   "cell_type": "code",
   "execution_count": null,
   "id": "b6472319-ec67-41b1-a613-6486ccbcccdf",
   "metadata": {},
   "outputs": [],
   "source": [
    "tmp.show(5)"
   ]
  },
  {
   "cell_type": "code",
   "execution_count": null,
   "id": "739789ed-7f57-4e5b-8d8c-7425f40e1204",
   "metadata": {},
   "outputs": [],
   "source": [
    "text_path = \"/user/exercise/solutions/solution1/crimes_by_type_by_month\""
   ]
  },
  {
   "cell_type": "code",
   "execution_count": null,
   "id": "9ef5d1e6-a734-49f4-a7d8-f2765c7c9390",
   "metadata": {},
   "outputs": [],
   "source": [
    "head = tmp.select(concat_ws(',', col('Date'), col('count_primary_type')).alias(f'{tmp.columns[0]},{tmp.columns[1]}'))"
   ]
  },
  {
   "cell_type": "code",
   "execution_count": null,
   "id": "db994e89-9517-4fc9-ae64-ca0e2dc4c0db",
   "metadata": {},
   "outputs": [],
   "source": [
    "head.show(5)"
   ]
  },
  {
   "cell_type": "code",
   "execution_count": null,
   "id": "90380c1e-e28a-479b-b895-c36ebc616b89",
   "metadata": {},
   "outputs": [],
   "source": [
    "head.write.text(path=text_path, compression='gzip')"
   ]
  },
  {
   "cell_type": "code",
   "execution_count": null,
   "id": "b32d6bae-5723-4a40-a9e3-38a8a682cfac",
   "metadata": {},
   "outputs": [],
   "source": [
    "#-------------------------------------------ex2----------------------------------#"
   ]
  },
  {
   "cell_type": "code",
   "execution_count": 17,
   "id": "20052067-94c4-4c36-b438-e4a1bd67409b",
   "metadata": {},
   "outputs": [],
   "source": [
    "def extract_txt(path, headers, symbol=','):\n",
    "    text_data = spark.sparkContext.textFile(path)\n",
    "    context = text_data.map(lambda k: k.split(symbol))\n",
    "    return context.toDF(headers)"
   ]
  },
  {
   "cell_type": "code",
   "execution_count": 11,
   "id": "51bc3a2d-c87a-4816-afce-d1e835135698",
   "metadata": {},
   "outputs": [
    {
     "name": "stdout",
     "output_type": "stream",
     "text": [
      "<class 'pyspark.rdd.PipelinedRDD'>\n"
     ]
    },
    {
     "name": "stderr",
     "output_type": "stream",
     "text": [
      "                                                                                \r"
     ]
    }
   ],
   "source": [
    "path = \"/public/retail_db/orders/part-00000\"\n",
    "headers = ['order_id', 'order_date', 'order_customer_id', 'order_status']\n",
    "orders = extract_txt(path, headers)"
   ]
  },
  {
   "cell_type": "code",
   "execution_count": 132,
   "id": "e738f7d4-1f72-4858-8791-6af8f9aa2bd8",
   "metadata": {},
   "outputs": [
    {
     "name": "stdout",
     "output_type": "stream",
     "text": [
      "root\n",
      " |-- order_id: string (nullable = true)\n",
      " |-- order_date: string (nullable = true)\n",
      " |-- order_customer_id: string (nullable = true)\n",
      " |-- order_status: string (nullable = true)\n",
      "\n"
     ]
    }
   ],
   "source": [
    "orders.printSchema()"
   ]
  },
  {
   "cell_type": "code",
   "execution_count": 133,
   "id": "987f868f-115f-4033-aee5-c887778c851a",
   "metadata": {},
   "outputs": [
    {
     "name": "stdout",
     "output_type": "stream",
     "text": [
      "+--------+--------------------+-----------------+---------------+\n",
      "|order_id|          order_date|order_customer_id|   order_status|\n",
      "+--------+--------------------+-----------------+---------------+\n",
      "|       1|2013-07-25 00:00:...|            11599|         CLOSED|\n",
      "|       2|2013-07-25 00:00:...|              256|PENDING_PAYMENT|\n",
      "|       3|2013-07-25 00:00:...|            12111|       COMPLETE|\n",
      "|       4|2013-07-25 00:00:...|             8827|         CLOSED|\n",
      "|       5|2013-07-25 00:00:...|            11318|       COMPLETE|\n",
      "+--------+--------------------+-----------------+---------------+\n",
      "only showing top 5 rows\n",
      "\n"
     ]
    }
   ],
   "source": [
    "orders.show(5)"
   ]
  },
  {
   "cell_type": "code",
   "execution_count": null,
   "id": "53c66f40-cbb0-43d9-a16b-1e95b8e66ebb",
   "metadata": {
    "tags": []
   },
   "outputs": [],
   "source": [
    "spark.sql(\"DESCRIBE TABLE customers\")"
   ]
  },
  {
   "cell_type": "code",
   "execution_count": 139,
   "id": "722eed66-8a1a-4c57-b56b-d3077113b6d9",
   "metadata": {},
   "outputs": [],
   "source": [
    "spark.catalog.setCurrentDatabase('band_retail')"
   ]
  },
  {
   "cell_type": "code",
   "execution_count": 141,
   "id": "cdf83207-522b-4f81-b2de-54acd10e3e59",
   "metadata": {},
   "outputs": [],
   "source": [
    "customers = spark.sql(\"SELECT * FROM customers\")"
   ]
  },
  {
   "cell_type": "code",
   "execution_count": 142,
   "id": "201228b1-df76-44d7-8ffa-a2640f80486a",
   "metadata": {},
   "outputs": [
    {
     "name": "stdout",
     "output_type": "stream",
     "text": [
      "root\n",
      " |-- customer_city: string (nullable = true)\n",
      " |-- customer_email: string (nullable = true)\n",
      " |-- customer_fname: string (nullable = true)\n",
      " |-- customer_id: integer (nullable = true)\n",
      " |-- customer_lname: string (nullable = true)\n",
      " |-- customer_password: string (nullable = true)\n",
      " |-- customer_state: string (nullable = true)\n",
      " |-- customer_street: string (nullable = true)\n",
      " |-- customer_zipcode: string (nullable = true)\n",
      "\n"
     ]
    }
   ],
   "source": [
    "customers.printSchema()"
   ]
  },
  {
   "cell_type": "code",
   "execution_count": 155,
   "id": "bdf664d5-2910-424b-8959-5bbea40f9ca5",
   "metadata": {},
   "outputs": [],
   "source": [
    "customers = spark.sql(\"SELECT * FROM customers\")"
   ]
  },
  {
   "cell_type": "code",
   "execution_count": null,
   "id": "e84b5bec-8901-487f-afad-8a03f2dddc3f",
   "metadata": {},
   "outputs": [],
   "source": [
    "customers.show()"
   ]
  },
  {
   "cell_type": "code",
   "execution_count": 168,
   "id": "089206c1-ea96-4e7f-9ba1-4ed9561d6106",
   "metadata": {},
   "outputs": [],
   "source": [
    "filter_not_order = orders.join(customers, on=customers.customer_id != orders.order_customer_id).sort('customer_lname', 'customer_fname')"
   ]
  },
  {
   "cell_type": "code",
   "execution_count": 177,
   "id": "434ee0e3-5d21-4e6f-97ef-c0ec449f67a7",
   "metadata": {},
   "outputs": [],
   "source": [
    "counting = crimes.groupby('Primary Type').count().sort(desc('count'))"
   ]
  },
  {
   "cell_type": "code",
   "execution_count": 178,
   "id": "6995075e-8ba4-46b9-a0ff-39e8f638eb56",
   "metadata": {},
   "outputs": [
    {
     "name": "stderr",
     "output_type": "stream",
     "text": [
      "[Stage 105:===================================================>   (13 + 1) / 14]\r"
     ]
    },
    {
     "name": "stdout",
     "output_type": "stream",
     "text": [
      "+---------------+-------+\n",
      "|   Primary Type|  count|\n",
      "+---------------+-------+\n",
      "|          THEFT|1570224|\n",
      "|        BATTERY|1368734|\n",
      "|CRIMINAL DAMAGE| 850873|\n",
      "|      NARCOTICS| 740084|\n",
      "|        ASSAULT| 479748|\n",
      "+---------------+-------+\n",
      "only showing top 5 rows\n",
      "\n"
     ]
    },
    {
     "name": "stderr",
     "output_type": "stream",
     "text": [
      "                                                                                \r"
     ]
    }
   ],
   "source": [
    "counting.show(5)"
   ]
  },
  {
   "cell_type": "code",
   "execution_count": 173,
   "id": "dcf1aea1-deed-4c9d-9d61-8d682ff231a8",
   "metadata": {},
   "outputs": [
    {
     "name": "stdout",
     "output_type": "stream",
     "text": [
      "root\n",
      " |-- Primary Type: string (nullable = true)\n",
      " |-- count: long (nullable = false)\n",
      "\n"
     ]
    }
   ],
   "source": [
    "counting.printSchema()"
   ]
  },
  {
   "cell_type": "code",
   "execution_count": 182,
   "id": "17a7c44e-b1c6-4215-8f79-121db01adea3",
   "metadata": {},
   "outputs": [],
   "source": [
    "#--------------------ex4---------------------------------------#"
   ]
  },
  {
   "cell_type": "code",
   "execution_count": 15,
   "id": "c3a66eaf-f949-43aa-8843-56f7936a313d",
   "metadata": {},
   "outputs": [
    {
     "name": "stderr",
     "output_type": "stream",
     "text": [
      "                                                                                \r"
     ]
    }
   ],
   "source": [
    "path = \"/user/exercise/nyse_parquet\"\n",
    "orders.write.parquet(path)"
   ]
  },
  {
   "cell_type": "code",
   "execution_count": 16,
   "id": "d3c0f2ab-fbed-436f-b22d-96da89746f67",
   "metadata": {},
   "outputs": [],
   "source": [
    "#--------------------ex5---------------------------------------#"
   ]
  },
  {
   "cell_type": "code",
   "execution_count": 35,
   "id": "1c77e4e3-9454-4450-b610-1095341fc90b",
   "metadata": {},
   "outputs": [],
   "source": [
    "path = \"/public/randomtextwriter\"\n",
    "count_text = spark.sparkContext.textFile(path)"
   ]
  },
  {
   "cell_type": "code",
   "execution_count": 36,
   "id": "79cf689d-5b47-4c89-89b7-8cd6f2e1f52d",
   "metadata": {},
   "outputs": [
    {
     "data": {
      "text/plain": [
       "['xin chao',\n",
       " 'xin chao',\n",
       " 'xin chao',\n",
       " 'xin chao',\n",
       " 'xin chao',\n",
       " 'xin chao',\n",
       " 'xin chao',\n",
       " 'xin chao',\n",
       " 'xin chao',\n",
       " 'xin chao',\n",
       " 'xin chao',\n",
       " 'xin chao',\n",
       " 'xin chao',\n",
       " 'xin chao',\n",
       " 'xin chao',\n",
       " 'xin chao',\n",
       " 'xin chao',\n",
       " 'toi rat vui duoc gap cac ban',\n",
       " 'cac ban co khoe khong',\n",
       " 'vui lam',\n",
       " 'vui lam',\n",
       " 'vui lam',\n",
       " 'vui lam',\n",
       " 'vui lam',\n",
       " 'vui lam',\n",
       " 'vui lam',\n",
       " 'vui vui vui vui ghe vui ghe cac ban a']"
      ]
     },
     "execution_count": 36,
     "metadata": {},
     "output_type": "execute_result"
    }
   ],
   "source": [
    "count_text.collect()"
   ]
  },
  {
   "cell_type": "code",
   "execution_count": 43,
   "id": "7e09f8c5-6e1c-4067-bf8d-f4a9664574be",
   "metadata": {},
   "outputs": [],
   "source": [
    "def splitRow(textRow, saveText, listCount):\n",
    "    l = textRow.split(' ')\n",
    "    for text in l:\n",
    "        if text not in saveText:\n",
    "            saveText.append(text)\n",
    "            listCount.append(1)\n",
    "        elif text in saveText:\n",
    "            listCount[saveText.index(text)]+=1"
   ]
  },
  {
   "cell_type": "code",
   "execution_count": 44,
   "id": "64989ab2-23fa-484c-9200-6b54f492da9c",
   "metadata": {
    "tags": []
   },
   "outputs": [],
   "source": [
    "def countText(listText):\n",
    "    saveText, listCount = [], []\n",
    "    for textRow in listText:\n",
    "        splitRow(textRow, saveText, listCount)\n",
    "    return saveText, listCount"
   ]
  },
  {
   "cell_type": "code",
   "execution_count": 45,
   "id": "29f0d8af-1dc7-4edd-8f8b-16de8cd32508",
   "metadata": {
    "tags": []
   },
   "outputs": [],
   "source": [
    "a,b = countText(count_text.collect())"
   ]
  },
  {
   "cell_type": "code",
   "execution_count": 90,
   "id": "c953558d-57ac-4c12-aafa-c2e35a5f8b62",
   "metadata": {},
   "outputs": [
    {
     "name": "stdout",
     "output_type": "stream",
     "text": [
      "['xin', 'chao', 'toi', 'rat', 'vui', 'duoc', 'gap', 'cac', 'ban', 'co', 'khoe', 'khong', 'lam', 'ghe', 'a']\n",
      "[17, 17, 1, 1, 13, 1, 1, 3, 3, 1, 1, 1, 7, 2, 1]\n",
      "['xin,17', 'chao,17', 'toi,1', 'rat,1', 'vui,13', 'duoc,1', 'gap,1', 'cac,3', 'ban,3', 'co,1', 'khoe,1', 'khong,1', 'lam,7', 'ghe,2', 'a,1']\n"
     ]
    }
   ],
   "source": [
    "print(a)\n",
    "print(b)\n",
    "data = list(map(lambda w,c: f'{w},{c}', a, b))\n",
    "print(data)"
   ]
  },
  {
   "cell_type": "code",
   "execution_count": 95,
   "id": "0fb961b4-c1bb-44e2-a108-f7923b0ae35b",
   "metadata": {},
   "outputs": [],
   "source": [
    "rdd = spark.sparkContext.parallelize(data)\n",
    "row_rdd = rdd.map(lambda x: Row(x))\n",
    "#df=sqlContext.createDataFrame(row_rdd,['numbers']).show()\n",
    "#schem = StructType().add('word,count', StringType(), True)\n",
    "df = spark.createDataFrame(data=row_rdd, schema=['word,count'])"
   ]
  },
  {
   "cell_type": "code",
   "execution_count": 96,
   "id": "3a1d0e20-bff4-4cd8-b805-f09d43da060b",
   "metadata": {},
   "outputs": [
    {
     "name": "stdout",
     "output_type": "stream",
     "text": [
      "+----------+\n",
      "|word,count|\n",
      "+----------+\n",
      "|    xin,17|\n",
      "|   chao,17|\n",
      "|     toi,1|\n",
      "|     rat,1|\n",
      "|    vui,13|\n",
      "|    duoc,1|\n",
      "|     gap,1|\n",
      "|     cac,3|\n",
      "|     ban,3|\n",
      "|      co,1|\n",
      "|    khoe,1|\n",
      "|   khong,1|\n",
      "|     lam,7|\n",
      "|     ghe,2|\n",
      "|       a,1|\n",
      "+----------+\n",
      "\n"
     ]
    }
   ],
   "source": [
    "df.show()"
   ]
  },
  {
   "cell_type": "code",
   "execution_count": null,
   "id": "cc975da5-7ff1-44f0-b163-e3490590d472",
   "metadata": {},
   "outputs": [],
   "source": [
    "df.write.format('Avro').save('/user/exercise/solutions/solution05/wordcount')"
   ]
  },
  {
   "cell_type": "code",
   "execution_count": 100,
   "id": "ba174037-4e9c-495a-b586-7bf025b8d5e5",
   "metadata": {},
   "outputs": [
    {
     "name": "stderr",
     "output_type": "stream",
     "text": [
      "2022-01-04 16:41:51,212 WARN metastore.ObjectStore: Failed to get database global_temp, returning NoSuchObjectException\n"
     ]
    }
   ],
   "source": [
    "spark.catalog.setCurrentDatabase('band_retail')"
   ]
  },
  {
   "cell_type": "code",
   "execution_count": 104,
   "id": "07e74a85-dd5d-4340-bc20-f3ac5750b075",
   "metadata": {},
   "outputs": [
    {
     "data": {
      "text/plain": [
       "[Table(name='customers', database='band_retail', description=None, tableType='MANAGED', isTemporary=False)]"
      ]
     },
     "execution_count": 104,
     "metadata": {},
     "output_type": "execute_result"
    }
   ],
   "source": [
    "spark.catalog.listTables()"
   ]
  },
  {
   "cell_type": "code",
   "execution_count": 105,
   "id": "ad36f6ed-9eac-4d5e-bd0d-aca17f86389f",
   "metadata": {},
   "outputs": [
    {
     "name": "stderr",
     "output_type": "stream",
     "text": [
      "[Stage 34:>                                                         (0 + 1) / 1]\r"
     ]
    },
    {
     "name": "stdout",
     "output_type": "stream",
     "text": [
      "+-------------+--------------+--------------+-----------+--------------+--------------------+--------------+---------------+----------------+\n",
      "|customer_city|customer_email|customer_fname|customer_id|customer_lname|   customer_password|customer_state|customer_street|customer_zipcode|\n",
      "+-------------+--------------+--------------+-----------+--------------+--------------------+--------------+---------------+----------------+\n",
      "|            1|       Richard|     Hernandez|       null|     XXXXXXXXX|  6303 Heather Plaza|   Brownsville|             TX|           78521|\n",
      "|            2|          Mary|       Barrett|       null|     XXXXXXXXX|9526 Noble Embers...|     Littleton|             CO|           80126|\n",
      "|            3|           Ann|         Smith|       null|     XXXXXXXXX|3422 Blue Pioneer...|        Caguas|             PR|           00725|\n",
      "|            4|          Mary|         Jones|       null|     XXXXXXXXX|  8324 Little Common|    San Marcos|             CA|           92069|\n",
      "|            5|        Robert|        Hudson|       null|     XXXXXXXXX|\"10 Crystal River...|        Caguas|             PR|           00725|\n",
      "|            6|          Mary|         Smith|       null|     XXXXXXXXX|3151 Sleepy Quail...|       Passaic|             NJ|           07055|\n",
      "|            7|       Melissa|        Wilcox|       null|     XXXXXXXXX|9453 High Concession|        Caguas|             PR|           00725|\n",
      "|            8|         Megan|         Smith|       null|     XXXXXXXXX|3047 Foggy Forest...|      Lawrence|             MA|           01841|\n",
      "|            9|          Mary|         Perez|       null|     XXXXXXXXX| 3616 Quaking Street|        Caguas|             PR|           00725|\n",
      "|           10|       Melissa|         Smith|       null|     XXXXXXXXX|8598 Harvest Beac...|      Stafford|             VA|           22554|\n",
      "|           11|          Mary|       Huffman|       null|     XXXXXXXXX|    3169 Stony Woods|        Caguas|             PR|           00725|\n",
      "|           12|   Christopher|         Smith|       null|     XXXXXXXXX|5594 Jagged Ember...|   San Antonio|             TX|           78227|\n",
      "|           13|          Mary|       Baldwin|       null|     XXXXXXXXX|7922 Iron Oak Gar...|        Caguas|             PR|           00725|\n",
      "|           14|     Katherine|         Smith|       null|     XXXXXXXXX|5666 Hazy Pony Sq...|   Pico Rivera|             CA|           90660|\n",
      "|           15|          Jane|          Luna|       null|     XXXXXXXXX|    673 Burning Glen|       Fontana|             CA|           92336|\n",
      "|           16|       Tiffany|         Smith|       null|     XXXXXXXXX|      6651 Iron Port|        Caguas|             PR|           00725|\n",
      "|           17|          Mary|      Robinson|       null|     XXXXXXXXX|     1325 Noble Pike|        Taylor|             MI|           48180|\n",
      "|           18|        Robert|         Smith|       null|     XXXXXXXXX|2734 Hazy Butterf...|      Martinez|             CA|           94553|\n",
      "|           19|     Stephanie|      Mitchell|       null|     XXXXXXXXX|3543 Red Treasure...|        Caguas|             PR|           00725|\n",
      "|           20|          Mary|         Ellis|       null|     XXXXXXXXX|      4703 Old Route| West New York|             NJ|           07093|\n",
      "+-------------+--------------+--------------+-----------+--------------+--------------------+--------------+---------------+----------------+\n",
      "only showing top 20 rows\n",
      "\n"
     ]
    },
    {
     "name": "stderr",
     "output_type": "stream",
     "text": [
      "                                                                                \r"
     ]
    }
   ],
   "source": [
    "spark.sql(\"SELECT * FROM customers\").show()"
   ]
  },
  {
   "cell_type": "code",
   "execution_count": null,
   "id": "dfaa5b60-ddf4-4bc7-b28d-fb37ff01b64a",
   "metadata": {},
   "outputs": [],
   "source": []
  }
 ],
 "metadata": {
  "kernelspec": {
   "display_name": "Pyspark 3",
   "language": "python",
   "name": "pyspark3"
  },
  "language_info": {
   "codemirror_mode": {
    "name": "ipython",
    "version": 3
   },
   "file_extension": ".py",
   "mimetype": "text/x-python",
   "name": "python",
   "nbconvert_exporter": "python",
   "pygments_lexer": "ipython3",
   "version": "3.8.10"
  }
 },
 "nbformat": 4,
 "nbformat_minor": 5
}
