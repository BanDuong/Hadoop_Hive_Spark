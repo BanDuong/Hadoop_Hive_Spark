{
 "cells": [
  {
   "cell_type": "code",
   "execution_count": 179,
   "id": "b1c8b5a8-d338-4c9a-b679-279a02411123",
   "metadata": {},
   "outputs": [],
   "source": [
    "from pyspark.sql import SparkSession, Row\n",
    "from pyspark.sql.functions import *\n",
    "from pyspark.sql.types import *\n",
    "from pyspark.sql.types import *\n",
    "#from pyspark.sql.window import Window\n",
    "\n",
    "import getpass"
   ]
  },
  {
   "cell_type": "code",
   "execution_count": null,
   "id": "83d71399-77b0-410d-b4fa-fe9c53c1e3b3",
   "metadata": {},
   "outputs": [],
   "source": [
    "userName = getpass.getuser()\n",
    "print(userName)\n",
    "id_user = '1000'"
   ]
  },
  {
   "cell_type": "code",
   "execution_count": null,
   "id": "da73f301-cbc0-4b81-aa94-bfc03186bd06",
   "metadata": {},
   "outputs": [],
   "source": [
    "spark = SparkSession.\\\n",
    "        builder.\\\n",
    "        config(\"spark.ui.port\",\"0\").\\\n",
    "        master(\"yarn\").\\\n",
    "        enableHiveSupport().\\\n",
    "        config(\"spark.sql.warehouse.dir\", f\"/user/{userName}/warehouse\").\\\n",
    "        appName(\"Exercises\").\\\n",
    "        getOrCreate()"
   ]
  },
  {
   "cell_type": "code",
   "execution_count": null,
   "id": "11503b35-5e74-42f7-928d-b79e87d9b80f",
   "metadata": {},
   "outputs": [],
   "source": [
    "spark.conf.set(\"spark.sql.shuffle.partitions\", \"2\")"
   ]
  },
  {
   "cell_type": "code",
   "execution_count": null,
   "id": "14804d6f-ace6-44a7-aec4-2b1dfa51af77",
   "metadata": {},
   "outputs": [],
   "source": [
    "spark.conf.set(\"spark.sql.legacy.timeParserPolicy\", \"LEGACY\")"
   ]
  },
  {
   "cell_type": "code",
   "execution_count": null,
   "id": "3359d0ad-2e43-4f65-88c5-81fa94a85d00",
   "metadata": {},
   "outputs": [],
   "source": [
    "# exercise 1:\n",
    "path = \"/public/crime/csv/Crimes.csv\""
   ]
  },
  {
   "cell_type": "code",
   "execution_count": null,
   "id": "cf2c6f2b-51e9-4105-9a17-90eb46f3a973",
   "metadata": {},
   "outputs": [],
   "source": [
    "'''schema = StructType().\\\n",
    "        add('ID', IntegerType(), True).\\\n",
    "        add('Case Number', StringType(), True).\\\n",
    "        add('Date', StringType(), True).\\\n",
    "        add('Block', StringType(), True).\\\n",
    "        add('IUCR', StringType(), True).\\\n",
    "        add('Primary Type', StringType(), True).\\\n",
    "        add('Description', StringType(), True).\\\n",
    "        add('Location Description' ,StringType(), True).\\\n",
    "        add('Arrest', BooleanType(), True).\\\n",
    "        add('Domestic', BooleanType(), True).\\\n",
    "        add('Beat', StringType(), True).\\\n",
    "        add('District', StringType(), True).\\\n",
    "        add('Ward', IntegerType(), True).\\\n",
    "        add('Community Area', IntegerType(), True).\\\n",
    "        add('FBI code', StringType(), True).\\\n",
    "        add('X Coordinate', LongType(), True).\\\n",
    "        add('Y Coordinate', LongType(), True).\\\n",
    "        add('Year', StringType(), True).\\\n",
    "        add('Updated On', StringType(), True).\\\n",
    "        add('Latitude', FloatType(), True).\\\n",
    "        add('Longitude', FloatType(), True).\\\n",
    "        add('Location', StringType(), True)\n",
    "crimes = spark.read.format('csv').schema(schema).option('header', True).option('inferschema', True).load(path)\n",
    "'''"
   ]
  },
  {
   "cell_type": "code",
   "execution_count": null,
   "id": "49ab08f9-ef25-45f8-bb19-517f0ba20256",
   "metadata": {},
   "outputs": [],
   "source": [
    "crimes= spark.read.csv(path, header=True, inferSchema=True)"
   ]
  },
  {
   "cell_type": "code",
   "execution_count": null,
   "id": "50331d29-e5c4-48ac-a6f3-995ca4d79f0f",
   "metadata": {},
   "outputs": [],
   "source": [
    "crimes.printSchema()"
   ]
  },
  {
   "cell_type": "code",
   "execution_count": null,
   "id": "310a36b2-f019-47e7-92c2-ef0faf697c21",
   "metadata": {},
   "outputs": [],
   "source": [
    "crimes.show(5)"
   ]
  },
  {
   "cell_type": "code",
   "execution_count": null,
   "id": "c3122d27-5b3e-4218-ae98-a98e448891f5",
   "metadata": {},
   "outputs": [],
   "source": [
    "# Get monthly count of primary crime type\n",
    "\n",
    "#crimes.select(split(col(\"Date\"), \"/\")[1].alias(\"month\"), split(split(col(\"Date\"), \"/\")[2], ' ').alias(\"year\")).show(20)\n",
    "tmp_crimes = crimes.withColumn('Date', split(col('Date'), ' ')[0])"
   ]
  },
  {
   "cell_type": "code",
   "execution_count": null,
   "id": "27c5ec23-15e3-40de-9a67-87880916fa8b",
   "metadata": {},
   "outputs": [],
   "source": [
    "print(type(tmp_crimes))"
   ]
  },
  {
   "cell_type": "code",
   "execution_count": null,
   "id": "27ce8262-fcc0-4116-b4c8-da5ea6687142",
   "metadata": {},
   "outputs": [],
   "source": [
    "# sap' xep' theo month tang dan`, count_primary_type giam? dan`\n",
    "tmp = tmp_crimes.groupBy('Date').agg(count('Primary Type').alias('count_primary_type')).sort(asc(split(col('Date'), '/')[0]), desc('count_primary_type'))"
   ]
  },
  {
   "cell_type": "code",
   "execution_count": null,
   "id": "8db034c8-70a8-4bca-9b0e-7f6a442a6556",
   "metadata": {},
   "outputs": [],
   "source": [
    "tmp.show(5)"
   ]
  },
  {
   "cell_type": "code",
   "execution_count": null,
   "id": "4bc279eb-13df-40c7-b218-a4b89c7cd13c",
   "metadata": {},
   "outputs": [],
   "source": [
    "tmp = tmp.withColumn('count_primary_type', col('count_primary_type').cast('STRING'))"
   ]
  },
  {
   "cell_type": "code",
   "execution_count": null,
   "id": "b6472319-ec67-41b1-a613-6486ccbcccdf",
   "metadata": {},
   "outputs": [],
   "source": [
    "tmp.show(5)"
   ]
  },
  {
   "cell_type": "code",
   "execution_count": null,
   "id": "739789ed-7f57-4e5b-8d8c-7425f40e1204",
   "metadata": {},
   "outputs": [],
   "source": [
    "text_path = \"/user/exercise/solutions/solution1/crimes_by_type_by_month\""
   ]
  },
  {
   "cell_type": "code",
   "execution_count": null,
   "id": "9ef5d1e6-a734-49f4-a7d8-f2765c7c9390",
   "metadata": {},
   "outputs": [],
   "source": [
    "head = tmp.select(concat_ws(',', col('Date'), col('count_primary_type')).alias(f'{tmp.columns[0]},{tmp.columns[1]}'))"
   ]
  },
  {
   "cell_type": "code",
   "execution_count": null,
   "id": "db994e89-9517-4fc9-ae64-ca0e2dc4c0db",
   "metadata": {},
   "outputs": [],
   "source": [
    "head.show(5)"
   ]
  },
  {
   "cell_type": "code",
   "execution_count": null,
   "id": "90380c1e-e28a-479b-b895-c36ebc616b89",
   "metadata": {},
   "outputs": [],
   "source": [
    "head.write.text(path=text_path, compression='gzip')"
   ]
  },
  {
   "cell_type": "code",
   "execution_count": null,
   "id": "b32d6bae-5723-4a40-a9e3-38a8a682cfac",
   "metadata": {},
   "outputs": [],
   "source": [
    "#-------------------------------------------ex2----------------------------------#"
   ]
  },
  {
   "cell_type": "code",
   "execution_count": 130,
   "id": "20052067-94c4-4c36-b438-e4a1bd67409b",
   "metadata": {},
   "outputs": [],
   "source": [
    "def extract_txt(path, headers):\n",
    "    text_data = spark.sparkContext.textFile(path)\n",
    "    context = text_data.map(lambda k: k.split(\",\"))\n",
    "    return context.toDF(headers)"
   ]
  },
  {
   "cell_type": "code",
   "execution_count": 131,
   "id": "51bc3a2d-c87a-4816-afce-d1e835135698",
   "metadata": {},
   "outputs": [],
   "source": [
    "path = \"/public/retail_db/orders/part-00000\"\n",
    "headers = ['order_id', 'order_date', 'order_customer_id', 'order_status']\n",
    "orders = extract_txt(path, headers)"
   ]
  },
  {
   "cell_type": "code",
   "execution_count": 132,
   "id": "e738f7d4-1f72-4858-8791-6af8f9aa2bd8",
   "metadata": {},
   "outputs": [
    {
     "name": "stdout",
     "output_type": "stream",
     "text": [
      "root\n",
      " |-- order_id: string (nullable = true)\n",
      " |-- order_date: string (nullable = true)\n",
      " |-- order_customer_id: string (nullable = true)\n",
      " |-- order_status: string (nullable = true)\n",
      "\n"
     ]
    }
   ],
   "source": [
    "orders.printSchema()"
   ]
  },
  {
   "cell_type": "code",
   "execution_count": 133,
   "id": "987f868f-115f-4033-aee5-c887778c851a",
   "metadata": {},
   "outputs": [
    {
     "name": "stdout",
     "output_type": "stream",
     "text": [
      "+--------+--------------------+-----------------+---------------+\n",
      "|order_id|          order_date|order_customer_id|   order_status|\n",
      "+--------+--------------------+-----------------+---------------+\n",
      "|       1|2013-07-25 00:00:...|            11599|         CLOSED|\n",
      "|       2|2013-07-25 00:00:...|              256|PENDING_PAYMENT|\n",
      "|       3|2013-07-25 00:00:...|            12111|       COMPLETE|\n",
      "|       4|2013-07-25 00:00:...|             8827|         CLOSED|\n",
      "|       5|2013-07-25 00:00:...|            11318|       COMPLETE|\n",
      "+--------+--------------------+-----------------+---------------+\n",
      "only showing top 5 rows\n",
      "\n"
     ]
    }
   ],
   "source": [
    "orders.show(5)"
   ]
  },
  {
   "cell_type": "code",
   "execution_count": null,
   "id": "53c66f40-cbb0-43d9-a16b-1e95b8e66ebb",
   "metadata": {
    "tags": []
   },
   "outputs": [],
   "source": [
    "spark.sql(\"DESCRIBE TABLE customers\")"
   ]
  },
  {
   "cell_type": "code",
   "execution_count": 139,
   "id": "722eed66-8a1a-4c57-b56b-d3077113b6d9",
   "metadata": {},
   "outputs": [],
   "source": [
    "spark.catalog.setCurrentDatabase('band_retail')"
   ]
  },
  {
   "cell_type": "code",
   "execution_count": 141,
   "id": "cdf83207-522b-4f81-b2de-54acd10e3e59",
   "metadata": {},
   "outputs": [],
   "source": [
    "customers = spark.sql(\"SELECT * FROM customers\")"
   ]
  },
  {
   "cell_type": "code",
   "execution_count": 142,
   "id": "201228b1-df76-44d7-8ffa-a2640f80486a",
   "metadata": {},
   "outputs": [
    {
     "name": "stdout",
     "output_type": "stream",
     "text": [
      "root\n",
      " |-- customer_city: string (nullable = true)\n",
      " |-- customer_email: string (nullable = true)\n",
      " |-- customer_fname: string (nullable = true)\n",
      " |-- customer_id: integer (nullable = true)\n",
      " |-- customer_lname: string (nullable = true)\n",
      " |-- customer_password: string (nullable = true)\n",
      " |-- customer_state: string (nullable = true)\n",
      " |-- customer_street: string (nullable = true)\n",
      " |-- customer_zipcode: string (nullable = true)\n",
      "\n"
     ]
    }
   ],
   "source": [
    "customers.printSchema()"
   ]
  },
  {
   "cell_type": "code",
   "execution_count": 155,
   "id": "bdf664d5-2910-424b-8959-5bbea40f9ca5",
   "metadata": {},
   "outputs": [],
   "source": [
    "customers = spark.sql(\"SELECT * FROM customers\")"
   ]
  },
  {
   "cell_type": "code",
   "execution_count": null,
   "id": "e84b5bec-8901-487f-afad-8a03f2dddc3f",
   "metadata": {},
   "outputs": [],
   "source": [
    "customers.show()"
   ]
  },
  {
   "cell_type": "code",
   "execution_count": 168,
   "id": "089206c1-ea96-4e7f-9ba1-4ed9561d6106",
   "metadata": {},
   "outputs": [],
   "source": [
    "filter_not_order = orders.join(customers, on=customers.customer_id != orders.order_customer_id).sort('customer_lname', 'customer_fname')"
   ]
  },
  {
   "cell_type": "code",
   "execution_count": 177,
   "id": "434ee0e3-5d21-4e6f-97ef-c0ec449f67a7",
   "metadata": {},
   "outputs": [],
   "source": [
    "counting = crimes.groupby('Primary Type').count().sort(desc('count'))"
   ]
  },
  {
   "cell_type": "code",
   "execution_count": 178,
   "id": "6995075e-8ba4-46b9-a0ff-39e8f638eb56",
   "metadata": {},
   "outputs": [
    {
     "name": "stderr",
     "output_type": "stream",
     "text": [
      "[Stage 105:===================================================>   (13 + 1) / 14]\r"
     ]
    },
    {
     "name": "stdout",
     "output_type": "stream",
     "text": [
      "+---------------+-------+\n",
      "|   Primary Type|  count|\n",
      "+---------------+-------+\n",
      "|          THEFT|1570224|\n",
      "|        BATTERY|1368734|\n",
      "|CRIMINAL DAMAGE| 850873|\n",
      "|      NARCOTICS| 740084|\n",
      "|        ASSAULT| 479748|\n",
      "+---------------+-------+\n",
      "only showing top 5 rows\n",
      "\n"
     ]
    },
    {
     "name": "stderr",
     "output_type": "stream",
     "text": [
      "                                                                                \r"
     ]
    }
   ],
   "source": [
    "counting.show(5)"
   ]
  },
  {
   "cell_type": "code",
   "execution_count": 173,
   "id": "dcf1aea1-deed-4c9d-9d61-8d682ff231a8",
   "metadata": {},
   "outputs": [
    {
     "name": "stdout",
     "output_type": "stream",
     "text": [
      "root\n",
      " |-- Primary Type: string (nullable = true)\n",
      " |-- count: long (nullable = false)\n",
      "\n"
     ]
    }
   ],
   "source": [
    "counting.printSchema()"
   ]
  },
  {
   "cell_type": "code",
   "execution_count": 182,
   "id": "17a7c44e-b1c6-4215-8f79-121db01adea3",
   "metadata": {},
   "outputs": [],
   "source": [
    "#--------------------ex4---------------------------------------#"
   ]
  },
  {
   "cell_type": "code",
   "execution_count": null,
   "id": "c3a66eaf-f949-43aa-8843-56f7936a313d",
   "metadata": {},
   "outputs": [],
   "source": []
  }
 ],
 "metadata": {
  "kernelspec": {
   "display_name": "Pyspark 3",
   "language": "python",
   "name": "pyspark3"
  },
  "language_info": {
   "codemirror_mode": {
    "name": "ipython",
    "version": 3
   },
   "file_extension": ".py",
   "mimetype": "text/x-python",
   "name": "python",
   "nbconvert_exporter": "python",
   "pygments_lexer": "ipython3",
   "version": "3.8.10"
  }
 },
 "nbformat": 4,
 "nbformat_minor": 5
}
