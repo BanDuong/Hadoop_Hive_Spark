{
 "cells": [
  {
   "cell_type": "code",
   "execution_count": 3,
   "id": "e319673f-eded-4da5-82bb-e72f30c2b842",
   "metadata": {},
   "outputs": [],
   "source": [
    "from pyspark.sql import SparkSession\n",
    "import getpass"
   ]
  },
  {
   "cell_type": "code",
   "execution_count": 4,
   "id": "9149d0ab-46b4-4cad-9cb2-014b76840422",
   "metadata": {},
   "outputs": [
    {
     "name": "stdout",
     "output_type": "stream",
     "text": [
      "band\n"
     ]
    }
   ],
   "source": [
    "userName = getpass.getuser()\n",
    "print(userName)"
   ]
  },
  {
   "cell_type": "code",
   "execution_count": null,
   "id": "8dd96fb4-797e-4f7b-827a-927fe1b05d3f",
   "metadata": {},
   "outputs": [
    {
     "name": "stderr",
     "output_type": "stream",
     "text": [
      "Setting default log level to \"WARN\".\n",
      "To adjust logging level use sc.setLogLevel(newLevel). For SparkR, use setLogLevel(newLevel).\n",
      "2021-12-28 09:46:15,609 WARN util.NativeCodeLoader: Unable to load native-hadoop library for your platform... using builtin-java classes where applicable\n"
     ]
    }
   ],
   "source": [
    "spark = SparkSession.\\\n",
    "        builder.\\\n",
    "        config(\"spark.ui.port\",\"0\").\\\n",
    "        master(\"yarn\").\\\n",
    "        enableHiveSupport().\\\n",
    "        config(\"spark.sql.warehouse.dir\", f\"/user/{userName}/warehouse\").\\\n",
    "        appName(\"Section1516\").\\\n",
    "        getOrCreate()"
   ]
  },
  {
   "cell_type": "code",
   "execution_count": 4,
   "id": "e70be751-d280-46f5-b625-544384b3949d",
   "metadata": {},
   "outputs": [],
   "source": [
    "employees = [(1, \"Scott\", \"Tiger\", 1000.0, \n",
    "                      \"united states\", \"+1 123 456 7890\", \"123 45 6789\"\n",
    "                     ),\n",
    "                     (2, \"Henry\", \"Ford\", 1250.0, \n",
    "                      \"India\", \"+91 234 567 8901\", \"456 78 9123\"\n",
    "                     ),\n",
    "                     (3, \"Nick\", \"Junior\", 750.0, \n",
    "                      \"united KINGDOM\", \"+44 111 111 1111\", \"222 33 4444\"\n",
    "                     ),\n",
    "                     (4, \"Bill\", \"Gomes\", 1500.0, \n",
    "                      \"AUSTRALIA\", \"+61 987 654 3210\", \"789 12 6118\"\n",
    "                     )\n",
    "                ]"
   ]
  },
  {
   "cell_type": "code",
   "execution_count": 5,
   "id": "361a0d4f-5251-42f5-b173-789e9c5a035d",
   "metadata": {},
   "outputs": [
    {
     "name": "stdout",
     "output_type": "stream",
     "text": [
      "[(1, 'Scott', 'Tiger', 1000.0, 'united states', '+1 123 456 7890', '123 45 6789'), (2, 'Henry', 'Ford', 1250.0, 'India', '+91 234 567 8901', '456 78 9123'), (3, 'Nick', 'Junior', 750.0, 'united KINGDOM', '+44 111 111 1111', '222 33 4444'), (4, 'Bill', 'Gomes', 1500.0, 'AUSTRALIA', '+61 987 654 3210', '789 12 6118')]\n"
     ]
    }
   ],
   "source": [
    "print(employees)"
   ]
  },
  {
   "cell_type": "code",
   "execution_count": 6,
   "id": "fd5f5845-7ec5-412e-bab9-cf0a4ca703c2",
   "metadata": {},
   "outputs": [],
   "source": [
    "employeesDF = spark. \\\n",
    "    createDataFrame(employees,\n",
    "                    schema=\"\"\"employee_id INT, first_name STRING, \n",
    "                    last_name STRING, salary FLOAT, nationality STRING,\n",
    "                    phone_number STRING, ssn STRING\"\"\"\n",
    "                   )"
   ]
  },
  {
   "cell_type": "code",
   "execution_count": 7,
   "id": "2f63b2b0-6297-4ebb-8522-b294e8a5a98e",
   "metadata": {},
   "outputs": [
    {
     "name": "stdout",
     "output_type": "stream",
     "text": [
      "root\n",
      " |-- employee_id: integer (nullable = true)\n",
      " |-- first_name: string (nullable = true)\n",
      " |-- last_name: string (nullable = true)\n",
      " |-- salary: float (nullable = true)\n",
      " |-- nationality: string (nullable = true)\n",
      " |-- phone_number: string (nullable = true)\n",
      " |-- ssn: string (nullable = true)\n",
      "\n"
     ]
    }
   ],
   "source": [
    "employeesDF.printSchema()"
   ]
  },
  {
   "cell_type": "code",
   "execution_count": 8,
   "id": "d50e48f9-ab43-4774-8040-c799aae0c7eb",
   "metadata": {},
   "outputs": [
    {
     "name": "stderr",
     "output_type": "stream",
     "text": [
      "                                                                                \r"
     ]
    },
    {
     "name": "stdout",
     "output_type": "stream",
     "text": [
      "+-----------+----------+---------+------+--------------+----------------+-----------+\n",
      "|employee_id|first_name|last_name|salary|nationality   |phone_number    |ssn        |\n",
      "+-----------+----------+---------+------+--------------+----------------+-----------+\n",
      "|1          |Scott     |Tiger    |1000.0|united states |+1 123 456 7890 |123 45 6789|\n",
      "|2          |Henry     |Ford     |1250.0|India         |+91 234 567 8901|456 78 9123|\n",
      "|3          |Nick      |Junior   |750.0 |united KINGDOM|+44 111 111 1111|222 33 4444|\n",
      "|4          |Bill      |Gomes    |1500.0|AUSTRALIA     |+61 987 654 3210|789 12 6118|\n",
      "+-----------+----------+---------+------+--------------+----------------+-----------+\n",
      "\n"
     ]
    }
   ],
   "source": [
    "employeesDF.show(truncate=False)"
   ]
  },
  {
   "cell_type": "code",
   "execution_count": 9,
   "id": "b1f7bf6f-ef4c-4180-9e8b-0f20990d4d7a",
   "metadata": {},
   "outputs": [],
   "source": [
    "from pyspark.sql.functions import *"
   ]
  },
  {
   "cell_type": "code",
   "execution_count": 10,
   "id": "e91d0ee6-d6fb-4bb4-93e8-9c502f6b702e",
   "metadata": {},
   "outputs": [
    {
     "name": "stdout",
     "output_type": "stream",
     "text": [
      "+-----------+----------------+-----------+-----------+---------+\n",
      "|employee_id|    phone_number|        ssn|phone_last4|ssn_last4|\n",
      "+-----------+----------------+-----------+-----------+---------+\n",
      "|          1| +1 123 456 7890|123 45 6789|       7890|     6789|\n",
      "|          2|+91 234 567 8901|456 78 9123|       8901|     9123|\n",
      "|          3|+44 111 111 1111|222 33 4444|       1111|     4444|\n",
      "|          4|+61 987 654 3210|789 12 6118|       3210|     6118|\n",
      "+-----------+----------------+-----------+-----------+---------+\n",
      "\n"
     ]
    }
   ],
   "source": [
    "employeesDF. \\\n",
    "    select(\"employee_id\", \"phone_number\", \"ssn\"). \\\n",
    "    withColumn(\"phone_last4\", substring(col(\"phone_number\"), -4, 4).cast(\"int\")). \\\n",
    "    withColumn(\"ssn_last4\", substring(col(\"ssn\"), 8, 4).cast(\"int\")). \\\n",
    "    show()"
   ]
  },
  {
   "cell_type": "code",
   "execution_count": 18,
   "id": "31c3cdc6-64fb-40dc-bfbe-99ef150a7a2c",
   "metadata": {},
   "outputs": [
    {
     "name": "stdout",
     "output_type": "stream",
     "text": [
      "+------+\n",
      "|number|\n",
      "+------+\n",
      "|     1|\n",
      "|     2|\n",
      "+------+\n",
      "\n"
     ]
    }
   ],
   "source": [
    "x = [(1,),(2,),]\n",
    "d = spark.createDataFrame(x, schema=\"number INT\")\n",
    "d.show()"
   ]
  },
  {
   "cell_type": "code",
   "execution_count": 23,
   "id": "d04df121-0ace-4175-8dc4-2e78d24bff3a",
   "metadata": {},
   "outputs": [],
   "source": [
    "employees = [(1, \"Scott\", \"Tiger\", 1000.0, \n",
    "                      \"united states\", \"+1 123 456 7890\", \"123 45 6789\"\n",
    "                     ),\n",
    "                     (2, \"Henry\", \"Ford\", 1250.0, \n",
    "                      \"India\", \"+91 234 567 8901\", \"456 78 9123\"\n",
    "                     ),\n",
    "                     (3, \"Nick\", \"Junior\", 750.0, \n",
    "                      \"united states\", \"+44 111 111 1111\", \"222 33 4444\"\n",
    "                     ),\n",
    "                     (4, \"Bill\", \"Gomes\", 1500.0, \n",
    "                      \"AUSTRALIA\", \"+61 987 654 3210\", \"789 12 6118\"\n",
    "                     )\n",
    "                ]"
   ]
  },
  {
   "cell_type": "code",
   "execution_count": 24,
   "id": "eebeab3b-0a28-4cc3-ab13-0fbf30c7d5cd",
   "metadata": {},
   "outputs": [],
   "source": [
    "employeesDF = spark. \\\n",
    "    createDataFrame(employees,\n",
    "                    schema=\"\"\"employee_id INT, first_name STRING, \n",
    "                    last_name STRING, salary FLOAT, nationality STRING,\n",
    "                    phone_number STRING, ssn STRING\"\"\"\n",
    "                   )"
   ]
  },
  {
   "cell_type": "code",
   "execution_count": 25,
   "id": "d1ee4407-e826-4499-bb60-50eed6d46d4e",
   "metadata": {},
   "outputs": [
    {
     "name": "stdout",
     "output_type": "stream",
     "text": [
      "+-----------+----------+---------+------+-------------+----------------+-----------+\n",
      "|employee_id|first_name|last_name|salary|  nationality|    phone_number|        ssn|\n",
      "+-----------+----------+---------+------+-------------+----------------+-----------+\n",
      "|          1|     Scott|    Tiger|1000.0|united states| +1 123 456 7890|123 45 6789|\n",
      "|          2|     Henry|     Ford|1250.0|        India|+91 234 567 8901|456 78 9123|\n",
      "|          3|      Nick|   Junior| 750.0|united states|+44 111 111 1111|222 33 4444|\n",
      "|          4|      Bill|    Gomes|1500.0|    AUSTRALIA|+61 987 654 3210|789 12 6118|\n",
      "+-----------+----------+---------+------+-------------+----------------+-----------+\n",
      "\n"
     ]
    }
   ],
   "source": [
    "employeesDF. \\\n",
    "    select(\"*\"). \\\n",
    "    show()"
   ]
  },
  {
   "cell_type": "code",
   "execution_count": 71,
   "id": "a966d48b-1a25-4dc5-824e-23aa5d8d61dd",
   "metadata": {},
   "outputs": [
    {
     "name": "stdout",
     "output_type": "stream",
     "text": [
      "+-------------+-----+\n",
      "|  nationality|count|\n",
      "+-------------+-----+\n",
      "|    AUSTRALIA|    1|\n",
      "|        India|    1|\n",
      "|united states|    2|\n",
      "+-------------+-----+\n",
      "\n"
     ]
    }
   ],
   "source": [
    "employeesDF. \\\n",
    "    groupBy(col(\"nationality\")). \\\n",
    "    count(). \\\n",
    "    orderBy(col(\"nationality\").asc()). \\\n",
    "    show()"
   ]
  },
  {
   "cell_type": "code",
   "execution_count": null,
   "id": "55ecb7ae-e8a6-4680-97fe-81e928f50018",
   "metadata": {},
   "outputs": [],
   "source": [
    "spark.sql(\"CREATE DATABASE company\")"
   ]
  },
  {
   "cell_type": "code",
   "execution_count": 32,
   "id": "d16e17dd-daea-4886-9132-8da97468d68f",
   "metadata": {},
   "outputs": [
    {
     "data": {
      "text/html": [
       "<table border='1'>\n",
       "<tr><th></th></tr>\n",
       "</table>\n"
      ],
      "text/plain": [
       "++\n",
       "||\n",
       "++\n",
       "++"
      ]
     },
     "execution_count": 32,
     "metadata": {},
     "output_type": "execute_result"
    }
   ],
   "source": [
    "spark.sql(\"USE company\")"
   ]
  },
  {
   "cell_type": "code",
   "execution_count": 52,
   "id": "f6c7cbb1-4832-4298-b042-cb33f11a71a5",
   "metadata": {},
   "outputs": [
    {
     "data": {
      "text/html": [
       "<table border='1'>\n",
       "<tr><th>current_database()</th></tr>\n",
       "<tr><td>company</td></tr>\n",
       "</table>\n"
      ],
      "text/plain": [
       "+------------------+\n",
       "|current_database()|\n",
       "+------------------+\n",
       "|           company|\n",
       "+------------------+"
      ]
     },
     "execution_count": 52,
     "metadata": {},
     "output_type": "execute_result"
    }
   ],
   "source": [
    "spark.sql(\"SELECT CURRENT_DATABASE()\")"
   ]
  },
  {
   "cell_type": "code",
   "execution_count": null,
   "id": "ac19fde6-caea-43e0-9c9f-fbc1e0769bb2",
   "metadata": {},
   "outputs": [],
   "source": [
    "spark.sql(\"\"\"\n",
    "        CREATE TABLE employees(\n",
    "            employee_id INT,\n",
    "            first_name STRING, \n",
    "            last_name STRING,\n",
    "            salary FLOAT,\n",
    "            nationality STRING,\n",
    "            phone_number STRING,\n",
    "            ssn STRING\n",
    "        )\n",
    "          \"\"\")"
   ]
  },
  {
   "cell_type": "code",
   "execution_count": 55,
   "id": "d2469d18-448c-4c8c-bcc1-d660fadfc024",
   "metadata": {},
   "outputs": [
    {
     "data": {
      "text/html": [
       "<table border='1'>\n",
       "<tr><th>namespace</th><th>tableName</th><th>isTemporary</th></tr>\n",
       "<tr><td>company</td><td>employees</td><td>false</td></tr>\n",
       "<tr><td>company</td><td>staff</td><td>false</td></tr>\n",
       "</table>\n"
      ],
      "text/plain": [
       "+---------+---------+-----------+\n",
       "|namespace|tableName|isTemporary|\n",
       "+---------+---------+-----------+\n",
       "|  company|employees|      false|\n",
       "|  company|    staff|      false|\n",
       "+---------+---------+-----------+"
      ]
     },
     "execution_count": 55,
     "metadata": {},
     "output_type": "execute_result"
    }
   ],
   "source": [
    "spark.sql(\"SHOW TABLES\")"
   ]
  },
  {
   "cell_type": "code",
   "execution_count": 54,
   "id": "f3293c9c-cfe4-40bd-b129-442640fb88fe",
   "metadata": {},
   "outputs": [
    {
     "name": "stderr",
     "output_type": "stream",
     "text": [
      "                                                                                \r"
     ]
    }
   ],
   "source": [
    "employeesDF.write.saveAsTable('staff')"
   ]
  },
  {
   "cell_type": "code",
   "execution_count": 63,
   "id": "d0d4d9b6-0716-4a89-959f-d3b93ff26d90",
   "metadata": {},
   "outputs": [],
   "source": [
    "a = spark.sql(\"SELECT * FROM staff\")"
   ]
  },
  {
   "cell_type": "code",
   "execution_count": 64,
   "id": "2303fa69-38d5-4939-9057-5af47d79eb0e",
   "metadata": {},
   "outputs": [
    {
     "name": "stdout",
     "output_type": "stream",
     "text": [
      "<class 'pyspark.sql.dataframe.DataFrame'>\n"
     ]
    }
   ],
   "source": [
    "print(type(a))"
   ]
  },
  {
   "cell_type": "code",
   "execution_count": 65,
   "id": "95c5f83a-5de0-4d3b-b16d-f4f73fda125f",
   "metadata": {},
   "outputs": [],
   "source": [
    "dff = spark.table('staff')"
   ]
  },
  {
   "cell_type": "code",
   "execution_count": 66,
   "id": "86718723-ac43-4d42-bfed-7e58ac8df8ad",
   "metadata": {},
   "outputs": [
    {
     "data": {
      "text/html": [
       "<table border='1'>\n",
       "<tr><th>employee_id</th><th>first_name</th><th>last_name</th><th>salary</th><th>nationality</th><th>phone_number</th><th>ssn</th></tr>\n",
       "<tr><td>3</td><td>Nick</td><td>Junior</td><td>750.0</td><td>united states</td><td>+44 111 111 1111</td><td>222 33 4444</td></tr>\n",
       "<tr><td>4</td><td>Bill</td><td>Gomes</td><td>1500.0</td><td>AUSTRALIA</td><td>+61 987 654 3210</td><td>789 12 6118</td></tr>\n",
       "<tr><td>1</td><td>Scott</td><td>Tiger</td><td>1000.0</td><td>united states</td><td>+1 123 456 7890</td><td>123 45 6789</td></tr>\n",
       "<tr><td>2</td><td>Henry</td><td>Ford</td><td>1250.0</td><td>India</td><td>+91 234 567 8901</td><td>456 78 9123</td></tr>\n",
       "</table>\n"
      ],
      "text/plain": [
       "+-----------+----------+---------+------+-------------+----------------+-----------+\n",
       "|employee_id|first_name|last_name|salary|  nationality|    phone_number|        ssn|\n",
       "+-----------+----------+---------+------+-------------+----------------+-----------+\n",
       "|          3|      Nick|   Junior| 750.0|united states|+44 111 111 1111|222 33 4444|\n",
       "|          4|      Bill|    Gomes|1500.0|    AUSTRALIA|+61 987 654 3210|789 12 6118|\n",
       "|          1|     Scott|    Tiger|1000.0|united states| +1 123 456 7890|123 45 6789|\n",
       "|          2|     Henry|     Ford|1250.0|        India|+91 234 567 8901|456 78 9123|\n",
       "+-----------+----------+---------+------+-------------+----------------+-----------+"
      ]
     },
     "metadata": {},
     "output_type": "display_data"
    }
   ],
   "source": [
    "display(dff)"
   ]
  },
  {
   "cell_type": "code",
   "execution_count": 82,
   "id": "d9582114-cf1e-4d86-9d7a-94dbacb5ccdb",
   "metadata": {},
   "outputs": [
    {
     "name": "stdout",
     "output_type": "stream",
     "text": [
      "+----------+--------------------+\n",
      "|  date_now|            time_now|\n",
      "+----------+--------------------+\n",
      "|2021-12-27|2021-12-27 11:27:...|\n",
      "|2021-12-27|2021-12-27 11:27:...|\n",
      "|2021-12-27|2021-12-27 11:27:...|\n",
      "|2021-12-27|2021-12-27 11:27:...|\n",
      "+----------+--------------------+\n",
      "\n"
     ]
    }
   ],
   "source": [
    "employeesDF.select(current_date().alias('date_now'), current_timestamp().alias('time_now')).show()"
   ]
  },
  {
   "cell_type": "code",
   "execution_count": 199,
   "id": "76ee886a-7760-49d9-8325-856b5f28864a",
   "metadata": {},
   "outputs": [
    {
     "name": "stdout",
     "output_type": "stream",
     "text": [
      "+----------+\n",
      "|      date|\n",
      "+----------+\n",
      "|2021-01-12|\n",
      "|2021-01-12|\n",
      "|2021-01-12|\n",
      "|2021-01-12|\n",
      "+----------+\n",
      "\n"
     ]
    }
   ],
   "source": [
    "employeesDF.select(to_date(lit('20211212'), 'yyyymmdd').alias('date')).show()"
   ]
  },
  {
   "cell_type": "code",
   "execution_count": 100,
   "id": "3ecda2bd-199b-4f45-afe6-4c883c936424",
   "metadata": {},
   "outputs": [],
   "source": [
    "datetimes = [(\"2014-02-28\", \"2014-02-28 10:00:00.123\"),\n",
    "                     (\"2016-02-29\", \"2016-02-29 08:08:08.999\"),\n",
    "                     (\"2017-10-31\", \"2017-12-31 11:59:59.123\"),\n",
    "                     (\"2019-11-30\", \"2019-08-31 00:00:00.000\")\n",
    "                ]"
   ]
  },
  {
   "cell_type": "code",
   "execution_count": 101,
   "id": "0c60c7ec-2df4-4ed0-9c5a-9144ea7bd698",
   "metadata": {},
   "outputs": [],
   "source": [
    "datetimesDF = spark.createDataFrame(datetimes, schema=\"date STRING, time STRING\")"
   ]
  },
  {
   "cell_type": "code",
   "execution_count": 103,
   "id": "21fc8d46-d07f-4e74-acd1-b99d61c73aad",
   "metadata": {},
   "outputs": [
    {
     "name": "stdout",
     "output_type": "stream",
     "text": [
      "+----------+-----------------------+\n",
      "|date      |time                   |\n",
      "+----------+-----------------------+\n",
      "|2014-02-28|2014-02-28 10:00:00.123|\n",
      "|2016-02-29|2016-02-29 08:08:08.999|\n",
      "|2017-10-31|2017-12-31 11:59:59.123|\n",
      "|2019-11-30|2019-08-31 00:00:00.000|\n",
      "+----------+-----------------------+\n",
      "\n"
     ]
    }
   ],
   "source": [
    "datetimesDF.show(truncate=False)"
   ]
  },
  {
   "cell_type": "code",
   "execution_count": 104,
   "id": "c00ef3b9-fe6e-4147-9d06-edea480c2ffb",
   "metadata": {},
   "outputs": [
    {
     "name": "stdout",
     "output_type": "stream",
     "text": [
      "+----------+--------------------+-------------+-------------+-------------+-------------+\n",
      "|      date|                time|date_add_date|date_add_time|date_sub_date|date_sub_time|\n",
      "+----------+--------------------+-------------+-------------+-------------+-------------+\n",
      "|2014-02-28|2014-02-28 10:00:...|   2014-03-10|   2014-03-10|   2014-02-18|   2014-02-18|\n",
      "|2016-02-29|2016-02-29 08:08:...|   2016-03-10|   2016-03-10|   2016-02-19|   2016-02-19|\n",
      "|2017-10-31|2017-12-31 11:59:...|   2017-11-10|   2018-01-10|   2017-10-21|   2017-12-21|\n",
      "|2019-11-30|2019-08-31 00:00:...|   2019-12-10|   2019-09-10|   2019-11-20|   2019-08-21|\n",
      "+----------+--------------------+-------------+-------------+-------------+-------------+\n",
      "\n"
     ]
    }
   ],
   "source": [
    "datetimesDF. \\\n",
    "    withColumn(\"date_add_date\", date_add(\"date\", 10)). \\\n",
    "    withColumn(\"date_add_time\", date_add(\"time\", 10)). \\\n",
    "    withColumn(\"date_sub_date\", date_sub(\"date\", 10)). \\\n",
    "    withColumn(\"date_sub_time\", date_sub(\"time\", 10)). \\\n",
    "    show()"
   ]
  },
  {
   "cell_type": "code",
   "execution_count": 105,
   "id": "815193bd-36dc-4d34-83f8-323e0ced5406",
   "metadata": {},
   "outputs": [
    {
     "name": "stdout",
     "output_type": "stream",
     "text": [
      "+----------+--------------------+-------------+-------------+\n",
      "|      date|                time|datediff_date|datediff_time|\n",
      "+----------+--------------------+-------------+-------------+\n",
      "|2014-02-28|2014-02-28 10:00:...|         2859|         2859|\n",
      "|2016-02-29|2016-02-29 08:08:...|         2128|         2128|\n",
      "|2017-10-31|2017-12-31 11:59:...|         1518|         1457|\n",
      "|2019-11-30|2019-08-31 00:00:...|          758|          849|\n",
      "+----------+--------------------+-------------+-------------+\n",
      "\n"
     ]
    }
   ],
   "source": [
    "datetimesDF. \\\n",
    "    withColumn(\"datediff_date\", datediff(current_date(), \"date\")). \\\n",
    "    withColumn(\"datediff_time\", datediff(current_timestamp(), \"time\")). \\\n",
    "    show()"
   ]
  },
  {
   "cell_type": "code",
   "execution_count": 106,
   "id": "b8a95c3f-70fd-4be3-8ebd-c6c157b112d6",
   "metadata": {},
   "outputs": [
    {
     "name": "stdout",
     "output_type": "stream",
     "text": [
      "+----------+-----------------------+-------------------+-------------------+---------------+---------------+\n",
      "|date      |time                   |months_between_date|months_between_time|add_months_date|add_months_time|\n",
      "+----------+-----------------------+-------------------+-------------------+---------------+---------------+\n",
      "|2014-02-28|2014-02-28 10:00:00.123|93.97              |93.97              |2014-05-28     |2014-05-28     |\n",
      "|2016-02-29|2016-02-29 08:08:08.999|69.94              |69.94              |2016-05-29     |2016-05-29     |\n",
      "|2017-10-31|2017-12-31 11:59:59.123|49.87              |47.87              |2018-01-31     |2018-03-31     |\n",
      "|2019-11-30|2019-08-31 00:00:00.000|24.9               |27.89              |2020-02-29     |2019-11-30     |\n",
      "+----------+-----------------------+-------------------+-------------------+---------------+---------------+\n",
      "\n"
     ]
    }
   ],
   "source": [
    "datetimesDF. \\\n",
    "    withColumn(\"months_between_date\", round(months_between(current_date(), \"date\"), 2)). \\\n",
    "    withColumn(\"months_between_time\", round(months_between(current_timestamp(), \"time\"), 2)). \\\n",
    "    withColumn(\"add_months_date\", add_months(\"date\", 3)). \\\n",
    "    withColumn(\"add_months_time\", add_months(\"time\", 3)). \\\n",
    "    show(truncate=False)"
   ]
  },
  {
   "cell_type": "code",
   "execution_count": 107,
   "id": "52d69f42-cfb3-4a32-9839-aaf2ed4e217f",
   "metadata": {},
   "outputs": [],
   "source": [
    "employee2 = [(1, \"Scott\", \"Tiger\", 1000.0, 10,\n",
    "                      \"united states\", \"+1 123 456 7890\", \"123 45 6789\"\n",
    "                     ),\n",
    "                     (2, \"Henry\", \"Ford\", 1250.0, None,\n",
    "                      \"India\", \"+91 234 567 8901\", \"456 78 9123\"\n",
    "                     ),\n",
    "                     (3, \"Nick\", \"Junior\", 750.0, '',\n",
    "                      \"united KINGDOM\", \"+44 111 111 1111\", \"222 33 4444\"\n",
    "                     ),\n",
    "                     (4, \"Bill\", \"Gomes\", 1500.0, 10,\n",
    "                      \"AUSTRALIA\", \"+61 987 654 3210\", \"789 12 6118\"\n",
    "                     )\n",
    "                ]"
   ]
  },
  {
   "cell_type": "code",
   "execution_count": 108,
   "id": "1bf9d353-5168-45d1-81e9-081f8e050520",
   "metadata": {},
   "outputs": [],
   "source": [
    "employeesDF2 = spark. \\\n",
    "    createDataFrame(employee2,\n",
    "                    schema=\"\"\"employee_id INT, first_name STRING, \n",
    "                    last_name STRING, salary FLOAT, bonus STRING, nationality STRING,\n",
    "                    phone_number STRING, ssn STRING\"\"\"\n",
    "                   )"
   ]
  },
  {
   "cell_type": "code",
   "execution_count": 110,
   "id": "94e5f27e-fbe4-4790-aaf5-014dde04bd56",
   "metadata": {},
   "outputs": [
    {
     "name": "stdout",
     "output_type": "stream",
     "text": [
      "+-----------+----------+---------+------+-----+--------------+----------------+-----------+\n",
      "|employee_id|first_name|last_name|salary|bonus|   nationality|    phone_number|        ssn|\n",
      "+-----------+----------+---------+------+-----+--------------+----------------+-----------+\n",
      "|          1|     Scott|    Tiger|1000.0|   10| united states| +1 123 456 7890|123 45 6789|\n",
      "|          2|     Henry|     Ford|1250.0| null|         India|+91 234 567 8901|456 78 9123|\n",
      "|          3|      Nick|   Junior| 750.0|     |united KINGDOM|+44 111 111 1111|222 33 4444|\n",
      "|          4|      Bill|    Gomes|1500.0|   10|     AUSTRALIA|+61 987 654 3210|789 12 6118|\n",
      "+-----------+----------+---------+------+-----+--------------+----------------+-----------+\n",
      "\n"
     ]
    }
   ],
   "source": [
    "employeesDF2.show()"
   ]
  },
  {
   "cell_type": "code",
   "execution_count": 178,
   "id": "7dedfbd7-b505-4231-8e09-c22561931da0",
   "metadata": {},
   "outputs": [
    {
     "name": "stdout",
     "output_type": "stream",
     "text": [
      "+-----------+----------+---------+------+-----+-------------+----------------+-----------+\n",
      "|employee_id|first_name|last_name|salary|bonus|  nationality|    phone_number|        ssn|\n",
      "+-----------+----------+---------+------+-----+-------------+----------------+-----------+\n",
      "|          1|     Scott|    Tiger|1000.0| 20.0|united states| +1 123 456 7890|123 45 6789|\n",
      "|          4|      Bill|    Gomes|1500.0| 20.0|    AUSTRALIA|+61 987 654 3210|789 12 6118|\n",
      "+-----------+----------+---------+------+-----+-------------+----------------+-----------+\n",
      "\n"
     ]
    }
   ],
   "source": [
    "employeesDF2.select('*').filter(~col('bonus').isNull()).show()"
   ]
  },
  {
   "cell_type": "code",
   "execution_count": 165,
   "id": "c16c998c-3641-4b83-b41e-5b3a20709315",
   "metadata": {},
   "outputs": [
    {
     "name": "stdout",
     "output_type": "stream",
     "text": [
      "+-----------+----------+---------+------+-----+--------------+----------------+-----------+\n",
      "|employee_id|first_name|last_name|salary|bonus|   nationality|    phone_number|        ssn|\n",
      "+-----------+----------+---------+------+-----+--------------+----------------+-----------+\n",
      "|          1|     Scott|    Tiger|1000.0|   10| united states| +1 123 456 7890|123 45 6789|\n",
      "|          2|     Henry|     Ford|1250.0| null|         India|+91 234 567 8901|456 78 9123|\n",
      "|          3|      Nick|   Junior| 750.0|     |united KINGDOM|+44 111 111 1111|222 33 4444|\n",
      "|          4|      Bill|    Gomes|1500.0|   10|     AUSTRALIA|+61 987 654 3210|789 12 6118|\n",
      "+-----------+----------+---------+------+-----+--------------+----------------+-----------+\n",
      "\n"
     ]
    }
   ],
   "source": [
    "employeesDF2.select('*').withColumn('bonus', col('bonus')).show()"
   ]
  },
  {
   "cell_type": "code",
   "execution_count": 147,
   "id": "7d4a9619-813f-49a0-999b-fb943942ce18",
   "metadata": {},
   "outputs": [
    {
     "name": "stdout",
     "output_type": "stream",
     "text": [
      "+-----------+----------+---------+------+-----+--------------+----------------+-----------+\n",
      "|employee_id|first_name|last_name|salary|bonus|   nationality|    phone_number|        ssn|\n",
      "+-----------+----------+---------+------+-----+--------------+----------------+-----------+\n",
      "|          1|     Scott|    Tiger|1000.0|   10| united states| +1 123 456 7890|123 45 6789|\n",
      "|          2|     Henry|     Ford|1250.0|    0|         India|+91 234 567 8901|456 78 9123|\n",
      "|          3|      Nick|   Junior| 750.0|    0|united KINGDOM|+44 111 111 1111|222 33 4444|\n",
      "|          4|      Bill|    Gomes|1500.0|   10|     AUSTRALIA|+61 987 654 3210|789 12 6118|\n",
      "+-----------+----------+---------+------+-----+--------------+----------------+-----------+\n",
      "\n"
     ]
    }
   ],
   "source": [
    "employeesDF2.withColumn(\\\n",
    "            'bonus', \\\n",
    "            when((col('bonus').isNull()) | (col('bonus') == ''), 0).\\\n",
    "            otherwise(col('bonus'))).\\\n",
    "            show()"
   ]
  },
  {
   "cell_type": "code",
   "execution_count": 212,
   "id": "e6424e06-90f2-46d6-8eb2-07cc7a33e989",
   "metadata": {},
   "outputs": [
    {
     "name": "stdout",
     "output_type": "stream",
     "text": [
      "+-----------+----------+---------+------+-----+--------------+----------------+-----------+\n",
      "|employee_id|first_name|last_name|salary|bonus|   nationality|    phone_number|        ssn|\n",
      "+-----------+----------+---------+------+-----+--------------+----------------+-----------+\n",
      "|          1|     Scott|    Tiger|1000.0| 20.0| united states| +1 123 456 7890|123 45 6789|\n",
      "|          2|     Henry|     Ford|1250.0|  0.0|         India|+91 234 567 8901|456 78 9123|\n",
      "|          3|      Nick|   Junior| 750.0|  0.0|united KINGDOM|+44 111 111 1111|222 33 4444|\n",
      "|          4|      Bill|    Gomes|1500.0| 20.0|     AUSTRALIA|+61 987 654 3210|789 12 6118|\n",
      "+-----------+----------+---------+------+-----+--------------+----------------+-----------+\n",
      "\n"
     ]
    }
   ],
   "source": [
    "employeesDF2. \\\n",
    "    withColumn(\n",
    "        'bonus',\n",
    "        when((col('bonus').isNull()) | (col('bonus') == ''), 0).otherwise(col('bonus'))\n",
    "    ).\\\n",
    "    show()"
   ]
  },
  {
   "cell_type": "code",
   "execution_count": 173,
   "id": "33c9f01a-a868-46f7-bd0e-9912fcf4fd84",
   "metadata": {},
   "outputs": [],
   "source": [
    "employeesDF2 = employeesDF2.withColumn('bonus', col('bonus')*2)"
   ]
  },
  {
   "cell_type": "code",
   "execution_count": 174,
   "id": "2ecf0d8c-5dc8-49f6-849a-27518862d98a",
   "metadata": {},
   "outputs": [
    {
     "name": "stdout",
     "output_type": "stream",
     "text": [
      "+-----------+----------+---------+------+-----+--------------+----------------+-----------+\n",
      "|employee_id|first_name|last_name|salary|bonus|   nationality|    phone_number|        ssn|\n",
      "+-----------+----------+---------+------+-----+--------------+----------------+-----------+\n",
      "|          1|     Scott|    Tiger|1000.0| 20.0| united states| +1 123 456 7890|123 45 6789|\n",
      "|          2|     Henry|     Ford|1250.0| null|         India|+91 234 567 8901|456 78 9123|\n",
      "|          3|      Nick|   Junior| 750.0| null|united KINGDOM|+44 111 111 1111|222 33 4444|\n",
      "|          4|      Bill|    Gomes|1500.0| 20.0|     AUSTRALIA|+61 987 654 3210|789 12 6118|\n",
      "+-----------+----------+---------+------+-----+--------------+----------------+-----------+\n",
      "\n"
     ]
    }
   ],
   "source": [
    "employeesDF2.select('*').beetw.show()"
   ]
  },
  {
   "cell_type": "code",
   "execution_count": 180,
   "id": "3c329ef8-177e-410c-b05b-d6aaa9786d9e",
   "metadata": {},
   "outputs": [
    {
     "name": "stdout",
     "output_type": "stream",
     "text": [
      "+-----------+----------+---------+------+-----+--------------+----------------+-----------+\n",
      "|employee_id|first_name|last_name|salary|bonus|   nationality|    phone_number|        ssn|\n",
      "+-----------+----------+---------+------+-----+--------------+----------------+-----------+\n",
      "|          1|     Scott|    Tiger|1000.0| 20.0| united states| +1 123 456 7890|123 45 6789|\n",
      "|          3|      Nick|   Junior| 750.0| null|united KINGDOM|+44 111 111 1111|222 33 4444|\n",
      "+-----------+----------+---------+------+-----+--------------+----------------+-----------+\n",
      "\n"
     ]
    }
   ],
   "source": [
    "employeesDF2.filter(col('nationality').isin('united states', 'united KINGDOM')).show()"
   ]
  },
  {
   "cell_type": "code",
   "execution_count": 183,
   "id": "169fe209-64dd-4f2d-81f5-c9770daa5b6b",
   "metadata": {},
   "outputs": [
    {
     "name": "stdout",
     "output_type": "stream",
     "text": [
      "+-----------+----------+---------+------+-----+--------------+----------------+-----------+\n",
      "|employee_id|first_name|last_name|salary|bonus|   nationality|    phone_number|        ssn|\n",
      "+-----------+----------+---------+------+-----+--------------+----------------+-----------+\n",
      "|          1|     Scott|    Tiger|1000.0| 20.0| united states| +1 123 456 7890|123 45 6789|\n",
      "|          3|      Nick|   Junior| 750.0| null|united KINGDOM|+44 111 111 1111|222 33 4444|\n",
      "+-----------+----------+---------+------+-----+--------------+----------------+-----------+\n",
      "\n"
     ]
    }
   ],
   "source": [
    "employeesDF2.filter(col('nationality').like('unit%')).show()"
   ]
  },
  {
   "cell_type": "code",
   "execution_count": 192,
   "id": "16ffa226-3b71-4d70-ae91-34183ca77d6a",
   "metadata": {},
   "outputs": [
    {
     "name": "stdout",
     "output_type": "stream",
     "text": [
      "+-----------+----------+---------+------+-----+-------------+----------------+-----------+\n",
      "|employee_id|first_name|last_name|salary|bonus|  nationality|    phone_number|        ssn|\n",
      "+-----------+----------+---------+------+-----+-------------+----------------+-----------+\n",
      "|          1|     Scott|    Tiger|1000.0| 20.0|united states| +1 123 456 7890|123 45 6789|\n",
      "|          4|      Bill|    Gomes|1500.0| 20.0|    AUSTRALIA|+61 987 654 3210|789 12 6118|\n",
      "+-----------+----------+---------+------+-----+-------------+----------------+-----------+\n",
      "\n"
     ]
    }
   ],
   "source": [
    "employeesDF2.filter(col('bonus').between(-10,20)).show()"
   ]
  },
  {
   "cell_type": "code",
   "execution_count": 193,
   "id": "c8075388-8186-4a7b-a272-066c509d847b",
   "metadata": {},
   "outputs": [
    {
     "name": "stderr",
     "output_type": "stream",
     "text": [
      "[Stage 194:>                                                        (0 + 2) / 2]\r"
     ]
    },
    {
     "name": "stdout",
     "output_type": "stream",
     "text": [
      "+-------+------------------+----------+---------+-----------------+-----+-------------+----------------+-----------+\n",
      "|summary|       employee_id|first_name|last_name|           salary|bonus|  nationality|    phone_number|        ssn|\n",
      "+-------+------------------+----------+---------+-----------------+-----+-------------+----------------+-----------+\n",
      "|  count|                 2|         2|        2|                2|    2|            2|               2|          2|\n",
      "|   mean|               2.5|      null|     null|           1250.0| 20.0|         null|            null|       null|\n",
      "| stddev|2.1213203435596424|      null|     null|353.5533905932738|  0.0|         null|            null|       null|\n",
      "|    min|                 1|      Bill|    Gomes|           1000.0| 20.0|    AUSTRALIA| +1 123 456 7890|123 45 6789|\n",
      "|    max|                 4|     Scott|    Tiger|           1500.0| 20.0|united states|+61 987 654 3210|789 12 6118|\n",
      "+-------+------------------+----------+---------+-----------------+-----+-------------+----------------+-----------+\n",
      "\n"
     ]
    },
    {
     "name": "stderr",
     "output_type": "stream",
     "text": [
      "                                                                                \r"
     ]
    }
   ],
   "source": [
    "employeesDF2.filter(col('bonus').between(-10,20)).describe().show()"
   ]
  },
  {
   "cell_type": "code",
   "execution_count": 194,
   "id": "b6373f0e-878a-40f2-b012-fe124acb6430",
   "metadata": {},
   "outputs": [
    {
     "name": "stderr",
     "output_type": "stream",
     "text": [
      "[Stage 199:>                                                        (0 + 1) / 1]\r"
     ]
    },
    {
     "name": "stdout",
     "output_type": "stream",
     "text": [
      "+-------+------------------+----------+---------+-----------------+-----+-------------+----------------+-----------+\n",
      "|summary|       employee_id|first_name|last_name|           salary|bonus|  nationality|    phone_number|        ssn|\n",
      "+-------+------------------+----------+---------+-----------------+-----+-------------+----------------+-----------+\n",
      "|  count|                 2|         2|        2|                2|    2|            2|               2|          2|\n",
      "|   mean|               2.5|      null|     null|           1250.0| 20.0|         null|            null|       null|\n",
      "| stddev|2.1213203435596424|      null|     null|353.5533905932738|  0.0|         null|            null|       null|\n",
      "|    min|                 1|      Bill|    Gomes|           1000.0| 20.0|    AUSTRALIA| +1 123 456 7890|123 45 6789|\n",
      "|    25%|                 1|      null|     null|           1000.0| 20.0|         null|            null|       null|\n",
      "|    50%|                 1|      null|     null|           1000.0| 20.0|         null|            null|       null|\n",
      "|    75%|                 4|      null|     null|           1500.0| 20.0|         null|            null|       null|\n",
      "|    max|                 4|     Scott|    Tiger|           1500.0| 20.0|united states|+61 987 654 3210|789 12 6118|\n",
      "+-------+------------------+----------+---------+-----------------+-----+-------------+----------------+-----------+\n",
      "\n"
     ]
    },
    {
     "name": "stderr",
     "output_type": "stream",
     "text": [
      "                                                                                \r"
     ]
    }
   ],
   "source": [
    "employeesDF2.filter(col('bonus').between(-10,20)).summary().show()"
   ]
  },
  {
   "cell_type": "code",
   "execution_count": 196,
   "id": "b2d82dab-9278-4590-96e5-e97f7c05731a",
   "metadata": {},
   "outputs": [
    {
     "name": "stdout",
     "output_type": "stream",
     "text": [
      "+---------+\n",
      "|count_all|\n",
      "+---------+\n",
      "|        2|\n",
      "+---------+\n",
      "\n"
     ]
    }
   ],
   "source": [
    "employeesDF2.select(countDistinct('*').alias('count_all')).show()"
   ]
  },
  {
   "cell_type": "code",
   "execution_count": 216,
   "id": "c1e65ffb-48db-4bbb-8604-ed6741303b9b",
   "metadata": {},
   "outputs": [
    {
     "name": "stdout",
     "output_type": "stream",
     "text": [
      "+-----------+----------+---------+------+-----+--------------+----------------+-----------+-------+\n",
      "|employee_id|first_name|last_name|salary|bonus|   nationality|    phone_number|        ssn|abc_clm|\n",
      "+-----------+----------+---------+------+-----+--------------+----------------+-----------+-------+\n",
      "|          1|     Scott|    Tiger|1000.0| 20.0| united states| +1 123 456 7890|123 45 6789|     20|\n",
      "|          2|     Henry|     Ford|1250.0| null|         India|+91 234 567 8901|456 78 9123|   null|\n",
      "|          3|      Nick|   Junior| 750.0| null|united KINGDOM|+44 111 111 1111|222 33 4444|   null|\n",
      "|          4|      Bill|    Gomes|1500.0| 20.0|     AUSTRALIA|+61 987 654 3210|789 12 6118|     20|\n",
      "+-----------+----------+---------+------+-----+--------------+----------------+-----------+-------+\n",
      "\n"
     ]
    }
   ],
   "source": [
    "employeesDF2.withColumn('abc_clm', col('bonus').cast('int')).show()"
   ]
  },
  {
   "cell_type": "raw",
   "id": "220e83a1-3593-48ac-ba6a-e4f9fe217b0d",
   "metadata": {},
   "source": [
    "employeesDF2.groupBy('bonus').sum('salary').alias('SUM').show()"
   ]
  },
  {
   "cell_type": "code",
   "execution_count": 222,
   "id": "9530cf3d-8a79-4741-91fa-481f885bf972",
   "metadata": {},
   "outputs": [
    {
     "name": "stdout",
     "output_type": "stream",
     "text": [
      "+-----+-----------+\n",
      "|bonus|sum(salary)|\n",
      "+-----+-----------+\n",
      "| 20.0|     2500.0|\n",
      "| null|     2000.0|\n",
      "| null|     4500.0|\n",
      "+-----+-----------+\n",
      "\n"
     ]
    }
   ],
   "source": [
    "employeesDF2.rollup('bonus').sum('salary').alias('SUM').show()"
   ]
  },
  {
   "cell_type": "code",
   "execution_count": 238,
   "id": "08bfbc8e-866a-4f87-b083-50387106ee46",
   "metadata": {},
   "outputs": [
    {
     "name": "stdout",
     "output_type": "stream",
     "text": [
      "+-----+------+\n",
      "|bonus|   SUM|\n",
      "+-----+------+\n",
      "| 20.0|2500.0|\n",
      "| null|2000.0|\n",
      "+-----+------+\n",
      "\n"
     ]
    }
   ],
   "source": [
    "employeesDF2.groupBy('bonus').agg(sum('salary').alias('SUM')).sort(col('bonus').asc_nulls_last()).show()"
   ]
  },
  {
   "cell_type": "code",
   "execution_count": null,
   "id": "3fdcfaa3-b1d8-4e61-95fc-fc33876e3a77",
   "metadata": {},
   "outputs": [],
   "source": []
  }
 ],
 "metadata": {
  "kernelspec": {
   "display_name": "Pyspark 3",
   "language": "python",
   "name": "pyspark3"
  },
  "language_info": {
   "codemirror_mode": {
    "name": "ipython",
    "version": 3
   },
   "file_extension": ".py",
   "mimetype": "text/x-python",
   "name": "python",
   "nbconvert_exporter": "python",
   "pygments_lexer": "ipython3",
   "version": "3.8.10"
  }
 },
 "nbformat": 4,
 "nbformat_minor": 5
}
