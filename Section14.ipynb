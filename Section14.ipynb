{
 "cells": [
  {
   "cell_type": "code",
   "execution_count": 2,
   "id": "9710813a-cce2-4763-942e-be8fd8a71ac5",
   "metadata": {},
   "outputs": [],
   "source": [
    "from pyspark.sql import SparkSession"
   ]
  },
  {
   "cell_type": "code",
   "execution_count": 3,
   "id": "bad137a4-57a1-4f27-81f5-ca6008944d1b",
   "metadata": {},
   "outputs": [
    {
     "name": "stderr",
     "output_type": "stream",
     "text": [
      "Setting default log level to \"WARN\".\n",
      "To adjust logging level use sc.setLogLevel(newLevel). For SparkR, use setLogLevel(newLevel).\n",
      "2021-12-28 08:45:32,689 WARN util.NativeCodeLoader: Unable to load native-hadoop library for your platform... using builtin-java classes where applicable\n"
     ]
    }
   ],
   "source": [
    "spark = SparkSession.\\\n",
    "        builder.\\\n",
    "        config(\"spark.ui.port\",\"0\").\\\n",
    "        master(\"yarn\").\\\n",
    "        enableHiveSupport().\\\n",
    "        config(\"spark.sql.warehouse.dir\", \"/user/band/warehouse\").\\\n",
    "        appName(\"Section14\").\\\n",
    "        getOrCreate()"
   ]
  },
  {
   "cell_type": "code",
   "execution_count": 19,
   "id": "e16cf917-f68f-4ec9-bb9c-d2c7ede0396e",
   "metadata": {},
   "outputs": [
    {
     "data": {
      "text/html": [
       "<table border='1'>\n",
       "<tr><th></th></tr>\n",
       "</table>\n"
      ],
      "text/plain": [
       "++\n",
       "||\n",
       "++\n",
       "++"
      ]
     },
     "execution_count": 19,
     "metadata": {},
     "output_type": "execute_result"
    }
   ],
   "source": [
    "spark.sql(\"DROP DATABASE IF EXISTS hr_db\")"
   ]
  },
  {
   "cell_type": "code",
   "execution_count": 21,
   "id": "d3f07451-c1ce-4a71-b36d-f62fafd0673c",
   "metadata": {},
   "outputs": [
    {
     "name": "stderr",
     "output_type": "stream",
     "text": [
      "2021-12-24 08:52:12,389 WARN metastore.ObjectStore: Failed to get database hr_db, returning NoSuchObjectException\n"
     ]
    },
    {
     "data": {
      "text/html": [
       "<table border='1'>\n",
       "<tr><th></th></tr>\n",
       "</table>\n"
      ],
      "text/plain": [
       "++\n",
       "||\n",
       "++\n",
       "++"
      ]
     },
     "execution_count": 21,
     "metadata": {},
     "output_type": "execute_result"
    }
   ],
   "source": [
    "spark.sql(\"\"\"\n",
    "CREATE DATABASE IF NOT EXISTS hr_db\n",
    "\"\"\")"
   ]
  },
  {
   "cell_type": "code",
   "execution_count": 22,
   "id": "7090277b-eec7-45ff-a0d4-ab79962e7c28",
   "metadata": {},
   "outputs": [
    {
     "name": "stdout",
     "output_type": "stream",
     "text": [
      "+-----------+\n",
      "|  namespace|\n",
      "+-----------+\n",
      "|band_retail|\n",
      "|    default|\n",
      "|      hr_db|\n",
      "|  ordertest|\n",
      "|  retail_db|\n",
      "+-----------+\n",
      "\n"
     ]
    }
   ],
   "source": [
    "spark.sql(\"SHOW DATABASES\").show()"
   ]
  },
  {
   "cell_type": "code",
   "execution_count": 23,
   "id": "841a07f0-eeb9-4f79-a5df-7a1a21989825",
   "metadata": {},
   "outputs": [
    {
     "data": {
      "text/html": [
       "<table border='1'>\n",
       "<tr><th></th></tr>\n",
       "</table>\n"
      ],
      "text/plain": [
       "++\n",
       "||\n",
       "++\n",
       "++"
      ]
     },
     "execution_count": 23,
     "metadata": {},
     "output_type": "execute_result"
    }
   ],
   "source": [
    "spark.sql(\"USE hr_db\")"
   ]
  },
  {
   "cell_type": "code",
   "execution_count": 24,
   "id": "3cbfba95-0cf1-4123-a1d0-e9d2b6131183",
   "metadata": {},
   "outputs": [
    {
     "name": "stderr",
     "output_type": "stream",
     "text": [
      "2021-12-24 08:53:03,840 WARN metastore.HiveMetaStore: Location: hdfs://127.0.0.1:9000/user/band/warehouse/hr_db.db/employees specified for non-external table:employees\n"
     ]
    },
    {
     "data": {
      "text/html": [
       "<table border='1'>\n",
       "<tr><th></th></tr>\n",
       "</table>\n"
      ],
      "text/plain": [
       "++\n",
       "||\n",
       "++\n",
       "++"
      ]
     },
     "execution_count": 24,
     "metadata": {},
     "output_type": "execute_result"
    }
   ],
   "source": [
    "spark.sql(\"\"\"\n",
    "    CREATE TABLE employees(\n",
    "        employee_id INT,\n",
    "        first_name VARCHAR(25),\n",
    "        last_name VARCHAR(25),\n",
    "        email VARCHAR(100),\n",
    "        phone_number VARCHAR(20),\n",
    "        hire_date DATE,\n",
    "        job_id VARCHAR(10),\n",
    "        salary DECIMAL(8,2),\n",
    "        commission_pct DECIMAL(2,2),\n",
    "        manager_id INT,\n",
    "        department_id INT\n",
    "    )ROW FORMAT DELIMITED FIELDS TERMINATED BY '\\t'\n",
    "\"\"\")"
   ]
  },
  {
   "cell_type": "code",
   "execution_count": 4,
   "id": "73d9a94e-a7b9-4e19-92de-ac0f4abb534e",
   "metadata": {},
   "outputs": [
    {
     "name": "stderr",
     "output_type": "stream",
     "text": [
      "2021-12-28 08:46:14,991 WARN conf.HiveConf: HiveConf of name hive.stats.jdbc.timeout does not exist\n",
      "2021-12-28 08:46:15,005 WARN conf.HiveConf: HiveConf of name hive.stats.retries.wait does not exist\n",
      "2021-12-28 08:46:35,544 WARN metastore.ObjectStore: Failed to get database global_temp, returning NoSuchObjectException\n"
     ]
    },
    {
     "data": {
      "text/html": [
       "<table border='1'>\n",
       "<tr><th></th></tr>\n",
       "</table>\n"
      ],
      "text/plain": [
       "++\n",
       "||\n",
       "++\n",
       "++"
      ]
     },
     "execution_count": 4,
     "metadata": {},
     "output_type": "execute_result"
    }
   ],
   "source": [
    "spark.sql(\"LOAD DATA LOCAL INPATH '/data/hr_db/employees/part-m-00000' INTO TABLE employees\")"
   ]
  },
  {
   "cell_type": "code",
   "execution_count": 5,
   "id": "8e2561b2-3a75-416d-a716-a3106fb52eb0",
   "metadata": {},
   "outputs": [
    {
     "name": "stderr",
     "output_type": "stream",
     "text": [
      "[Stage 2:>                                                          (0 + 1) / 1]\r"
     ]
    },
    {
     "name": "stdout",
     "output_type": "stream",
     "text": [
      "+-----------+----------+---------+--------+------------------+----------+------+--------+--------------+----------+-------------+\n",
      "|employee_id|first_name|last_name|email   |phone_number      |hire_date |job_id|salary  |commission_pct|manager_id|department_id|\n",
      "+-----------+----------+---------+--------+------------------+----------+------+--------+--------------+----------+-------------+\n",
      "|155        |Oliver    |Tuvault  |OTUVAULT|011.44.1344.486508|1999-11-23|SA_REP|7000.00 |0.15          |145       |80           |\n",
      "|156        |Janette   |King     |JKING   |011.44.1345.429268|1996-01-30|SA_REP|10000.00|0.35          |146       |80           |\n",
      "|157        |Patrick   |Sully    |PSULLY  |011.44.1345.929268|1996-03-04|SA_REP|9500.00 |0.35          |146       |80           |\n",
      "|158        |Allan     |McEwen   |AMCEWEN |011.44.1345.829268|1996-08-01|SA_REP|9000.00 |0.35          |146       |80           |\n",
      "|159        |Lindsey   |Smith    |LSMITH  |011.44.1345.729268|1997-03-10|SA_REP|8000.00 |0.30          |146       |80           |\n",
      "|160        |Louise    |Doran    |LDORAN  |011.44.1345.629268|1997-12-15|SA_REP|7500.00 |0.30          |146       |80           |\n",
      "|161        |Sarath    |Sewall   |SSEWALL |011.44.1345.529268|1998-11-03|SA_REP|7000.00 |0.25          |146       |80           |\n",
      "|162        |Clara     |Vishney  |CVISHNEY|011.44.1346.129268|1997-11-11|SA_REP|10500.00|0.25          |147       |80           |\n",
      "|163        |Danielle  |Greene   |DGREENE |011.44.1346.229268|1999-03-19|SA_REP|9500.00 |0.15          |147       |80           |\n",
      "|164        |Mattea    |Marvins  |MMARVINS|011.44.1346.329268|2000-01-24|SA_REP|7200.00 |0.10          |147       |80           |\n",
      "+-----------+----------+---------+--------+------------------+----------+------+--------+--------------+----------+-------------+\n",
      "\n"
     ]
    },
    {
     "name": "stderr",
     "output_type": "stream",
     "text": [
      "                                                                                \r"
     ]
    }
   ],
   "source": [
    "spark.sql(\"SELECT * FROM employees LIMIT 10\").show(truncate=False)"
   ]
  },
  {
   "cell_type": "code",
   "execution_count": 36,
   "id": "864a7961-ffa4-419b-a55f-521e1fbd8244",
   "metadata": {},
   "outputs": [
    {
     "name": "stdout",
     "output_type": "stream",
     "text": [
      "+-----------+-------------+--------+-------------------------+------------------+\n",
      "|employee_id|department_id|salary  |department_salary_expense|avg_salary_expense|\n",
      "+-----------+-------------+--------+-------------------------+------------------+\n",
      "|200        |10           |4400.00 |4400.00                  |4400.000000       |\n",
      "|202        |20           |6000.00 |19000.00                 |9500.000000       |\n",
      "|201        |20           |13000.00|19000.00                 |9500.000000       |\n",
      "|119        |30           |2500.00 |24900.00                 |4150.000000       |\n",
      "|118        |30           |2600.00 |24900.00                 |4150.000000       |\n",
      "|117        |30           |2800.00 |24900.00                 |4150.000000       |\n",
      "|116        |30           |2900.00 |24900.00                 |4150.000000       |\n",
      "|115        |30           |3100.00 |24900.00                 |4150.000000       |\n",
      "|114        |30           |11000.00|24900.00                 |4150.000000       |\n",
      "|203        |40           |6500.00 |6500.00                  |6500.000000       |\n",
      "+-----------+-------------+--------+-------------------------+------------------+\n",
      "only showing top 10 rows\n",
      "\n"
     ]
    }
   ],
   "source": [
    "spark.sql(\"\"\"\n",
    "    SELECT e.employee_id, e.department_id, e.salary, ae.department_salary_expense, ae.avg_salary_expense\n",
    "    FROM employees AS e\n",
    "    INNER JOIN (\n",
    "        SELECT department_id, SUM(salary) AS department_salary_expense, AVG(salary) AS avg_salary_expense\n",
    "        FROM employees\n",
    "        GROUP BY department_id\n",
    "    ) AS ae\n",
    "    ON e.department_id = ae.department_id\n",
    "    ORDER BY department_id, salary\n",
    "\"\"\").show(10, truncate=False)"
   ]
  },
  {
   "cell_type": "code",
   "execution_count": 46,
   "id": "b3774e96-e25f-46f5-b075-fd5296ff4ae2",
   "metadata": {},
   "outputs": [
    {
     "name": "stdout",
     "output_type": "stream",
     "text": [
      "+-----------+-------------+--------+--------+-----------+-------+--------+-----+\n",
      "|employee_id|department_id|salary  |SUM     |AVG        |MIN    |MAX     |COUNT|\n",
      "+-----------+-------------+--------+--------+-----------+-------+--------+-----+\n",
      "|178        |null         |7000.00 |7000.00 |7000.000000|7000.00|7000.00 |1    |\n",
      "|200        |10           |4400.00 |4400.00 |4400.000000|4400.00|4400.00 |1    |\n",
      "|202        |20           |6000.00 |19000.00|9500.000000|6000.00|13000.00|2    |\n",
      "|201        |20           |13000.00|19000.00|9500.000000|6000.00|13000.00|2    |\n",
      "|119        |30           |2500.00 |24900.00|4150.000000|2500.00|11000.00|6    |\n",
      "|118        |30           |2600.00 |24900.00|4150.000000|2500.00|11000.00|6    |\n",
      "|117        |30           |2800.00 |24900.00|4150.000000|2500.00|11000.00|6    |\n",
      "|116        |30           |2900.00 |24900.00|4150.000000|2500.00|11000.00|6    |\n",
      "|115        |30           |3100.00 |24900.00|4150.000000|2500.00|11000.00|6    |\n",
      "|114        |30           |11000.00|24900.00|4150.000000|2500.00|11000.00|6    |\n",
      "+-----------+-------------+--------+--------+-----------+-------+--------+-----+\n",
      "only showing top 10 rows\n",
      "\n"
     ]
    }
   ],
   "source": [
    "spark.sql(\"\"\"\n",
    "    SELECT e.employee_id, e.department_id, e.salary,\n",
    "    SUM(e.salary) OVER (PARTITION BY e.department_id) AS SUM,\n",
    "    AVG(e.salary) OVER (PARTITION BY e.department_id) AS AVG,\n",
    "    MIN(e.salary) OVER (PARTITION BY e.department_id) AS MIN,\n",
    "    MAX(e.salary) OVER (PARTITION BY e.department_id) AS MAX,\n",
    "    COUNT(e.salary) OVER (PARTITION BY e.department_id) AS COUNT\n",
    "    FROM employees AS e\n",
    "    ORDER BY e.department_id, e.salary\n",
    "\"\"\").show(10, truncate=False)"
   ]
  },
  {
   "cell_type": "code",
   "execution_count": 83,
   "id": "b9f7fc94-c579-40e7-a004-39d0d9a99588",
   "metadata": {},
   "outputs": [
    {
     "name": "stderr",
     "output_type": "stream",
     "text": [
      "2021-12-24 12:36:13,451 WARN window.WindowExec: No Partition Defined for Window operation! Moving all data to a single partition, this can cause serious performance degradation.\n",
      "2021-12-24 12:36:13,451 WARN window.WindowExec: No Partition Defined for Window operation! Moving all data to a single partition, this can cause serious performance degradation.\n"
     ]
    },
    {
     "name": "stdout",
     "output_type": "stream",
     "text": [
      "+-----------+----------+----------+--------+----------+-------------+-----------+\n",
      "|employee_id|first_name|hire_date |salary  |manager_id|department_id|sorted_date|\n",
      "+-----------+----------+----------+--------+----------+-------------+-----------+\n",
      "|173        |Sundita   |2000-04-21|6100.00 |148       |80           |2000-04-21 |\n",
      "|167        |Amit      |2000-04-21|6200.00 |147       |80           |2000-03-24 |\n",
      "|166        |Sundar    |2000-03-24|6400.00 |147       |80           |2000-03-08 |\n",
      "|128        |Steven    |2000-03-08|2200.00 |120       |50           |2000-02-23 |\n",
      "|165        |David     |2000-02-23|6800.00 |147       |80           |2000-02-06 |\n",
      "|136        |Hazel     |2000-02-06|2200.00 |122       |50           |2000-02-03 |\n",
      "|183        |Girard    |2000-02-03|2800.00 |120       |50           |2000-01-29 |\n",
      "|149        |Eleni     |2000-01-29|10500.00|100       |80           |2000-01-24 |\n",
      "|164        |Mattea    |2000-01-24|7200.00 |147       |80           |2000-01-13 |\n",
      "|199        |Douglas   |2000-01-13|2600.00 |124       |50           |2000-01-04 |\n",
      "+-----------+----------+----------+--------+----------+-------------+-----------+\n",
      "only showing top 10 rows\n",
      "\n"
     ]
    },
    {
     "name": "stderr",
     "output_type": "stream",
     "text": [
      "2021-12-24 12:36:13,691 WARN window.WindowExec: No Partition Defined for Window operation! Moving all data to a single partition, this can cause serious performance degradation.\n"
     ]
    }
   ],
   "source": [
    "spark.sql(\"\"\"\n",
    "    SELECT employee_id, \n",
    "    first_name, \n",
    "    hire_date, \n",
    "    salary, \n",
    "    manager_id, \n",
    "    department_id,\n",
    "    LEAD(hire_date) OVER(ORDER BY hire_date DESC, manager_id DESC) AS sorted_date\n",
    "    \n",
    "    FROM employees\n",
    "\"\"\").show(10, truncate=False)"
   ]
  },
  {
   "cell_type": "code",
   "execution_count": 110,
   "id": "8b4e3f2f-3ada-4ad4-bbe3-daf983233ad5",
   "metadata": {},
   "outputs": [
    {
     "name": "stderr",
     "output_type": "stream",
     "text": [
      "2021-12-24 14:36:50,058 WARN window.WindowExec: No Partition Defined for Window operation! Moving all data to a single partition, this can cause serious performance degradation.\n",
      "2021-12-24 14:36:50,058 WARN window.WindowExec: No Partition Defined for Window operation! Moving all data to a single partition, this can cause serious performance degradation.\n",
      "2021-12-24 14:36:50,219 WARN window.WindowExec: No Partition Defined for Window operation! Moving all data to a single partition, this can cause serious performance degradation.\n"
     ]
    },
    {
     "name": "stdout",
     "output_type": "stream",
     "text": [
      "+-----------+----------+----------+--------+----------+-------------+----------+\n",
      "|employee_id|first_name|hire_date |salary  |manager_id|department_id|LEAD_date |\n",
      "+-----------+----------+----------+--------+----------+-------------+----------+\n",
      "|100        |Steven    |1987-06-17|24000.00|null      |90           |1987-06-17|\n",
      "|200        |Jennifer  |1987-09-17|4400.00 |101       |10           |1987-09-17|\n",
      "|101        |Neena     |1989-09-21|17000.00|100       |90           |1989-09-21|\n",
      "|103        |Alexander |1990-01-03|9000.00 |102       |60           |1990-01-03|\n",
      "|104        |Bruce     |1991-05-21|6000.00 |103       |60           |1991-05-21|\n",
      "|102        |Lex       |1993-01-13|17000.00|100       |90           |1993-01-13|\n",
      "|205        |Shelley   |1994-06-07|12000.00|101       |110          |1994-06-07|\n",
      "|203        |Susan     |1994-06-07|6500.00 |101       |40           |1994-06-07|\n",
      "|204        |Hermann   |1994-06-07|10000.00|101       |70           |1994-06-07|\n",
      "|206        |William   |1994-06-07|8300.00 |205       |110          |1994-06-07|\n",
      "+-----------+----------+----------+--------+----------+-------------+----------+\n",
      "\n"
     ]
    }
   ],
   "source": [
    "# LEAD() function\n",
    "spark.sql(\"\"\"\n",
    "    SELECT employee_id, \n",
    "    first_name, \n",
    "    hire_date, \n",
    "    salary, \n",
    "    manager_id, \n",
    "    department_id,\n",
    "    LEAD(hire_date,0) OVER(ORDER BY hire_date DESC) AS LEAD_date\n",
    "    FROM employees\n",
    "    ORDER BY hire_date\n",
    "    LIMIT 10\n",
    "\"\"\").show(truncate=False)"
   ]
  },
  {
   "cell_type": "code",
   "execution_count": 108,
   "id": "73bd3c6f-5406-4270-bc0f-15e93f49c20c",
   "metadata": {},
   "outputs": [
    {
     "name": "stdout",
     "output_type": "stream",
     "text": [
      "+-----------+----------+----------+--------+----------+-------------+----------+\n",
      "|employee_id|first_name|hire_date |salary  |manager_id|department_id|LEAD_date |\n",
      "+-----------+----------+----------+--------+----------+-------------+----------+\n",
      "|100        |Steven    |1987-06-17|24000.00|null      |90           |null      |\n",
      "|200        |Jennifer  |1987-09-17|4400.00 |101       |10           |null      |\n",
      "|101        |Neena     |1989-09-21|17000.00|100       |90           |null      |\n",
      "|103        |Alexander |1990-01-03|9000.00 |102       |60           |null      |\n",
      "|104        |Bruce     |1991-05-21|6000.00 |103       |60           |null      |\n",
      "|102        |Lex       |1993-01-13|17000.00|100       |90           |1989-09-21|\n",
      "|203        |Susan     |1994-06-07|6500.00 |101       |40           |1994-06-07|\n",
      "|204        |Hermann   |1994-06-07|10000.00|101       |70           |1994-06-07|\n",
      "|205        |Shelley   |1994-06-07|12000.00|101       |110          |1987-09-17|\n",
      "|206        |William   |1994-06-07|8300.00 |205       |110          |null      |\n",
      "+-----------+----------+----------+--------+----------+-------------+----------+\n",
      "\n"
     ]
    }
   ],
   "source": [
    "# LEAD() function\n",
    "spark.sql(\"\"\"\n",
    "    SELECT employee_id, \n",
    "    first_name, \n",
    "    hire_date, \n",
    "    salary, \n",
    "    manager_id, \n",
    "    department_id,\n",
    "    LEAD(hire_date) OVER(PARTITION BY manager_id ORDER BY hire_date DESC) AS LEAD_date\n",
    "    FROM employees\n",
    "    ORDER BY hire_date\n",
    "    LIMIT 10\n",
    "\"\"\").show(truncate=False)"
   ]
  },
  {
   "cell_type": "code",
   "execution_count": 97,
   "id": "34152eb6-4e5a-45e4-b3d7-4c7c67055bcb",
   "metadata": {},
   "outputs": [
    {
     "name": "stderr",
     "output_type": "stream",
     "text": [
      "2021-12-24 14:15:54,739 WARN window.WindowExec: No Partition Defined for Window operation! Moving all data to a single partition, this can cause serious performance degradation.\n",
      "2021-12-24 14:15:54,739 WARN window.WindowExec: No Partition Defined for Window operation! Moving all data to a single partition, this can cause serious performance degradation.\n",
      "2021-12-24 14:15:54,911 WARN window.WindowExec: No Partition Defined for Window operation! Moving all data to a single partition, this can cause serious performance degradation.\n"
     ]
    },
    {
     "name": "stdout",
     "output_type": "stream",
     "text": [
      "+-----------+----------+----------+--------+----------+-------------+----------+\n",
      "|employee_id|first_name|hire_date |salary  |manager_id|department_id|LAG_date  |\n",
      "+-----------+----------+----------+--------+----------+-------------+----------+\n",
      "|167        |Amit      |2000-04-21|6200.00 |147       |80           |null      |\n",
      "|173        |Sundita   |2000-04-21|6100.00 |148       |80           |null      |\n",
      "|166        |Sundar    |2000-03-24|6400.00 |147       |80           |2000-04-21|\n",
      "|128        |Steven    |2000-03-08|2200.00 |120       |50           |2000-04-21|\n",
      "|165        |David     |2000-02-23|6800.00 |147       |80           |2000-03-24|\n",
      "|136        |Hazel     |2000-02-06|2200.00 |122       |50           |2000-03-08|\n",
      "|183        |Girard    |2000-02-03|2800.00 |120       |50           |2000-02-23|\n",
      "|149        |Eleni     |2000-01-29|10500.00|100       |80           |2000-02-06|\n",
      "|164        |Mattea    |2000-01-24|7200.00 |147       |80           |2000-02-03|\n",
      "|199        |Douglas   |2000-01-13|2600.00 |124       |50           |2000-01-29|\n",
      "+-----------+----------+----------+--------+----------+-------------+----------+\n",
      "only showing top 10 rows\n",
      "\n"
     ]
    }
   ],
   "source": [
    "# LAG() function\n",
    "spark.sql(\"\"\"\n",
    "    SELECT employee_id, \n",
    "    first_name, \n",
    "    hire_date, \n",
    "    salary, \n",
    "    manager_id, \n",
    "    department_id,\n",
    "    LAG(hire_date,2,TO_DATE('0-0-0','y-m-d')) OVER(ORDER BY hire_date DESC) AS LAG_date\n",
    "    FROM employees\n",
    "\"\"\").show(10, truncate=False)"
   ]
  },
  {
   "cell_type": "code",
   "execution_count": 141,
   "id": "57f296b3-6b42-4f44-bfa6-a49497910696",
   "metadata": {},
   "outputs": [
    {
     "name": "stderr",
     "output_type": "stream",
     "text": [
      "2021-12-24 15:36:05,369 WARN window.WindowExec: No Partition Defined for Window operation! Moving all data to a single partition, this can cause serious performance degradation.\n",
      "2021-12-24 15:36:05,369 WARN window.WindowExec: No Partition Defined for Window operation! Moving all data to a single partition, this can cause serious performance degradation.\n",
      "2021-12-24 15:36:05,560 WARN window.WindowExec: No Partition Defined for Window operation! Moving all data to a single partition, this can cause serious performance degradation.\n"
     ]
    },
    {
     "name": "stdout",
     "output_type": "stream",
     "text": [
      "+-----------+----------+----------+--------+----------+-------------+-----------+----------+\n",
      "|employee_id|first_name|hire_date |salary  |manager_id|department_id|first_value|last_value|\n",
      "+-----------+----------+----------+--------+----------+-------------+-----------+----------+\n",
      "|100        |Steven    |1987-06-17|24000.00|null      |90           |1987-06-17 |1987-06-17|\n",
      "|200        |Jennifer  |1987-09-17|4400.00 |101       |10           |1987-06-17 |1987-09-17|\n",
      "|101        |Neena     |1989-09-21|17000.00|100       |90           |1987-06-17 |1989-09-21|\n",
      "|103        |Alexander |1990-01-03|9000.00 |102       |60           |1987-06-17 |1990-01-03|\n",
      "|104        |Bruce     |1991-05-21|6000.00 |103       |60           |1987-06-17 |1991-05-21|\n",
      "|102        |Lex       |1993-01-13|17000.00|100       |90           |1987-06-17 |1993-01-13|\n",
      "|203        |Susan     |1994-06-07|6500.00 |101       |40           |1987-06-17 |1994-06-07|\n",
      "|204        |Hermann   |1994-06-07|10000.00|101       |70           |1987-06-17 |1994-06-07|\n",
      "|205        |Shelley   |1994-06-07|12000.00|101       |110          |1987-06-17 |1994-06-07|\n",
      "|206        |William   |1994-06-07|8300.00 |205       |110          |1987-06-17 |1994-06-07|\n",
      "+-----------+----------+----------+--------+----------+-------------+-----------+----------+\n",
      "only showing top 10 rows\n",
      "\n"
     ]
    }
   ],
   "source": [
    "spark.sql(\"\"\"\n",
    "    SELECT employee_id, \n",
    "    first_name, \n",
    "    hire_date, \n",
    "    salary, \n",
    "    manager_id, \n",
    "    department_id,\n",
    "    FIRST_VALUE(hire_date) OVER(ORDER BY hire_date) AS first_value,\n",
    "    LAST_VALUE(hire_date) OVER(ORDER BY hire_date) AS last_value\n",
    "    FROM employees\n",
    "\"\"\").show(10, truncate=False)"
   ]
  },
  {
   "cell_type": "code",
   "execution_count": 151,
   "id": "add55ee7-f30c-45a7-a7d5-9888a494eb71",
   "metadata": {},
   "outputs": [
    {
     "name": "stderr",
     "output_type": "stream",
     "text": [
      "2021-12-24 15:47:06,150 WARN window.WindowExec: No Partition Defined for Window operation! Moving all data to a single partition, this can cause serious performance degradation.\n",
      "2021-12-24 15:47:06,151 WARN window.WindowExec: No Partition Defined for Window operation! Moving all data to a single partition, this can cause serious performance degradation.\n",
      "2021-12-24 15:47:06,320 WARN window.WindowExec: No Partition Defined for Window operation! Moving all data to a single partition, this can cause serious performance degradation.\n"
     ]
    },
    {
     "name": "stdout",
     "output_type": "stream",
     "text": [
      "+-----------+----------+----------+--------+----------+-------------+-----------+\n",
      "|employee_id|first_name|hire_date |salary  |manager_id|department_id|rank_salary|\n",
      "+-----------+----------+----------+--------+----------+-------------+-----------+\n",
      "|100        |Steven    |1987-06-17|24000.00|null      |90           |107        |\n",
      "|200        |Jennifer  |1987-09-17|4400.00 |101       |10           |47         |\n",
      "|101        |Neena     |1989-09-21|17000.00|100       |90           |105        |\n",
      "|103        |Alexander |1990-01-03|9000.00 |102       |60           |81         |\n",
      "|104        |Bruce     |1991-05-21|6000.00 |103       |60           |51         |\n",
      "|102        |Lex       |1993-01-13|17000.00|100       |90           |105        |\n",
      "|203        |Susan     |1994-06-07|6500.00 |101       |40           |57         |\n",
      "|206        |William   |1994-06-07|8300.00 |205       |110          |77         |\n",
      "|204        |Hermann   |1994-06-07|10000.00|101       |70           |89         |\n",
      "|205        |Shelley   |1994-06-07|12000.00|101       |110          |99         |\n",
      "+-----------+----------+----------+--------+----------+-------------+-----------+\n",
      "only showing top 10 rows\n",
      "\n"
     ]
    }
   ],
   "source": [
    "spark.sql(\"\"\"\n",
    "    SELECT employee_id, \n",
    "    first_name, \n",
    "    hire_date, \n",
    "    salary, \n",
    "    manager_id, \n",
    "    department_id,\n",
    "    RANK() OVER(ORDER BY salary) AS rank_salary\n",
    "    FROM employees\n",
    "    ORDER BY hire_date\n",
    "\"\"\").show(10, truncate=False)"
   ]
  },
  {
   "cell_type": "code",
   "execution_count": 172,
   "id": "8e1cc48a-83c9-40c4-bc93-d1276b077a21",
   "metadata": {},
   "outputs": [
    {
     "name": "stdout",
     "output_type": "stream",
     "text": [
      "+-----------+-----------+----------+--------+----------+-------------+-----------+\n",
      "|employee_id|first_name |hire_date |salary  |manager_id|department_id|rank_salary|\n",
      "+-----------+-----------+----------+--------+----------+-------------+-----------+\n",
      "|100        |Steven     |1987-06-17|24000.00|null      |90           |1          |\n",
      "|101        |Neena      |1989-09-21|17000.00|100       |90           |1          |\n",
      "|102        |Lex        |1993-01-13|17000.00|100       |90           |1          |\n",
      "|145        |John       |1996-10-01|14000.00|100       |80           |2          |\n",
      "|146        |Karen      |1997-01-05|13500.00|100       |80           |3          |\n",
      "|201        |Michael    |1996-02-17|13000.00|100       |20           |4          |\n",
      "|147        |Alberto    |1997-03-10|12000.00|100       |80           |5          |\n",
      "|114        |Den        |1994-12-07|11000.00|100       |30           |6          |\n",
      "|148        |Gerald     |1999-10-15|11000.00|100       |80           |6          |\n",
      "|149        |Eleni      |2000-01-29|10500.00|100       |80           |7          |\n",
      "|121        |Adam       |1997-04-10|8200.00 |100       |50           |8          |\n",
      "|120        |Matthew    |1996-07-18|8000.00 |100       |50           |9          |\n",
      "|122        |Payam      |1995-05-01|7900.00 |100       |50           |10         |\n",
      "|123        |Shanta     |1997-10-10|6500.00 |100       |50           |11         |\n",
      "|124        |Kevin      |1999-11-16|5800.00 |100       |50           |12         |\n",
      "|205        |Shelley    |1994-06-07|12000.00|101       |110          |1          |\n",
      "|108        |Nancy      |1994-08-17|12000.00|101       |100          |1          |\n",
      "|204        |Hermann    |1994-06-07|10000.00|101       |70           |2          |\n",
      "|203        |Susan      |1994-06-07|6500.00 |101       |40           |3          |\n",
      "|200        |Jennifer   |1987-09-17|4400.00 |101       |10           |4          |\n",
      "|103        |Alexander  |1990-01-03|9000.00 |102       |60           |1          |\n",
      "|104        |Bruce      |1991-05-21|6000.00 |103       |60           |1          |\n",
      "|105        |David      |1997-06-25|4800.00 |103       |60           |2          |\n",
      "|106        |Valli      |1998-02-05|4800.00 |103       |60           |2          |\n",
      "|107        |Diana      |1999-02-07|4200.00 |103       |60           |3          |\n",
      "|109        |Daniel     |1994-08-16|9000.00 |108       |100          |1          |\n",
      "|110        |John       |1997-09-28|8200.00 |108       |100          |2          |\n",
      "|112        |Jose Manuel|1998-03-07|7800.00 |108       |100          |3          |\n",
      "|111        |Ismael     |1997-09-30|7700.00 |108       |100          |4          |\n",
      "|113        |Luis       |1999-12-07|6900.00 |108       |100          |5          |\n",
      "|115        |Alexander  |1995-05-18|3100.00 |114       |30           |1          |\n",
      "|116        |Shelli     |1997-12-24|2900.00 |114       |30           |2          |\n",
      "|117        |Sigal      |1997-07-24|2800.00 |114       |30           |3          |\n",
      "|118        |Guy        |1998-11-15|2600.00 |114       |30           |4          |\n",
      "|119        |Karen      |1999-08-10|2500.00 |114       |30           |5          |\n",
      "|180        |Winston    |1998-01-24|3200.00 |120       |50           |1          |\n",
      "|125        |Julia      |1997-07-16|3200.00 |120       |50           |1          |\n",
      "|181        |Jean       |1998-02-23|3100.00 |120       |50           |2          |\n",
      "|183        |Girard     |2000-02-03|2800.00 |120       |50           |3          |\n",
      "|126        |Irene      |1998-09-28|2700.00 |120       |50           |4          |\n",
      "|182        |Martha     |1999-06-21|2500.00 |120       |50           |5          |\n",
      "|127        |James      |1999-01-14|2400.00 |120       |50           |6          |\n",
      "|128        |Steven     |2000-03-08|2200.00 |120       |50           |7          |\n",
      "|184        |Nandita    |1996-01-27|4200.00 |121       |50           |1          |\n",
      "|185        |Alexis     |1997-02-20|4100.00 |121       |50           |2          |\n",
      "|186        |Julia      |1998-06-24|3400.00 |121       |50           |3          |\n",
      "|129        |Laura      |1997-08-20|3300.00 |121       |50           |4          |\n",
      "|187        |Anthony    |1999-02-07|3000.00 |121       |50           |5          |\n",
      "|130        |Mozhe      |1997-10-30|2800.00 |121       |50           |6          |\n",
      "|131        |James      |1997-02-16|2500.00 |121       |50           |7          |\n",
      "+-----------+-----------+----------+--------+----------+-------------+-----------+\n",
      "\n"
     ]
    }
   ],
   "source": [
    "spark.sql(\"\"\"\n",
    "    SELECT employee_id, \n",
    "    first_name, \n",
    "    hire_date, \n",
    "    salary, \n",
    "    manager_id, \n",
    "    department_id,\n",
    "    DENSE_RANK() OVER(PARTITION BY manager_id ORDER BY salary DESC) AS rank_salary\n",
    "    FROM employees\n",
    "    ORDER BY manager_id ASC, salary DESC\n",
    "    LIMIT 50\n",
    "\"\"\").show(50, truncate=False)"
   ]
  },
  {
   "cell_type": "code",
   "execution_count": null,
   "id": "4b19dce7-329b-4b15-a291-2e7c1d0cc630",
   "metadata": {},
   "outputs": [],
   "source": []
  }
 ],
 "metadata": {
  "kernelspec": {
   "display_name": "Pyspark 3",
   "language": "python",
   "name": "pyspark3"
  },
  "language_info": {
   "codemirror_mode": {
    "name": "ipython",
    "version": 3
   },
   "file_extension": ".py",
   "mimetype": "text/x-python",
   "name": "python",
   "nbconvert_exporter": "python",
   "pygments_lexer": "ipython3",
   "version": "3.8.10"
  }
 },
 "nbformat": 4,
 "nbformat_minor": 5
}
