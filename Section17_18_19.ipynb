{
 "cells": [
  {
   "cell_type": "code",
   "execution_count": 1,
   "id": "8e7d67b6-a70d-4587-8a0e-0f629bb7e0fe",
   "metadata": {},
   "outputs": [],
   "source": [
    "from pyspark.sql import SparkSession\n",
    "from pyspark.sql.functions import *\n",
    "import getpass\n",
    "from pyspark.sql.types import StructField, StructType, \\\n",
    "    IntegerType, StringType, FloatType"
   ]
  },
  {
   "cell_type": "code",
   "execution_count": 2,
   "id": "3753ae6d-b90c-47e1-b808-83fb152c0d3c",
   "metadata": {},
   "outputs": [
    {
     "name": "stdout",
     "output_type": "stream",
     "text": [
      "band\n"
     ]
    }
   ],
   "source": [
    "username = getpass.getuser()\n",
    "print(username)"
   ]
  },
  {
   "cell_type": "code",
   "execution_count": 3,
   "id": "71b86ae3-87e4-4808-bdc2-e5b20bb317f9",
   "metadata": {},
   "outputs": [
    {
     "name": "stderr",
     "output_type": "stream",
     "text": [
      "Setting default log level to \"WARN\".\n",
      "To adjust logging level use sc.setLogLevel(newLevel). For SparkR, use setLogLevel(newLevel).\n",
      "2021-12-29 13:37:33,827 WARN util.NativeCodeLoader: Unable to load native-hadoop library for your platform... using builtin-java classes where applicable\n"
     ]
    }
   ],
   "source": [
    "spark = SparkSession. \\\n",
    "    builder. \\\n",
    "    config('spark.ui.port', '0'). \\\n",
    "    config(\"spark.sql.warehouse.dir\", f\"/user/{username}/warehouse\"). \\\n",
    "    enableHiveSupport(). \\\n",
    "    appName(f'{username} | section17'). \\\n",
    "    master('yarn'). \\\n",
    "    getOrCreate()"
   ]
  },
  {
   "cell_type": "code",
   "execution_count": 4,
   "id": "9e4989eb-b767-42c7-bc7c-a8ac00e1056d",
   "metadata": {
    "tags": []
   },
   "outputs": [],
   "source": [
    "spark.conf.set(\"spark.sql.shuffle.partitions\", \"2\")"
   ]
  },
  {
   "cell_type": "code",
   "execution_count": 5,
   "id": "f525c8d3-8186-4bff-9f2f-0c8688945117",
   "metadata": {},
   "outputs": [
    {
     "name": "stderr",
     "output_type": "stream",
     "text": [
      "2021-12-29 13:38:16,223 WARN conf.HiveConf: HiveConf of name hive.stats.jdbc.timeout does not exist\n",
      "2021-12-29 13:38:16,225 WARN conf.HiveConf: HiveConf of name hive.stats.retries.wait does not exist\n"
     ]
    },
    {
     "data": {
      "text/html": [
       "<table border='1'>\n",
       "<tr><th>namespace</th></tr>\n",
       "<tr><td>band_retail</td></tr>\n",
       "<tr><td>company</td></tr>\n",
       "<tr><td>default</td></tr>\n",
       "<tr><td>hr_db</td></tr>\n",
       "<tr><td>ordertest</td></tr>\n",
       "<tr><td>retail_db</td></tr>\n",
       "</table>\n"
      ],
      "text/plain": [
       "+-----------+\n",
       "|  namespace|\n",
       "+-----------+\n",
       "|band_retail|\n",
       "|    company|\n",
       "|    default|\n",
       "|      hr_db|\n",
       "|  ordertest|\n",
       "|  retail_db|\n",
       "+-----------+"
      ]
     },
     "execution_count": 5,
     "metadata": {},
     "output_type": "execute_result"
    }
   ],
   "source": [
    "spark.sql(\"SHOW DATABASES\")"
   ]
  },
  {
   "cell_type": "code",
   "execution_count": 6,
   "id": "1609d252-8236-4845-8735-a2cfe400d5ff",
   "metadata": {},
   "outputs": [
    {
     "name": "stderr",
     "output_type": "stream",
     "text": [
      "2021-12-29 13:38:25,158 WARN metastore.ObjectStore: Failed to get database global_temp, returning NoSuchObjectException\n"
     ]
    },
    {
     "data": {
      "text/html": [
       "<table border='1'>\n",
       "<tr><th></th></tr>\n",
       "</table>\n"
      ],
      "text/plain": [
       "++\n",
       "||\n",
       "++\n",
       "++"
      ]
     },
     "execution_count": 6,
     "metadata": {},
     "output_type": "execute_result"
    }
   ],
   "source": [
    "spark.sql(\"USE band_retail\")"
   ]
  },
  {
   "cell_type": "code",
   "execution_count": 7,
   "id": "1cc124f6-393a-40c8-94f3-06deb4e072d6",
   "metadata": {},
   "outputs": [
    {
     "name": "stderr",
     "output_type": "stream",
     "text": [
      "                                                                                \r"
     ]
    },
    {
     "data": {
      "text/html": [
       "<table border='1'>\n",
       "<tr><th>namespace</th><th>tableName</th><th>isTemporary</th></tr>\n",
       "<tr><td>band_retail</td><td>customers</td><td>false</td></tr>\n",
       "<tr><td>band_retail</td><td>employees</td><td>false</td></tr>\n",
       "<tr><td>band_retail</td><td>order_items</td><td>false</td></tr>\n",
       "<tr><td>band_retail</td><td>orders</td><td>false</td></tr>\n",
       "</table>\n"
      ],
      "text/plain": [
       "+-----------+-----------+-----------+\n",
       "|  namespace|  tableName|isTemporary|\n",
       "+-----------+-----------+-----------+\n",
       "|band_retail|  customers|      false|\n",
       "|band_retail|  employees|      false|\n",
       "|band_retail|order_items|      false|\n",
       "|band_retail|     orders|      false|\n",
       "+-----------+-----------+-----------+"
      ]
     },
     "execution_count": 7,
     "metadata": {},
     "output_type": "execute_result"
    }
   ],
   "source": [
    "spark.sql(\"SHOW TABLES\")"
   ]
  },
  {
   "cell_type": "code",
   "execution_count": 8,
   "id": "980a75c2-358c-495e-b3d6-73203d7d00ce",
   "metadata": {},
   "outputs": [
    {
     "name": "stderr",
     "output_type": "stream",
     "text": [
      "2021-12-29 13:38:38,747 WARN session.SessionState: METASTORE_FILTER_HOOK will be ignored, since hive.security.authorization.manager is set to instance of HiveAuthorizerFactory.\n",
      "2021-12-29 13:38:38,815 WARN conf.HiveConf: HiveConf of name hive.internal.ss.authz.settings.applied.marker does not exist\n",
      "2021-12-29 13:38:38,816 WARN conf.HiveConf: HiveConf of name hive.stats.jdbc.timeout does not exist\n",
      "2021-12-29 13:38:38,817 WARN conf.HiveConf: HiveConf of name hive.stats.retries.wait does not exist\n"
     ]
    },
    {
     "data": {
      "text/html": [
       "<table border='1'>\n",
       "<tr><th></th></tr>\n",
       "</table>\n"
      ],
      "text/plain": [
       "++\n",
       "||\n",
       "++\n",
       "++"
      ]
     },
     "execution_count": 8,
     "metadata": {},
     "output_type": "execute_result"
    }
   ],
   "source": [
    "spark.sql(\"LOAD DATA LOCAL INPATH '/data/retail_db/orders/part-00000' OVERWRITE INTO TABLE orders\")"
   ]
  },
  {
   "cell_type": "code",
   "execution_count": 9,
   "id": "a56ed83a-5649-4fad-950a-cd3434b98a64",
   "metadata": {
    "tags": []
   },
   "outputs": [],
   "source": [
    "orders = spark.sql(\"SELECT * FROM orders\")"
   ]
  },
  {
   "cell_type": "code",
   "execution_count": 10,
   "id": "8c2f06ca-2413-49f6-9286-0800739748e1",
   "metadata": {},
   "outputs": [],
   "source": [
    "order_items = spark.sql(\"SELECT * FROM order_items\")"
   ]
  },
  {
   "cell_type": "code",
   "execution_count": 11,
   "id": "a37cc6a9-ae3b-425e-a1db-7a6dc026a6f4",
   "metadata": {},
   "outputs": [
    {
     "name": "stderr",
     "output_type": "stream",
     "text": [
      "[Stage 4:>                                                          (0 + 1) / 1]\r"
     ]
    },
    {
     "name": "stdout",
     "output_type": "stream",
     "text": [
      "+--------+--------------------+-----------------+---------------+\n",
      "|order_id|          order_date|order_customer_id|   order_status|\n",
      "+--------+--------------------+-----------------+---------------+\n",
      "|       1|2013-07-25 00:00:...|            11599|         CLOSED|\n",
      "|       2|2013-07-25 00:00:...|              256|PENDING_PAYMENT|\n",
      "|       3|2013-07-25 00:00:...|            12111|       COMPLETE|\n",
      "|       4|2013-07-25 00:00:...|             8827|         CLOSED|\n",
      "|       5|2013-07-25 00:00:...|            11318|       COMPLETE|\n",
      "|       6|2013-07-25 00:00:...|             7130|       COMPLETE|\n",
      "|       7|2013-07-25 00:00:...|             4530|       COMPLETE|\n",
      "|       8|2013-07-25 00:00:...|             2911|     PROCESSING|\n",
      "|       9|2013-07-25 00:00:...|             5657|PENDING_PAYMENT|\n",
      "|      10|2013-07-25 00:00:...|             5648|PENDING_PAYMENT|\n",
      "|      11|2013-07-25 00:00:...|              918| PAYMENT_REVIEW|\n",
      "|      12|2013-07-25 00:00:...|             1837|         CLOSED|\n",
      "|      13|2013-07-25 00:00:...|             9149|PENDING_PAYMENT|\n",
      "|      14|2013-07-25 00:00:...|             9842|     PROCESSING|\n",
      "|      15|2013-07-25 00:00:...|             2568|       COMPLETE|\n",
      "|      16|2013-07-25 00:00:...|             7276|PENDING_PAYMENT|\n",
      "|      17|2013-07-25 00:00:...|             2667|       COMPLETE|\n",
      "|      18|2013-07-25 00:00:...|             1205|         CLOSED|\n",
      "|      19|2013-07-25 00:00:...|             9488|PENDING_PAYMENT|\n",
      "|      20|2013-07-25 00:00:...|             9198|     PROCESSING|\n",
      "+--------+--------------------+-----------------+---------------+\n",
      "only showing top 20 rows\n",
      "\n"
     ]
    },
    {
     "name": "stderr",
     "output_type": "stream",
     "text": [
      "                                                                                \r"
     ]
    }
   ],
   "source": [
    "orders.select('*').show()"
   ]
  },
  {
   "cell_type": "code",
   "execution_count": 12,
   "id": "ed4d5004-a560-44c6-ae9e-c32fd8a6404e",
   "metadata": {},
   "outputs": [
    {
     "name": "stdout",
     "output_type": "stream",
     "text": [
      "+-------------+-------------------+---------------------+-------------------+-------------------+------------------------+\n",
      "|order_item_id|order_item_order_id|order_item_product_id|order_item_quantity|order_item_subtotal|order_item_product_price|\n",
      "+-------------+-------------------+---------------------+-------------------+-------------------+------------------------+\n",
      "|            1|                  1|                  957|                  1|             299.98|                  299.98|\n",
      "|            2|                  2|                 1073|                  1|             199.99|                  199.99|\n",
      "|            3|                  2|                  502|                  5|              250.0|                    50.0|\n",
      "|            4|                  2|                  403|                  1|             129.99|                  129.99|\n",
      "|            5|                  4|                  897|                  2|              49.98|                   24.99|\n",
      "|            6|                  4|                  365|                  5|             299.95|                   59.99|\n",
      "|            7|                  4|                  502|                  3|              150.0|                    50.0|\n",
      "|            8|                  4|                 1014|                  4|             199.92|                   49.98|\n",
      "|            9|                  5|                  957|                  1|             299.98|                  299.98|\n",
      "|           10|                  5|                  365|                  5|             299.95|                   59.99|\n",
      "|           11|                  5|                 1014|                  2|              99.96|                   49.98|\n",
      "|           12|                  5|                  957|                  1|             299.98|                  299.98|\n",
      "|           13|                  5|                  403|                  1|             129.99|                  129.99|\n",
      "|           14|                  7|                 1073|                  1|             199.99|                  199.99|\n",
      "|           15|                  7|                  957|                  1|             299.98|                  299.98|\n",
      "|           16|                  7|                  926|                  5|              79.95|                   15.99|\n",
      "|           17|                  8|                  365|                  3|             179.97|                   59.99|\n",
      "|           18|                  8|                  365|                  5|             299.95|                   59.99|\n",
      "|           19|                  8|                 1014|                  4|             199.92|                   49.98|\n",
      "|           20|                  8|                  502|                  1|               50.0|                    50.0|\n",
      "+-------------+-------------------+---------------------+-------------------+-------------------+------------------------+\n",
      "only showing top 20 rows\n",
      "\n"
     ]
    }
   ],
   "source": [
    "order_items.select('*').show()"
   ]
  },
  {
   "cell_type": "code",
   "execution_count": 13,
   "id": "6887aebc-a82b-4f24-b11c-924353a21a36",
   "metadata": {},
   "outputs": [],
   "source": [
    "orders_join = orders.join(\n",
    "    order_items, \n",
    "    on=orders.order_id == order_items.order_item_order_id\n",
    ")"
   ]
  },
  {
   "cell_type": "code",
   "execution_count": 14,
   "id": "4828f327-c978-4ebc-b1ca-f1c892c9dcd8",
   "metadata": {},
   "outputs": [],
   "source": [
    "orders_join2 = orders.join(\n",
    "    order_items, \n",
    "    on=orders['order_id'] == order_items['order_item_order_id'],\n",
    "    how='inner'\n",
    ")"
   ]
  },
  {
   "cell_type": "code",
   "execution_count": 15,
   "id": "c8a520c4-02c0-4c39-b4ea-9fad79cfd0d4",
   "metadata": {},
   "outputs": [
    {
     "name": "stderr",
     "output_type": "stream",
     "text": [
      "                                                                                \r"
     ]
    },
    {
     "name": "stdout",
     "output_type": "stream",
     "text": [
      "+--------+--------------------+-----------------+---------------+-------------+-------------------+---------------------+-------------------+-------------------+------------------------+\n",
      "|order_id|          order_date|order_customer_id|   order_status|order_item_id|order_item_order_id|order_item_product_id|order_item_quantity|order_item_subtotal|order_item_product_price|\n",
      "+--------+--------------------+-----------------+---------------+-------------+-------------------+---------------------+-------------------+-------------------+------------------------+\n",
      "|       1|2013-07-25 00:00:...|            11599|         CLOSED|            1|                  1|                  957|                  1|             299.98|                  299.98|\n",
      "|       2|2013-07-25 00:00:...|              256|PENDING_PAYMENT|            2|                  2|                 1073|                  1|             199.99|                  199.99|\n",
      "|       2|2013-07-25 00:00:...|              256|PENDING_PAYMENT|            3|                  2|                  502|                  5|              250.0|                    50.0|\n",
      "|       2|2013-07-25 00:00:...|              256|PENDING_PAYMENT|            4|                  2|                  403|                  1|             129.99|                  129.99|\n",
      "|       4|2013-07-25 00:00:...|             8827|         CLOSED|            5|                  4|                  897|                  2|              49.98|                   24.99|\n",
      "|       4|2013-07-25 00:00:...|             8827|         CLOSED|            6|                  4|                  365|                  5|             299.95|                   59.99|\n",
      "|       4|2013-07-25 00:00:...|             8827|         CLOSED|            7|                  4|                  502|                  3|              150.0|                    50.0|\n",
      "|       4|2013-07-25 00:00:...|             8827|         CLOSED|            8|                  4|                 1014|                  4|             199.92|                   49.98|\n",
      "|       5|2013-07-25 00:00:...|            11318|       COMPLETE|            9|                  5|                  957|                  1|             299.98|                  299.98|\n",
      "|       5|2013-07-25 00:00:...|            11318|       COMPLETE|           10|                  5|                  365|                  5|             299.95|                   59.99|\n",
      "|       5|2013-07-25 00:00:...|            11318|       COMPLETE|           11|                  5|                 1014|                  2|              99.96|                   49.98|\n",
      "|       5|2013-07-25 00:00:...|            11318|       COMPLETE|           12|                  5|                  957|                  1|             299.98|                  299.98|\n",
      "|       5|2013-07-25 00:00:...|            11318|       COMPLETE|           13|                  5|                  403|                  1|             129.99|                  129.99|\n",
      "|       7|2013-07-25 00:00:...|             4530|       COMPLETE|           14|                  7|                 1073|                  1|             199.99|                  199.99|\n",
      "|       7|2013-07-25 00:00:...|             4530|       COMPLETE|           15|                  7|                  957|                  1|             299.98|                  299.98|\n",
      "|       7|2013-07-25 00:00:...|             4530|       COMPLETE|           16|                  7|                  926|                  5|              79.95|                   15.99|\n",
      "|       8|2013-07-25 00:00:...|             2911|     PROCESSING|           17|                  8|                  365|                  3|             179.97|                   59.99|\n",
      "|       8|2013-07-25 00:00:...|             2911|     PROCESSING|           18|                  8|                  365|                  5|             299.95|                   59.99|\n",
      "|       8|2013-07-25 00:00:...|             2911|     PROCESSING|           19|                  8|                 1014|                  4|             199.92|                   49.98|\n",
      "|       8|2013-07-25 00:00:...|             2911|     PROCESSING|           20|                  8|                  502|                  1|               50.0|                    50.0|\n",
      "+--------+--------------------+-----------------+---------------+-------------+-------------------+---------------------+-------------------+-------------------+------------------------+\n",
      "only showing top 20 rows\n",
      "\n"
     ]
    }
   ],
   "source": [
    "orders_join.select(\"*\").show()"
   ]
  },
  {
   "cell_type": "code",
   "execution_count": 16,
   "id": "516f4433-4e0c-4565-a141-f1d7b131f920",
   "metadata": {},
   "outputs": [
    {
     "name": "stderr",
     "output_type": "stream",
     "text": [
      "                                                                                \r"
     ]
    },
    {
     "data": {
      "text/plain": [
       "68883"
      ]
     },
     "execution_count": 16,
     "metadata": {},
     "output_type": "execute_result"
    }
   ],
   "source": [
    "orders.count()"
   ]
  },
  {
   "cell_type": "code",
   "execution_count": 17,
   "id": "a9f8e9a9-39f8-488f-9329-171d4f8b9063",
   "metadata": {},
   "outputs": [
    {
     "data": {
      "text/plain": [
       "172198"
      ]
     },
     "execution_count": 17,
     "metadata": {},
     "output_type": "execute_result"
    }
   ],
   "source": [
    "order_items.count()"
   ]
  },
  {
   "cell_type": "code",
   "execution_count": 18,
   "id": "869ff5dc-f110-4c34-aaed-c2f5d06287f6",
   "metadata": {},
   "outputs": [
    {
     "name": "stderr",
     "output_type": "stream",
     "text": [
      "                                                                                \r"
     ]
    },
    {
     "data": {
      "text/plain": [
       "172198"
      ]
     },
     "execution_count": 18,
     "metadata": {},
     "output_type": "execute_result"
    }
   ],
   "source": [
    "orders_join.count()"
   ]
  },
  {
   "cell_type": "code",
   "execution_count": 19,
   "id": "58c402eb-29a5-4dc9-a1ca-2decda9a16f7",
   "metadata": {},
   "outputs": [
    {
     "name": "stderr",
     "output_type": "stream",
     "text": [
      "                                                                                \r"
     ]
    },
    {
     "name": "stdout",
     "output_type": "stream",
     "text": [
      "+--------+--------------------+-----------------+---------------+-------------------+\n",
      "|order_id|          order_date|order_customer_id|   order_status|order_item_subtotal|\n",
      "+--------+--------------------+-----------------+---------------+-------------------+\n",
      "|       1|2013-07-25 00:00:...|            11599|         CLOSED|             299.98|\n",
      "|       2|2013-07-25 00:00:...|              256|PENDING_PAYMENT|             129.99|\n",
      "|       2|2013-07-25 00:00:...|              256|PENDING_PAYMENT|              250.0|\n",
      "|       2|2013-07-25 00:00:...|              256|PENDING_PAYMENT|             199.99|\n",
      "|       4|2013-07-25 00:00:...|             8827|         CLOSED|             199.92|\n",
      "|       4|2013-07-25 00:00:...|             8827|         CLOSED|              150.0|\n",
      "|       4|2013-07-25 00:00:...|             8827|         CLOSED|             299.95|\n",
      "|       4|2013-07-25 00:00:...|             8827|         CLOSED|              49.98|\n",
      "|       5|2013-07-25 00:00:...|            11318|       COMPLETE|             129.99|\n",
      "|       5|2013-07-25 00:00:...|            11318|       COMPLETE|             299.98|\n",
      "|       5|2013-07-25 00:00:...|            11318|       COMPLETE|              99.96|\n",
      "|       5|2013-07-25 00:00:...|            11318|       COMPLETE|             299.95|\n",
      "|       5|2013-07-25 00:00:...|            11318|       COMPLETE|             299.98|\n",
      "|       7|2013-07-25 00:00:...|             4530|       COMPLETE|              79.95|\n",
      "|       7|2013-07-25 00:00:...|             4530|       COMPLETE|             299.98|\n",
      "|       7|2013-07-25 00:00:...|             4530|       COMPLETE|             199.99|\n",
      "|       8|2013-07-25 00:00:...|             2911|     PROCESSING|               50.0|\n",
      "|       8|2013-07-25 00:00:...|             2911|     PROCESSING|             199.92|\n",
      "|       8|2013-07-25 00:00:...|             2911|     PROCESSING|             299.95|\n",
      "|       8|2013-07-25 00:00:...|             2911|     PROCESSING|             179.97|\n",
      "+--------+--------------------+-----------------+---------------+-------------------+\n",
      "only showing top 20 rows\n",
      "\n"
     ]
    }
   ],
   "source": [
    "orders. \\\n",
    "    join(\n",
    "        order_items, \n",
    "        on=orders['order_id'] == order_items['order_item_order_id'],\n",
    "        how='inner'\n",
    "    ). \\\n",
    "    select(orders['*'], order_items['order_item_subtotal']).show()"
   ]
  },
  {
   "cell_type": "code",
   "execution_count": 20,
   "id": "24d1cd93-2d93-47da-a87c-fe26cfd9a5c2",
   "metadata": {},
   "outputs": [
    {
     "name": "stderr",
     "output_type": "stream",
     "text": [
      "                                                                                \r"
     ]
    },
    {
     "name": "stdout",
     "output_type": "stream",
     "text": [
      "+--------+--------------------+---------------+-------------------+\n",
      "|order_id|          order_date|   order_status|order_item_subtotal|\n",
      "+--------+--------------------+---------------+-------------------+\n",
      "|       1|2013-07-25 00:00:...|         CLOSED|             299.98|\n",
      "|       2|2013-07-25 00:00:...|PENDING_PAYMENT|             129.99|\n",
      "|       2|2013-07-25 00:00:...|PENDING_PAYMENT|              250.0|\n",
      "|       2|2013-07-25 00:00:...|PENDING_PAYMENT|             199.99|\n",
      "|       4|2013-07-25 00:00:...|         CLOSED|             199.92|\n",
      "|       4|2013-07-25 00:00:...|         CLOSED|              150.0|\n",
      "|       4|2013-07-25 00:00:...|         CLOSED|             299.95|\n",
      "|       4|2013-07-25 00:00:...|         CLOSED|              49.98|\n",
      "|       5|2013-07-25 00:00:...|       COMPLETE|             129.99|\n",
      "|       5|2013-07-25 00:00:...|       COMPLETE|             299.98|\n",
      "|       5|2013-07-25 00:00:...|       COMPLETE|              99.96|\n",
      "|       5|2013-07-25 00:00:...|       COMPLETE|             299.95|\n",
      "|       5|2013-07-25 00:00:...|       COMPLETE|             299.98|\n",
      "|       7|2013-07-25 00:00:...|       COMPLETE|              79.95|\n",
      "|       7|2013-07-25 00:00:...|       COMPLETE|             299.98|\n",
      "|       7|2013-07-25 00:00:...|       COMPLETE|             199.99|\n",
      "|       8|2013-07-25 00:00:...|     PROCESSING|               50.0|\n",
      "|       8|2013-07-25 00:00:...|     PROCESSING|             199.92|\n",
      "|       8|2013-07-25 00:00:...|     PROCESSING|             299.95|\n",
      "|       8|2013-07-25 00:00:...|     PROCESSING|             179.97|\n",
      "+--------+--------------------+---------------+-------------------+\n",
      "only showing top 20 rows\n",
      "\n"
     ]
    }
   ],
   "source": [
    "orders. \\\n",
    "    join(\n",
    "        order_items, \n",
    "        on=orders['order_id'] == order_items['order_item_order_id']\n",
    "    ). \\\n",
    "    select(orders['order_id'], orders['order_date'], orders['order_status'], order_items['order_item_subtotal']). \\\n",
    "    show()"
   ]
  },
  {
   "cell_type": "code",
   "execution_count": 21,
   "id": "9d4be545-3060-4649-9532-6389fe1d5453",
   "metadata": {},
   "outputs": [
    {
     "name": "stderr",
     "output_type": "stream",
     "text": [
      "2021-12-29 13:39:03,408 ERROR metastore.RetryingHMSHandler: AlreadyExistsException(message:Table customers already exists)\n",
      "\tat org.apache.hadoop.hive.metastore.HiveMetaStore$HMSHandler.create_table_core(HiveMetaStore.java:1416)\n",
      "\tat org.apache.hadoop.hive.metastore.HiveMetaStore$HMSHandler.create_table_with_environment_context(HiveMetaStore.java:1503)\n",
      "\tat sun.reflect.NativeMethodAccessorImpl.invoke0(Native Method)\n",
      "\tat sun.reflect.NativeMethodAccessorImpl.invoke(NativeMethodAccessorImpl.java:62)\n",
      "\tat sun.reflect.DelegatingMethodAccessorImpl.invoke(DelegatingMethodAccessorImpl.java:43)\n",
      "\tat java.lang.reflect.Method.invoke(Method.java:498)\n",
      "\tat org.apache.hadoop.hive.metastore.RetryingHMSHandler.invokeInternal(RetryingHMSHandler.java:148)\n",
      "\tat org.apache.hadoop.hive.metastore.RetryingHMSHandler.invoke(RetryingHMSHandler.java:107)\n",
      "\tat com.sun.proxy.$Proxy33.create_table_with_environment_context(Unknown Source)\n",
      "\tat org.apache.hadoop.hive.metastore.HiveMetaStoreClient.create_table_with_environment_context(HiveMetaStoreClient.java:2396)\n",
      "\tat org.apache.hadoop.hive.ql.metadata.SessionHiveMetaStoreClient.create_table_with_environment_context(SessionHiveMetaStoreClient.java:93)\n",
      "\tat org.apache.hadoop.hive.metastore.HiveMetaStoreClient.createTable(HiveMetaStoreClient.java:750)\n",
      "\tat org.apache.hadoop.hive.metastore.HiveMetaStoreClient.createTable(HiveMetaStoreClient.java:738)\n",
      "\tat sun.reflect.NativeMethodAccessorImpl.invoke0(Native Method)\n",
      "\tat sun.reflect.NativeMethodAccessorImpl.invoke(NativeMethodAccessorImpl.java:62)\n",
      "\tat sun.reflect.DelegatingMethodAccessorImpl.invoke(DelegatingMethodAccessorImpl.java:43)\n",
      "\tat java.lang.reflect.Method.invoke(Method.java:498)\n",
      "\tat org.apache.hadoop.hive.metastore.RetryingMetaStoreClient.invoke(RetryingMetaStoreClient.java:173)\n",
      "\tat com.sun.proxy.$Proxy34.createTable(Unknown Source)\n",
      "\tat org.apache.hadoop.hive.ql.metadata.Hive.createTable(Hive.java:859)\n",
      "\tat org.apache.hadoop.hive.ql.metadata.Hive.createTable(Hive.java:874)\n",
      "\tat org.apache.spark.sql.hive.client.HiveClientImpl.$anonfun$createTable$1(HiveClientImpl.scala:553)\n",
      "\tat scala.runtime.java8.JFunction0$mcV$sp.apply(JFunction0$mcV$sp.java:23)\n",
      "\tat org.apache.spark.sql.hive.client.HiveClientImpl.$anonfun$withHiveState$1(HiveClientImpl.scala:303)\n",
      "\tat org.apache.spark.sql.hive.client.HiveClientImpl.liftedTree1$1(HiveClientImpl.scala:234)\n",
      "\tat org.apache.spark.sql.hive.client.HiveClientImpl.retryLocked(HiveClientImpl.scala:233)\n",
      "\tat org.apache.spark.sql.hive.client.HiveClientImpl.withHiveState(HiveClientImpl.scala:283)\n",
      "\tat org.apache.spark.sql.hive.client.HiveClientImpl.createTable(HiveClientImpl.scala:551)\n",
      "\tat org.apache.spark.sql.hive.HiveExternalCatalog.$anonfun$createTable$1(HiveExternalCatalog.scala:287)\n",
      "\tat scala.runtime.java8.JFunction0$mcV$sp.apply(JFunction0$mcV$sp.java:23)\n",
      "\tat org.apache.spark.sql.hive.HiveExternalCatalog.withClient(HiveExternalCatalog.scala:102)\n",
      "\tat org.apache.spark.sql.hive.HiveExternalCatalog.createTable(HiveExternalCatalog.scala:245)\n",
      "\tat org.apache.spark.sql.catalyst.catalog.ExternalCatalogWithListener.createTable(ExternalCatalogWithListener.scala:94)\n",
      "\tat org.apache.spark.sql.catalyst.catalog.SessionCatalog.createTable(SessionCatalog.scala:376)\n",
      "\tat org.apache.spark.sql.execution.command.CreateTableCommand.run(tables.scala:167)\n",
      "\tat org.apache.spark.sql.execution.command.ExecutedCommandExec.sideEffectResult$lzycompute(commands.scala:75)\n",
      "\tat org.apache.spark.sql.execution.command.ExecutedCommandExec.sideEffectResult(commands.scala:73)\n",
      "\tat org.apache.spark.sql.execution.command.ExecutedCommandExec.executeCollect(commands.scala:84)\n",
      "\tat org.apache.spark.sql.execution.QueryExecution$$anonfun$eagerlyExecuteCommands$1.$anonfun$applyOrElse$1(QueryExecution.scala:110)\n",
      "\tat org.apache.spark.sql.execution.SQLExecution$.$anonfun$withNewExecutionId$5(SQLExecution.scala:103)\n",
      "\tat org.apache.spark.sql.execution.SQLExecution$.withSQLConfPropagated(SQLExecution.scala:163)\n",
      "\tat org.apache.spark.sql.execution.SQLExecution$.$anonfun$withNewExecutionId$1(SQLExecution.scala:90)\n",
      "\tat org.apache.spark.sql.SparkSession.withActive(SparkSession.scala:775)\n",
      "\tat org.apache.spark.sql.execution.SQLExecution$.withNewExecutionId(SQLExecution.scala:64)\n",
      "\tat org.apache.spark.sql.execution.QueryExecution$$anonfun$eagerlyExecuteCommands$1.applyOrElse(QueryExecution.scala:110)\n",
      "\tat org.apache.spark.sql.execution.QueryExecution$$anonfun$eagerlyExecuteCommands$1.applyOrElse(QueryExecution.scala:106)\n",
      "\tat org.apache.spark.sql.catalyst.trees.TreeNode.$anonfun$transformDownWithPruning$1(TreeNode.scala:481)\n",
      "\tat org.apache.spark.sql.catalyst.trees.CurrentOrigin$.withOrigin(TreeNode.scala:82)\n",
      "\tat org.apache.spark.sql.catalyst.trees.TreeNode.transformDownWithPruning(TreeNode.scala:481)\n",
      "\tat org.apache.spark.sql.catalyst.plans.logical.LogicalPlan.org$apache$spark$sql$catalyst$plans$logical$AnalysisHelper$$super$transformDownWithPruning(LogicalPlan.scala:30)\n",
      "\tat org.apache.spark.sql.catalyst.plans.logical.AnalysisHelper.transformDownWithPruning(AnalysisHelper.scala:267)\n",
      "\tat org.apache.spark.sql.catalyst.plans.logical.AnalysisHelper.transformDownWithPruning$(AnalysisHelper.scala:263)\n",
      "\tat org.apache.spark.sql.catalyst.plans.logical.LogicalPlan.transformDownWithPruning(LogicalPlan.scala:30)\n",
      "\tat org.apache.spark.sql.catalyst.plans.logical.LogicalPlan.transformDownWithPruning(LogicalPlan.scala:30)\n",
      "\tat org.apache.spark.sql.catalyst.trees.TreeNode.transformDown(TreeNode.scala:457)\n",
      "\tat org.apache.spark.sql.execution.QueryExecution.eagerlyExecuteCommands(QueryExecution.scala:106)\n",
      "\tat org.apache.spark.sql.execution.QueryExecution.commandExecuted$lzycompute(QueryExecution.scala:93)\n",
      "\tat org.apache.spark.sql.execution.QueryExecution.commandExecuted(QueryExecution.scala:91)\n",
      "\tat org.apache.spark.sql.Dataset.<init>(Dataset.scala:219)\n",
      "\tat org.apache.spark.sql.Dataset$.$anonfun$ofRows$2(Dataset.scala:99)\n",
      "\tat org.apache.spark.sql.SparkSession.withActive(SparkSession.scala:775)\n",
      "\tat org.apache.spark.sql.Dataset$.ofRows(Dataset.scala:96)\n",
      "\tat org.apache.spark.sql.SparkSession.$anonfun$sql$1(SparkSession.scala:618)\n",
      "\tat org.apache.spark.sql.SparkSession.withActive(SparkSession.scala:775)\n",
      "\tat org.apache.spark.sql.SparkSession.sql(SparkSession.scala:613)\n",
      "\tat sun.reflect.NativeMethodAccessorImpl.invoke0(Native Method)\n",
      "\tat sun.reflect.NativeMethodAccessorImpl.invoke(NativeMethodAccessorImpl.java:62)\n",
      "\tat sun.reflect.DelegatingMethodAccessorImpl.invoke(DelegatingMethodAccessorImpl.java:43)\n",
      "\tat java.lang.reflect.Method.invoke(Method.java:498)\n",
      "\tat py4j.reflection.MethodInvoker.invoke(MethodInvoker.java:244)\n",
      "\tat py4j.reflection.ReflectionEngine.invoke(ReflectionEngine.java:357)\n",
      "\tat py4j.Gateway.invoke(Gateway.java:282)\n",
      "\tat py4j.commands.AbstractCommand.invokeMethod(AbstractCommand.java:132)\n",
      "\tat py4j.commands.CallCommand.execute(CallCommand.java:79)\n",
      "\tat py4j.ClientServerConnection.waitForCommands(ClientServerConnection.java:182)\n",
      "\tat py4j.ClientServerConnection.run(ClientServerConnection.java:106)\n",
      "\tat java.lang.Thread.run(Thread.java:748)\n",
      "\n"
     ]
    },
    {
     "data": {
      "text/html": [
       "<table border='1'>\n",
       "<tr><th></th></tr>\n",
       "</table>\n"
      ],
      "text/plain": [
       "++\n",
       "||\n",
       "++\n",
       "++"
      ]
     },
     "execution_count": 21,
     "metadata": {},
     "output_type": "execute_result"
    }
   ],
   "source": [
    "spark.sql(\"\"\"\n",
    "    CREATE TABLE IF NOT EXISTS customers(\n",
    "        customer_city STRING,\n",
    "        customer_email STRING,\n",
    "        customer_fname STRING,\n",
    "        customer_id INT,\n",
    "        customer_lname STRING,\n",
    "        customer_password STRING,\n",
    "        customer_state STRING,\n",
    "        customer_street STRING,\n",
    "        customer_zipcode STRING\n",
    "    )ROW FORMAT DELIMITED FIELDS TERMINATED BY ','\n",
    "\"\"\")"
   ]
  },
  {
   "cell_type": "code",
   "execution_count": 22,
   "id": "ffea805f-7b22-494b-815f-2272772cc5a9",
   "metadata": {},
   "outputs": [
    {
     "data": {
      "text/html": [
       "<table border='1'>\n",
       "<tr><th></th></tr>\n",
       "</table>\n"
      ],
      "text/plain": [
       "++\n",
       "||\n",
       "++\n",
       "++"
      ]
     },
     "execution_count": 22,
     "metadata": {},
     "output_type": "execute_result"
    }
   ],
   "source": [
    "spark.sql(\"LOAD DATA LOCAL INPATH '/data/retail_db/customers/part-00000' INTO TABLE customers\")"
   ]
  },
  {
   "cell_type": "code",
   "execution_count": 23,
   "id": "4a389534-0583-4e39-a98d-da455b43ecdd",
   "metadata": {},
   "outputs": [],
   "source": [
    "customers = spark.sql(\"SELECT * FROM customers\")"
   ]
  },
  {
   "cell_type": "code",
   "execution_count": 24,
   "id": "07dd18a6-d716-4ffb-b5bd-9270a2f46440",
   "metadata": {},
   "outputs": [
    {
     "name": "stdout",
     "output_type": "stream",
     "text": [
      "root\n",
      " |-- customer_city: string (nullable = true)\n",
      " |-- customer_email: string (nullable = true)\n",
      " |-- customer_fname: string (nullable = true)\n",
      " |-- customer_id: integer (nullable = true)\n",
      " |-- customer_lname: string (nullable = true)\n",
      " |-- customer_password: string (nullable = true)\n",
      " |-- customer_state: string (nullable = true)\n",
      " |-- customer_street: string (nullable = true)\n",
      " |-- customer_zipcode: string (nullable = true)\n",
      "\n"
     ]
    }
   ],
   "source": [
    "customers.printSchema()"
   ]
  },
  {
   "cell_type": "code",
   "execution_count": 25,
   "id": "319ed373-fec7-4574-bbc3-1d02c2e997a1",
   "metadata": {},
   "outputs": [
    {
     "name": "stdout",
     "output_type": "stream",
     "text": [
      "root\n",
      " |-- order_id: integer (nullable = true)\n",
      " |-- order_date: string (nullable = true)\n",
      " |-- order_customer_id: integer (nullable = true)\n",
      " |-- order_status: string (nullable = true)\n",
      "\n"
     ]
    }
   ],
   "source": [
    "orders.printSchema()"
   ]
  },
  {
   "cell_type": "code",
   "execution_count": 26,
   "id": "bfd7e5db-3617-4068-8819-faa0cf164407",
   "metadata": {},
   "outputs": [
    {
     "name": "stdout",
     "output_type": "stream",
     "text": [
      "+-------------+--------------+--------------+-----------+--------------+--------------------+--------------+---------------+----------------+\n",
      "|customer_city|customer_email|customer_fname|customer_id|customer_lname|   customer_password|customer_state|customer_street|customer_zipcode|\n",
      "+-------------+--------------+--------------+-----------+--------------+--------------------+--------------+---------------+----------------+\n",
      "|            1|       Richard|     Hernandez|       null|     XXXXXXXXX|  6303 Heather Plaza|   Brownsville|             TX|           78521|\n",
      "|            2|          Mary|       Barrett|       null|     XXXXXXXXX|9526 Noble Embers...|     Littleton|             CO|           80126|\n",
      "|            3|           Ann|         Smith|       null|     XXXXXXXXX|3422 Blue Pioneer...|        Caguas|             PR|           00725|\n",
      "|            4|          Mary|         Jones|       null|     XXXXXXXXX|  8324 Little Common|    San Marcos|             CA|           92069|\n",
      "|            5|        Robert|        Hudson|       null|     XXXXXXXXX|\"10 Crystal River...|        Caguas|             PR|           00725|\n",
      "|            6|          Mary|         Smith|       null|     XXXXXXXXX|3151 Sleepy Quail...|       Passaic|             NJ|           07055|\n",
      "|            7|       Melissa|        Wilcox|       null|     XXXXXXXXX|9453 High Concession|        Caguas|             PR|           00725|\n",
      "|            8|         Megan|         Smith|       null|     XXXXXXXXX|3047 Foggy Forest...|      Lawrence|             MA|           01841|\n",
      "|            9|          Mary|         Perez|       null|     XXXXXXXXX| 3616 Quaking Street|        Caguas|             PR|           00725|\n",
      "|           10|       Melissa|         Smith|       null|     XXXXXXXXX|8598 Harvest Beac...|      Stafford|             VA|           22554|\n",
      "|           11|          Mary|       Huffman|       null|     XXXXXXXXX|    3169 Stony Woods|        Caguas|             PR|           00725|\n",
      "|           12|   Christopher|         Smith|       null|     XXXXXXXXX|5594 Jagged Ember...|   San Antonio|             TX|           78227|\n",
      "|           13|          Mary|       Baldwin|       null|     XXXXXXXXX|7922 Iron Oak Gar...|        Caguas|             PR|           00725|\n",
      "|           14|     Katherine|         Smith|       null|     XXXXXXXXX|5666 Hazy Pony Sq...|   Pico Rivera|             CA|           90660|\n",
      "|           15|          Jane|          Luna|       null|     XXXXXXXXX|    673 Burning Glen|       Fontana|             CA|           92336|\n",
      "|           16|       Tiffany|         Smith|       null|     XXXXXXXXX|      6651 Iron Port|        Caguas|             PR|           00725|\n",
      "|           17|          Mary|      Robinson|       null|     XXXXXXXXX|     1325 Noble Pike|        Taylor|             MI|           48180|\n",
      "|           18|        Robert|         Smith|       null|     XXXXXXXXX|2734 Hazy Butterf...|      Martinez|             CA|           94553|\n",
      "|           19|     Stephanie|      Mitchell|       null|     XXXXXXXXX|3543 Red Treasure...|        Caguas|             PR|           00725|\n",
      "|           20|          Mary|         Ellis|       null|     XXXXXXXXX|      4703 Old Route| West New York|             NJ|           07093|\n",
      "+-------------+--------------+--------------+-----------+--------------+--------------------+--------------+---------------+----------------+\n",
      "only showing top 20 rows\n",
      "\n"
     ]
    }
   ],
   "source": [
    "customers.show()"
   ]
  },
  {
   "cell_type": "code",
   "execution_count": 27,
   "id": "88539c01-ade1-41eb-88f2-47f48f372748",
   "metadata": {},
   "outputs": [],
   "source": [
    "customer_order_details = customers.join(\n",
    "    orders, \n",
    "    on=customers['customer_id'] == orders['order_customer_id'],\n",
    "    how='inner'\n",
    ")"
   ]
  },
  {
   "cell_type": "code",
   "execution_count": 28,
   "id": "6fe35be3-5b98-4abf-9769-a6cc6f05b3a0",
   "metadata": {},
   "outputs": [
    {
     "name": "stdout",
     "output_type": "stream",
     "text": [
      "+--------------+\n",
      "|customer_fname|\n",
      "+--------------+\n",
      "|     Hernandez|\n",
      "|       Barrett|\n",
      "|         Smith|\n",
      "|         Jones|\n",
      "|        Hudson|\n",
      "|         Smith|\n",
      "|        Wilcox|\n",
      "|         Smith|\n",
      "|         Perez|\n",
      "|         Smith|\n",
      "|       Huffman|\n",
      "|         Smith|\n",
      "|       Baldwin|\n",
      "|         Smith|\n",
      "|          Luna|\n",
      "|         Smith|\n",
      "|      Robinson|\n",
      "|         Smith|\n",
      "|      Mitchell|\n",
      "|         Ellis|\n",
      "+--------------+\n",
      "only showing top 20 rows\n",
      "\n"
     ]
    }
   ],
   "source": [
    "customers.select('customer_fname').show()"
   ]
  },
  {
   "cell_type": "code",
   "execution_count": 29,
   "id": "b9203ba7-3de8-4673-85cb-d559f1c8aa79",
   "metadata": {},
   "outputs": [
    {
     "name": "stderr",
     "output_type": "stream",
     "text": [
      "[Stage 26:>                                                         (0 + 1) / 1]\r"
     ]
    },
    {
     "name": "stdout",
     "output_type": "stream",
     "text": [
      "+--------------+-----------+\n",
      "|customer_fname|count_fname|\n",
      "+--------------+-----------+\n",
      "|        Abbott|          2|\n",
      "|       Acevedo|         10|\n",
      "|        Acosta|         14|\n",
      "|         Adams|         44|\n",
      "|        Adkins|         12|\n",
      "|       Aguilar|         16|\n",
      "|       Aguirre|          6|\n",
      "|     Alexander|         24|\n",
      "|           Ali|          6|\n",
      "|         Allen|         58|\n",
      "|       Allison|          6|\n",
      "|      Alvarado|         12|\n",
      "|       Alvarez|         24|\n",
      "|      Andersen|          4|\n",
      "|      Anderson|         66|\n",
      "|       Andrade|         14|\n",
      "|       Andrews|         26|\n",
      "|       Anthony|          4|\n",
      "|        Archer|          8|\n",
      "|      Arellano|          8|\n",
      "+--------------+-----------+\n",
      "only showing top 20 rows\n",
      "\n"
     ]
    },
    {
     "name": "stderr",
     "output_type": "stream",
     "text": [
      "                                                                                \r"
     ]
    }
   ],
   "source": [
    "customers.groupBy('customer_fname').agg(count('*').alias('count_fname')).sort(asc('customer_fname')).show()"
   ]
  },
  {
   "cell_type": "code",
   "execution_count": 30,
   "id": "de46a206-f6ba-4751-86ed-56c6208c7a32",
   "metadata": {},
   "outputs": [
    {
     "name": "stdout",
     "output_type": "stream",
     "text": [
      "/user/band/warehouse/15_first.csv\n"
     ]
    }
   ],
   "source": [
    "path = f\"/user/{username}/warehouse/15_first.csv\"\n",
    "print(path)"
   ]
  },
  {
   "cell_type": "code",
   "execution_count": 31,
   "id": "7eb04314-a1f1-431b-8bf5-98c3b4000959",
   "metadata": {},
   "outputs": [
    {
     "name": "stderr",
     "output_type": "stream",
     "text": [
      "                                                                                \r"
     ]
    },
    {
     "name": "stdout",
     "output_type": "stream",
     "text": [
      "+--------+--------------------+-----------------+---------------+\n",
      "|order_id|          order_date|order_customer_id|   order_status|\n",
      "+--------+--------------------+-----------------+---------------+\n",
      "|       1|2013-07-25 00:00:...|            11599|         CLOSED|\n",
      "|       2|2013-07-25 00:00:...|              256|PENDING_PAYMENT|\n",
      "|       3|2013-07-25 00:00:...|            12111|       COMPLETE|\n",
      "|       4|2013-07-25 00:00:...|             8827|         CLOSED|\n",
      "|       5|2013-07-25 00:00:...|            11318|       COMPLETE|\n",
      "|       6|2013-07-25 00:00:...|             7130|       COMPLETE|\n",
      "|       7|2013-07-25 00:00:...|             4530|       COMPLETE|\n",
      "|       8|2013-07-25 00:00:...|             2911|     PROCESSING|\n",
      "|       9|2013-07-25 00:00:...|             5657|PENDING_PAYMENT|\n",
      "|      10|2013-07-25 00:00:...|             5648|PENDING_PAYMENT|\n",
      "|      11|2013-07-25 00:00:...|              918| PAYMENT_REVIEW|\n",
      "|      12|2013-07-25 00:00:...|             1837|         CLOSED|\n",
      "|      13|2013-07-25 00:00:...|             9149|PENDING_PAYMENT|\n",
      "|      14|2013-07-25 00:00:...|             9842|     PROCESSING|\n",
      "|      15|2013-07-25 00:00:...|             2568|       COMPLETE|\n",
      "+--------+--------------------+-----------------+---------------+\n",
      "\n"
     ]
    },
    {
     "name": "stderr",
     "output_type": "stream",
     "text": [
      "                                                                                \r"
     ]
    }
   ],
   "source": [
    "spark.read.csv(path=path, header=True, inferSchema=True).show()"
   ]
  },
  {
   "cell_type": "code",
   "execution_count": 32,
   "id": "c6f2f62b-a1c5-44d1-9086-13a8971ae33c",
   "metadata": {},
   "outputs": [],
   "source": [
    "employeesSchema = StructType([\n",
    "    StructField(\"employee_id\", IntegerType()),\n",
    "    StructField(\"first_name\", StringType()),\n",
    "    StructField(\"last_name\", StringType()),\n",
    "    StructField(\"salary\", FloatType()),\n",
    "    StructField(\"nationality\", StringType())\n",
    "])"
   ]
  },
  {
   "cell_type": "code",
   "execution_count": 33,
   "id": "584648c9-45f4-40df-9ffa-175120ce8f9c",
   "metadata": {},
   "outputs": [
    {
     "data": {
      "text/plain": [
       "[Table(name='customers', database='band_retail', description=None, tableType='MANAGED', isTemporary=False),\n",
       " Table(name='employees', database='band_retail', description=None, tableType='MANAGED', isTemporary=False),\n",
       " Table(name='order_items', database='band_retail', description=None, tableType='MANAGED', isTemporary=False),\n",
       " Table(name='orders', database='band_retail', description=None, tableType='MANAGED', isTemporary=False)]"
      ]
     },
     "execution_count": 33,
     "metadata": {},
     "output_type": "execute_result"
    }
   ],
   "source": [
    "spark.catalog.listTables()"
   ]
  },
  {
   "cell_type": "code",
   "execution_count": null,
   "id": "659836b9-ef9e-4f6f-83fe-724638539224",
   "metadata": {},
   "outputs": [],
   "source": [
    "spark.catalog.createTable(\"employees\", schema=employeesSchema)"
   ]
  },
  {
   "cell_type": "code",
   "execution_count": null,
   "id": "381c1d5b-9ed6-456f-aa92-2701e2450609",
   "metadata": {},
   "outputs": [],
   "source": [
    "employees = [(1, \"Scott\", \"Tiger\", 1000.0, \"united states\"),\n",
    "             (2, \"Henry\", \"Ford\", 1250.0, \"India\"),\n",
    "             (3, \"Nick\", \"Junior\", 750.0, \"united KINGDOM\"),\n",
    "             (4, \"Bill\", \"Gomes\", 1500.0, \"AUSTRALIA\")\n",
    "            ]"
   ]
  },
  {
   "cell_type": "code",
   "execution_count": null,
   "id": "878e2aac-e0e3-41a0-9b02-2fcc3fb99477",
   "metadata": {},
   "outputs": [],
   "source": [
    "employeesDF = spark.createDataFrame(employees,\n",
    "    schema=\"\"\"employee_id INT, first_name STRING, last_name STRING,\n",
    "              salary FLOAT, nationality STRING\n",
    "           \"\"\"\n",
    ")"
   ]
  },
  {
   "cell_type": "code",
   "execution_count": null,
   "id": "f3484e08-22d9-422d-8c32-fb18b2a45c2d",
   "metadata": {},
   "outputs": [],
   "source": [
    "employeesDF.write.insertInto('employees', overwrite=True)"
   ]
  },
  {
   "cell_type": "code",
   "execution_count": null,
   "id": "766de497-c3c9-4eec-a180-cd21d340c1e2",
   "metadata": {},
   "outputs": [],
   "source": [
    "spark.read.table('employees').show()"
   ]
  },
  {
   "cell_type": "code",
   "execution_count": null,
   "id": "be62f5b1-47dc-4fc7-8f22-39aa931e4764",
   "metadata": {},
   "outputs": [],
   "source": [
    "spark.sql('SHOW TABLES').show()"
   ]
  },
  {
   "cell_type": "code",
   "execution_count": null,
   "id": "4b7da882-a318-4711-b054-470b4f316ccf",
   "metadata": {},
   "outputs": [],
   "source": [
    "orders.createTempView('ordersTempView')"
   ]
  },
  {
   "cell_type": "code",
   "execution_count": null,
   "id": "0619338d-e203-4344-93e5-4cc0b850ef1a",
   "metadata": {},
   "outputs": [],
   "source": [
    "orders.printSchema()"
   ]
  },
  {
   "cell_type": "code",
   "execution_count": null,
   "id": "dd3cb488-5e38-45b5-9c04-2027cbcd0788",
   "metadata": {},
   "outputs": [],
   "source": [
    "orders.select(date_format('order_date','yyyy-MM-dd').alias('date')).sort(desc('date')).show()"
   ]
  },
  {
   "cell_type": "code",
   "execution_count": null,
   "id": "a2c627e9-0668-46eb-af48-c882e82785e0",
   "metadata": {},
   "outputs": [],
   "source": [
    "orders.select('order_date').orderBy(asc('order_date')).show()"
   ]
  },
  {
   "cell_type": "code",
   "execution_count": null,
   "id": "6dc6620a-2e87-4519-a30d-1f9d48cf78da",
   "metadata": {},
   "outputs": [],
   "source": [
    "orders.printSchema()"
   ]
  },
  {
   "cell_type": "code",
   "execution_count": 35,
   "id": "e3b674d1-2ba0-425a-8f59-61e3ddc49c3f",
   "metadata": {},
   "outputs": [],
   "source": [
    "x = orders.groupBy('order_date').agg(count(col('order_date')).alias('cout_date'))"
   ]
  },
  {
   "cell_type": "code",
   "execution_count": 36,
   "id": "4f984240-c122-4b22-af86-f1d753b48f96",
   "metadata": {},
   "outputs": [
    {
     "name": "stderr",
     "output_type": "stream",
     "text": [
      "[Stage 32:=============================>                            (1 + 1) / 2]\r"
     ]
    },
    {
     "name": "stdout",
     "output_type": "stream",
     "text": [
      "+---------+\n",
      "|cout_date|\n",
      "+---------+\n",
      "|      347|\n",
      "+---------+\n",
      "only showing top 1 row\n",
      "\n"
     ]
    },
    {
     "name": "stderr",
     "output_type": "stream",
     "text": [
      "                                                                                \r"
     ]
    }
   ],
   "source": [
    "x.select('cout_date').sort(desc('cout_date')).show(1)"
   ]
  },
  {
   "cell_type": "code",
   "execution_count": 37,
   "id": "cebc525e-02be-4f84-99fa-7b182c2a10de",
   "metadata": {},
   "outputs": [
    {
     "name": "stdout",
     "output_type": "stream",
     "text": [
      "+--------+--------+\n",
      "|max_date|min_date|\n",
      "+--------+--------+\n",
      "|     347|      73|\n",
      "+--------+--------+\n",
      "\n"
     ]
    }
   ],
   "source": [
    "x.select(max('cout_date').alias('max_date'), min('cout_date').alias('min_date')).show()"
   ]
  },
  {
   "cell_type": "code",
   "execution_count": null,
   "id": "ab09fe13-5323-418b-a3fe-bc4f23d3d8a2",
   "metadata": {},
   "outputs": [],
   "source": [
    "x.filter(col('cout_date') == 73).show()"
   ]
  },
  {
   "cell_type": "code",
   "execution_count": null,
   "id": "cfc8be48-25be-434a-8722-e2720fbd77e3",
   "metadata": {},
   "outputs": [],
   "source": [
    "orders.withColumn('order_month', date_format('order_date', 'yyyyMM')).write.partitionBy('order_month').parquet(f'/user/{username}/retail_db/orders_part')"
   ]
  },
  {
   "cell_type": "code",
   "execution_count": null,
   "id": "434426fd-155c-455c-82b3-1fa5278a50e9",
   "metadata": {},
   "outputs": [],
   "source": [
    "spark.read.parquet(f'/user/{username}/retail_db/orders_part/order_month=201407').show()"
   ]
  },
  {
   "cell_type": "code",
   "execution_count": null,
   "id": "a23a23e9-a53b-417f-b824-7857fd44e740",
   "metadata": {},
   "outputs": [],
   "source": []
  }
 ],
 "metadata": {
  "kernelspec": {
   "display_name": "Pyspark 3",
   "language": "python",
   "name": "pyspark3"
  },
  "language_info": {
   "codemirror_mode": {
    "name": "ipython",
    "version": 3
   },
   "file_extension": ".py",
   "mimetype": "text/x-python",
   "name": "python",
   "nbconvert_exporter": "python",
   "pygments_lexer": "ipython3",
   "version": "3.8.10"
  }
 },
 "nbformat": 4,
 "nbformat_minor": 5
}
