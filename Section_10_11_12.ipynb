{
 "cells": [
  {
   "cell_type": "code",
   "execution_count": null,
   "id": "99e6fb20-49e2-430e-98ef-7c0353fd0afa",
   "metadata": {},
   "outputs": [],
   "source": [
    "# Spark SQL fundamentals"
   ]
  },
  {
   "cell_type": "code",
   "execution_count": 1,
   "id": "09906198-03c1-45fe-b4d0-97eb05e0a2cc",
   "metadata": {},
   "outputs": [],
   "source": [
    "from pyspark.sql import SparkSession"
   ]
  },
  {
   "cell_type": "code",
   "execution_count": 2,
   "id": "9f76eb34-d14c-450e-a1c2-21f873f45d67",
   "metadata": {},
   "outputs": [
    {
     "name": "stderr",
     "output_type": "stream",
     "text": [
      "Setting default log level to \"WARN\".\n",
      "To adjust logging level use sc.setLogLevel(newLevel). For SparkR, use setLogLevel(newLevel).\n",
      "2021-12-22 10:31:48,260 WARN util.NativeCodeLoader: Unable to load native-hadoop library for your platform... using builtin-java classes where applicable\n"
     ]
    }
   ],
   "source": [
    "spark = SparkSession.\\\n",
    "    builder.\\\n",
    "    config(\"spark.ui.port\", \"0\").\\\n",
    "    config(\"spark.sql.warehouse.dir\", \"/user/itversity/warehouse\").\\\n",
    "    enableHiveSupport().\\\n",
    "    appName(\"Getting Started - Spark SQL\").\\\n",
    "    master(\"yarn\").\\\n",
    "    getOrCreate()"
   ]
  },
  {
   "cell_type": "code",
   "execution_count": 4,
   "id": "fc0bc3fa-f188-4e02-be23-975a8e868d77",
   "metadata": {},
   "outputs": [
    {
     "data": {
      "text/html": [
       "<table border='1'>\n",
       "<tr><th>key</th><th>value</th></tr>\n",
       "<tr><td>spark.sql.warehou...</td><td>/user/itversity/w...</td></tr>\n",
       "</table>\n"
      ],
      "text/plain": [
       "+--------------------+--------------------+\n",
       "|                 key|               value|\n",
       "+--------------------+--------------------+\n",
       "|spark.sql.warehou...|/user/itversity/w...|\n",
       "+--------------------+--------------------+"
      ]
     },
     "execution_count": 4,
     "metadata": {},
     "output_type": "execute_result"
    }
   ],
   "source": [
    "spark.sql(\"SET spark.sql.warehouse.dir\")"
   ]
  },
  {
   "cell_type": "code",
   "execution_count": 5,
   "id": "70a3375d-b49f-4e5e-b6fd-eb92f8d360b3",
   "metadata": {},
   "outputs": [
    {
     "name": "stderr",
     "output_type": "stream",
     "text": [
      "2021-12-22 10:42:33,847 WARN conf.HiveConf: HiveConf of name hive.stats.jdbc.timeout does not exist\n",
      "2021-12-22 10:42:33,849 WARN conf.HiveConf: HiveConf of name hive.stats.retries.wait does not exist\n"
     ]
    },
    {
     "name": "stdout",
     "output_type": "stream",
     "text": [
      "+-----------+\n",
      "|  namespace|\n",
      "+-----------+\n",
      "|band_retail|\n",
      "|    default|\n",
      "|  retail_db|\n",
      "+-----------+\n",
      "\n"
     ]
    }
   ],
   "source": [
    "spark.sql(\"SHOW DATABASES\").show()"
   ]
  },
  {
   "cell_type": "code",
   "execution_count": 6,
   "id": "06519eca-5c09-477d-8d9a-2e2b811eda45",
   "metadata": {},
   "outputs": [
    {
     "name": "stderr",
     "output_type": "stream",
     "text": [
      "2021-12-22 10:45:17,650 WARN metastore.ObjectStore: Failed to get database global_temp, returning NoSuchObjectException\n"
     ]
    },
    {
     "data": {
      "text/html": [
       "<table border='1'>\n",
       "<tr><th></th></tr>\n",
       "</table>\n"
      ],
      "text/plain": [
       "++\n",
       "||\n",
       "++\n",
       "++"
      ]
     },
     "execution_count": 6,
     "metadata": {},
     "output_type": "execute_result"
    }
   ],
   "source": [
    "spark.sql(\"USE band_retail\")"
   ]
  },
  {
   "cell_type": "code",
   "execution_count": 7,
   "id": "b06116e8-cf0b-44f2-afea-6dd9bd753e97",
   "metadata": {},
   "outputs": [
    {
     "name": "stderr",
     "output_type": "stream",
     "text": [
      "                                                                                \r"
     ]
    },
    {
     "data": {
      "text/html": [
       "<table border='1'>\n",
       "<tr><th>namespace</th><th>tableName</th><th>isTemporary</th></tr>\n",
       "<tr><td>band_retail</td><td>order_items</td><td>false</td></tr>\n",
       "<tr><td>band_retail</td><td>orders</td><td>false</td></tr>\n",
       "</table>\n"
      ],
      "text/plain": [
       "+-----------+-----------+-----------+\n",
       "|  namespace|  tableName|isTemporary|\n",
       "+-----------+-----------+-----------+\n",
       "|band_retail|order_items|      false|\n",
       "|band_retail|     orders|      false|\n",
       "+-----------+-----------+-----------+"
      ]
     },
     "execution_count": 7,
     "metadata": {},
     "output_type": "execute_result"
    }
   ],
   "source": [
    "spark.sql(\"SHOW TABLES\")"
   ]
  },
  {
   "cell_type": "code",
   "execution_count": 14,
   "id": "5a13261d-8892-46bc-8d86-641dfcf4fe4e",
   "metadata": {},
   "outputs": [
    {
     "name": "stdout",
     "output_type": "stream",
     "text": [
      "+--------------------+--------------------+-------+\n",
      "|            col_name|           data_type|comment|\n",
      "+--------------------+--------------------+-------+\n",
      "|            order_id|                 int|   null|\n",
      "|          order_date|              string|   null|\n",
      "|   order_customer_id|                 int|   null|\n",
      "|        order_status|              string|   null|\n",
      "|                    |                    |       |\n",
      "|# Detailed Table ...|                    |       |\n",
      "|            Database|         band_retail|       |\n",
      "|               Table|              orders|       |\n",
      "|               Owner|                band|       |\n",
      "|        Created Time|Tue Dec 21 15:12:...|       |\n",
      "|         Last Access|             UNKNOWN|       |\n",
      "|          Created By|         Spark 3.2.0|       |\n",
      "|                Type|             MANAGED|       |\n",
      "|            Provider|                hive|       |\n",
      "|    Table Properties|[transient_lastDd...|       |\n",
      "|          Statistics|       2999944 bytes|       |\n",
      "|            Location|hdfs://127.0.0.1:...|       |\n",
      "|       Serde Library|org.apache.hadoop...|       |\n",
      "|         InputFormat|org.apache.hadoop...|       |\n",
      "|        OutputFormat|org.apache.hadoop...|       |\n",
      "|  Storage Properties|[serialization.fo...|       |\n",
      "|  Partition Provider|             Catalog|       |\n",
      "+--------------------+--------------------+-------+\n",
      "\n"
     ]
    }
   ],
   "source": [
    "spark.sql(\"DESCRIBE FORMATTED orders\").show(200)"
   ]
  },
  {
   "cell_type": "code",
   "execution_count": 16,
   "id": "aff179af-93cb-463f-ba01-fb134b618364",
   "metadata": {},
   "outputs": [
    {
     "name": "stderr",
     "output_type": "stream",
     "text": [
      "2021-12-22 10:59:40,469 WARN session.SessionState: METASTORE_FILTER_HOOK will be ignored, since hive.security.authorization.manager is set to instance of HiveAuthorizerFactory.\n",
      "2021-12-22 10:59:40,531 WARN conf.HiveConf: HiveConf of name hive.internal.ss.authz.settings.applied.marker does not exist\n",
      "2021-12-22 10:59:40,531 WARN conf.HiveConf: HiveConf of name hive.stats.jdbc.timeout does not exist\n",
      "2021-12-22 10:59:40,533 WARN conf.HiveConf: HiveConf of name hive.stats.retries.wait does not exist\n"
     ]
    },
    {
     "data": {
      "text/html": [
       "<table border='1'>\n",
       "<tr><th></th></tr>\n",
       "</table>\n"
      ],
      "text/plain": [
       "++\n",
       "||\n",
       "++\n",
       "++"
      ]
     },
     "execution_count": 16,
     "metadata": {},
     "output_type": "execute_result"
    }
   ],
   "source": [
    "spark.sql(\"LOAD DATA LOCAL INPATH '/data/retail_db/orders' INTO TABLE orders\")"
   ]
  },
  {
   "cell_type": "code",
   "execution_count": 17,
   "id": "fae81ef2-40ba-46e6-b048-4553ef0f0e8c",
   "metadata": {},
   "outputs": [
    {
     "name": "stderr",
     "output_type": "stream",
     "text": [
      "                                                                                \r"
     ]
    },
    {
     "data": {
      "text/html": [
       "<table border='1'>\n",
       "<tr><th>order_id</th><th>order_date</th><th>order_customer_id</th><th>order_status</th></tr>\n",
       "<tr><td>1</td><td>2013-07-25 00:00:...</td><td>11599</td><td>CLOSED</td></tr>\n",
       "<tr><td>2</td><td>2013-07-25 00:00:...</td><td>256</td><td>PENDING_PAYMENT</td></tr>\n",
       "<tr><td>3</td><td>2013-07-25 00:00:...</td><td>12111</td><td>COMPLETE</td></tr>\n",
       "<tr><td>4</td><td>2013-07-25 00:00:...</td><td>8827</td><td>CLOSED</td></tr>\n",
       "<tr><td>5</td><td>2013-07-25 00:00:...</td><td>11318</td><td>COMPLETE</td></tr>\n",
       "<tr><td>6</td><td>2013-07-25 00:00:...</td><td>7130</td><td>COMPLETE</td></tr>\n",
       "<tr><td>7</td><td>2013-07-25 00:00:...</td><td>4530</td><td>COMPLETE</td></tr>\n",
       "<tr><td>8</td><td>2013-07-25 00:00:...</td><td>2911</td><td>PROCESSING</td></tr>\n",
       "<tr><td>9</td><td>2013-07-25 00:00:...</td><td>5657</td><td>PENDING_PAYMENT</td></tr>\n",
       "<tr><td>10</td><td>2013-07-25 00:00:...</td><td>5648</td><td>PENDING_PAYMENT</td></tr>\n",
       "<tr><td>11</td><td>2013-07-25 00:00:...</td><td>918</td><td>PAYMENT_REVIEW</td></tr>\n",
       "<tr><td>12</td><td>2013-07-25 00:00:...</td><td>1837</td><td>CLOSED</td></tr>\n",
       "<tr><td>13</td><td>2013-07-25 00:00:...</td><td>9149</td><td>PENDING_PAYMENT</td></tr>\n",
       "<tr><td>14</td><td>2013-07-25 00:00:...</td><td>9842</td><td>PROCESSING</td></tr>\n",
       "<tr><td>15</td><td>2013-07-25 00:00:...</td><td>2568</td><td>COMPLETE</td></tr>\n",
       "</table>\n"
      ],
      "text/plain": [
       "+--------+--------------------+-----------------+---------------+\n",
       "|order_id|          order_date|order_customer_id|   order_status|\n",
       "+--------+--------------------+-----------------+---------------+\n",
       "|       1|2013-07-25 00:00:...|            11599|         CLOSED|\n",
       "|       2|2013-07-25 00:00:...|              256|PENDING_PAYMENT|\n",
       "|       3|2013-07-25 00:00:...|            12111|       COMPLETE|\n",
       "|       4|2013-07-25 00:00:...|             8827|         CLOSED|\n",
       "|       5|2013-07-25 00:00:...|            11318|       COMPLETE|\n",
       "|       6|2013-07-25 00:00:...|             7130|       COMPLETE|\n",
       "|       7|2013-07-25 00:00:...|             4530|       COMPLETE|\n",
       "|       8|2013-07-25 00:00:...|             2911|     PROCESSING|\n",
       "|       9|2013-07-25 00:00:...|             5657|PENDING_PAYMENT|\n",
       "|      10|2013-07-25 00:00:...|             5648|PENDING_PAYMENT|\n",
       "|      11|2013-07-25 00:00:...|              918| PAYMENT_REVIEW|\n",
       "|      12|2013-07-25 00:00:...|             1837|         CLOSED|\n",
       "|      13|2013-07-25 00:00:...|             9149|PENDING_PAYMENT|\n",
       "|      14|2013-07-25 00:00:...|             9842|     PROCESSING|\n",
       "|      15|2013-07-25 00:00:...|             2568|       COMPLETE|\n",
       "+--------+--------------------+-----------------+---------------+"
      ]
     },
     "execution_count": 17,
     "metadata": {},
     "output_type": "execute_result"
    }
   ],
   "source": [
    "spark.sql(\"SELECT * FROM orders LIMIT 15\")"
   ]
  },
  {
   "cell_type": "code",
   "execution_count": 20,
   "id": "3825980f-d7dd-417f-aace-d3f967cf77ea",
   "metadata": {},
   "outputs": [
    {
     "name": "stderr",
     "output_type": "stream",
     "text": [
      "2021-12-22 11:13:20,356 WARN metastore.ObjectStore: Failed to get database ordertest, returning NoSuchObjectException\n"
     ]
    },
    {
     "data": {
      "text/html": [
       "<table border='1'>\n",
       "<tr><th></th></tr>\n",
       "</table>\n"
      ],
      "text/plain": [
       "++\n",
       "||\n",
       "++\n",
       "++"
      ]
     },
     "execution_count": 20,
     "metadata": {},
     "output_type": "execute_result"
    }
   ],
   "source": [
    "spark.sql(\"CREATE DATABASE orderTest\")"
   ]
  },
  {
   "cell_type": "code",
   "execution_count": 21,
   "id": "f4092616-8999-468a-ac2b-236cc5476bc5",
   "metadata": {},
   "outputs": [
    {
     "data": {
      "text/html": [
       "<table border='1'>\n",
       "<tr><th></th></tr>\n",
       "</table>\n"
      ],
      "text/plain": [
       "++\n",
       "||\n",
       "++\n",
       "++"
      ]
     },
     "execution_count": 21,
     "metadata": {},
     "output_type": "execute_result"
    }
   ],
   "source": [
    "spark.sql(\"USE orderTest\")"
   ]
  },
  {
   "cell_type": "code",
   "execution_count": 24,
   "id": "a3195c90-6c99-4736-8c28-4e847c533b36",
   "metadata": {},
   "outputs": [
    {
     "data": {
      "text/html": [
       "<table border='1'>\n",
       "<tr><th>current_database()</th></tr>\n",
       "<tr><td>ordertest</td></tr>\n",
       "</table>\n"
      ],
      "text/plain": [
       "+------------------+\n",
       "|current_database()|\n",
       "+------------------+\n",
       "|         ordertest|\n",
       "+------------------+"
      ]
     },
     "execution_count": 24,
     "metadata": {},
     "output_type": "execute_result"
    }
   ],
   "source": [
    "spark.sql(\"SELECT CURRENT_DATABASE()\")"
   ]
  },
  {
   "cell_type": "code",
   "execution_count": 27,
   "id": "efa3ce3f-95ee-44e5-864f-cd1998c0a70a",
   "metadata": {},
   "outputs": [
    {
     "name": "stderr",
     "output_type": "stream",
     "text": [
      "2021-12-22 11:24:45,075 WARN metastore.HiveMetaStore: Location: hdfs://127.0.0.1:9000/user/itversity/warehouse/ordertest.db/orders specified for non-external table:orders\n"
     ]
    },
    {
     "data": {
      "text/html": [
       "<table border='1'>\n",
       "<tr><th></th></tr>\n",
       "</table>\n"
      ],
      "text/plain": [
       "++\n",
       "||\n",
       "++\n",
       "++"
      ]
     },
     "execution_count": 27,
     "metadata": {},
     "output_type": "execute_result"
    }
   ],
   "source": [
    "spark.sql(\"\\\n",
    "    CREATE TABLE orders(\\\n",
    "    order_id INT COMMENT 'unique id',\\\n",
    "    order_date DATE,\\\n",
    "    order_status BOOLEAN\\\n",
    "    )ROW FORMAT DELIMITED FIELDS TERMINATED BY ','\")"
   ]
  },
  {
   "cell_type": "code",
   "execution_count": 28,
   "id": "337eb476-107b-4abf-9e29-3c5067c4c195",
   "metadata": {},
   "outputs": [
    {
     "name": "stdout",
     "output_type": "stream",
     "text": [
      "+---------+---------+-----------+\n",
      "|namespace|tableName|isTemporary|\n",
      "+---------+---------+-----------+\n",
      "|ordertest|   orders|      false|\n",
      "+---------+---------+-----------+\n",
      "\n"
     ]
    }
   ],
   "source": [
    "spark.sql(\"SHOW TABLES\").show()"
   ]
  },
  {
   "cell_type": "code",
   "execution_count": 34,
   "id": "1ae67d51-7d7a-4c20-bc20-3900d9e0be70",
   "metadata": {},
   "outputs": [
    {
     "name": "stderr",
     "output_type": "stream",
     "text": [
      "                                                                                \r"
     ]
    },
    {
     "data": {
      "text/html": [
       "<table border='1'>\n",
       "<tr><th></th></tr>\n",
       "</table>\n"
      ],
      "text/plain": [
       "++\n",
       "||\n",
       "++\n",
       "++"
      ]
     },
     "execution_count": 34,
     "metadata": {},
     "output_type": "execute_result"
    }
   ],
   "source": [
    "spark.sql(\"\\\n",
    "    INSERT INTO orders\\\n",
    "    VALUES(1, CAST('2021-12-22' AS DATE), false)\")"
   ]
  },
  {
   "cell_type": "code",
   "execution_count": 35,
   "id": "4a73c13d-9258-4c36-834a-8699649691b7",
   "metadata": {},
   "outputs": [
    {
     "name": "stderr",
     "output_type": "stream",
     "text": [
      "                                                                                \r"
     ]
    },
    {
     "name": "stdout",
     "output_type": "stream",
     "text": [
      "+--------+----------+------------+\n",
      "|order_id|order_date|order_status|\n",
      "+--------+----------+------------+\n",
      "|       1|2021-12-22|       false|\n",
      "+--------+----------+------------+\n",
      "\n"
     ]
    }
   ],
   "source": [
    "spark.sql(\"SELECT * FROM orders\").show()"
   ]
  },
  {
   "cell_type": "code",
   "execution_count": 39,
   "id": "08cc3eed-7b2a-4953-bcb3-590a58640d01",
   "metadata": {},
   "outputs": [
    {
     "name": "stdout",
     "output_type": "stream",
     "text": [
      "+-----------+\n",
      "|  namespace|\n",
      "+-----------+\n",
      "|band_retail|\n",
      "|    default|\n",
      "|  ordertest|\n",
      "|  retail_db|\n",
      "+-----------+\n",
      "\n"
     ]
    }
   ],
   "source": [
    "spark.sql(\"SHOW DATABASES\").show()"
   ]
  },
  {
   "cell_type": "code",
   "execution_count": 40,
   "id": "dd31031d-7711-4494-8091-8257aa0e3c13",
   "metadata": {},
   "outputs": [
    {
     "data": {
      "text/html": [
       "<table border='1'>\n",
       "<tr><th></th></tr>\n",
       "</table>\n"
      ],
      "text/plain": [
       "++\n",
       "||\n",
       "++\n",
       "++"
      ]
     },
     "execution_count": 40,
     "metadata": {},
     "output_type": "execute_result"
    }
   ],
   "source": [
    "spark.sql(\"USE band_retail\")"
   ]
  },
  {
   "cell_type": "code",
   "execution_count": 41,
   "id": "f6c4b466-a636-466b-af45-7940f1708b2c",
   "metadata": {},
   "outputs": [
    {
     "data": {
      "text/html": [
       "<table border='1'>\n",
       "<tr><th>namespace</th><th>tableName</th><th>isTemporary</th></tr>\n",
       "<tr><td>band_retail</td><td>order_items</td><td>false</td></tr>\n",
       "<tr><td>band_retail</td><td>orders</td><td>false</td></tr>\n",
       "</table>\n"
      ],
      "text/plain": [
       "+-----------+-----------+-----------+\n",
       "|  namespace|  tableName|isTemporary|\n",
       "+-----------+-----------+-----------+\n",
       "|band_retail|order_items|      false|\n",
       "|band_retail|     orders|      false|\n",
       "+-----------+-----------+-----------+"
      ]
     },
     "execution_count": 41,
     "metadata": {},
     "output_type": "execute_result"
    }
   ],
   "source": [
    "spark.sql(\"SHOW TABLES\")"
   ]
  },
  {
   "cell_type": "code",
   "execution_count": 43,
   "id": "139ac069-17f9-4bf6-8653-a6b4e2a58769",
   "metadata": {},
   "outputs": [
    {
     "name": "stderr",
     "output_type": "stream",
     "text": [
      "                                                                                \r"
     ]
    },
    {
     "name": "stdout",
     "output_type": "stream",
     "text": [
      "+--------+--------------------+---------------+-------------------+\n",
      "|order_id|          order_date|   order_status|order_item_subtotal|\n",
      "+--------+--------------------+---------------+-------------------+\n",
      "|       1|2013-07-25 00:00:...|         CLOSED|             299.98|\n",
      "|       2|2013-07-25 00:00:...|PENDING_PAYMENT|             129.99|\n",
      "|       2|2013-07-25 00:00:...|PENDING_PAYMENT|              250.0|\n",
      "|       2|2013-07-25 00:00:...|PENDING_PAYMENT|             199.99|\n",
      "|       4|2013-07-25 00:00:...|         CLOSED|             199.92|\n",
      "|       4|2013-07-25 00:00:...|         CLOSED|              150.0|\n",
      "|       4|2013-07-25 00:00:...|         CLOSED|             299.95|\n",
      "|       4|2013-07-25 00:00:...|         CLOSED|              49.98|\n",
      "|       5|2013-07-25 00:00:...|       COMPLETE|             129.99|\n",
      "|       5|2013-07-25 00:00:...|       COMPLETE|             299.98|\n",
      "|       5|2013-07-25 00:00:...|       COMPLETE|              99.96|\n",
      "|       5|2013-07-25 00:00:...|       COMPLETE|             299.95|\n",
      "|       5|2013-07-25 00:00:...|       COMPLETE|             299.98|\n",
      "|       7|2013-07-25 00:00:...|       COMPLETE|              79.95|\n",
      "|       7|2013-07-25 00:00:...|       COMPLETE|             299.98|\n",
      "|       7|2013-07-25 00:00:...|       COMPLETE|             199.99|\n",
      "|       8|2013-07-25 00:00:...|     PROCESSING|               50.0|\n",
      "|       8|2013-07-25 00:00:...|     PROCESSING|             199.92|\n",
      "|       8|2013-07-25 00:00:...|     PROCESSING|             299.95|\n",
      "|       8|2013-07-25 00:00:...|     PROCESSING|             179.97|\n",
      "+--------+--------------------+---------------+-------------------+\n",
      "only showing top 20 rows\n",
      "\n"
     ]
    }
   ],
   "source": [
    "spark.sql(\"\"\"\n",
    "SELECT o.order_id,\n",
    "    o.order_date,\n",
    "    o.order_status,\n",
    "    oi.order_item_subtotal\n",
    "FROM orders AS o JOIN order_items AS oi\n",
    "    ON o.order_id = oi.order_item_order_id\n",
    "\"\"\").show()"
   ]
  },
  {
   "cell_type": "code",
   "execution_count": 44,
   "id": "a9ad1ab1-c4c9-45f6-8575-b256d68bf2a8",
   "metadata": {},
   "outputs": [
    {
     "name": "stderr",
     "output_type": "stream",
     "text": [
      "                                                                                \r"
     ]
    },
    {
     "name": "stdout",
     "output_type": "stream",
     "text": [
      "+--------+--------------------+---------------+-------------------+-------------------+\n",
      "|order_id|          order_date|   order_status|order_item_order_id|order_item_subtotal|\n",
      "+--------+--------------------+---------------+-------------------+-------------------+\n",
      "|       3|2013-07-25 00:00:...|       COMPLETE|               null|               null|\n",
      "|       6|2013-07-25 00:00:...|       COMPLETE|               null|               null|\n",
      "|      22|2013-07-25 00:00:...|       COMPLETE|               null|               null|\n",
      "|      26|2013-07-25 00:00:...|       COMPLETE|               null|               null|\n",
      "|      32|2013-07-25 00:00:...|       COMPLETE|               null|               null|\n",
      "|      40|2013-07-25 00:00:...|PENDING_PAYMENT|               null|               null|\n",
      "|      47|2013-07-25 00:00:...|PENDING_PAYMENT|               null|               null|\n",
      "|      53|2013-07-25 00:00:...|     PROCESSING|               null|               null|\n",
      "|      54|2013-07-25 00:00:...|PENDING_PAYMENT|               null|               null|\n",
      "|      55|2013-07-25 00:00:...|        PENDING|               null|               null|\n",
      "+--------+--------------------+---------------+-------------------+-------------------+\n",
      "\n"
     ]
    }
   ],
   "source": [
    "spark.sql(\"\"\"\n",
    "SELECT o.order_id,\n",
    "    o.order_date,\n",
    "    o.order_status,\n",
    "    oi.order_item_order_id,\n",
    "    oi.order_item_subtotal\n",
    "FROM orders AS o LEFT OUTER JOIN order_items AS oi\n",
    "    ON o.order_id = oi.order_item_order_id\n",
    "WHERE oi.order_item_order_id IS NULL\n",
    "LIMIT 10\n",
    "\"\"\").show()"
   ]
  },
  {
   "cell_type": "code",
   "execution_count": 45,
   "id": "2bf5c920-a9c9-4ddb-8be9-de1390bca142",
   "metadata": {},
   "outputs": [
    {
     "name": "stderr",
     "output_type": "stream",
     "text": [
      "2021-12-22 12:07:35,086 WARN metastore.HiveMetaStore: Location: hdfs://127.0.0.1:9000/user/band/warehouse/band_retail.db/orders_part specified for non-external table:orders_part\n"
     ]
    },
    {
     "data": {
      "text/html": [
       "<table border='1'>\n",
       "<tr><th></th></tr>\n",
       "</table>\n"
      ],
      "text/plain": [
       "++\n",
       "||\n",
       "++\n",
       "++"
      ]
     },
     "execution_count": 45,
     "metadata": {},
     "output_type": "execute_result"
    }
   ],
   "source": [
    "spark.sql(\"\"\"\n",
    "    CREATE TABLE orders_part (\n",
    "    order_id INT,\n",
    "    order_date STRING,\n",
    "    order_customer_id INT,\n",
    "    order_status STRING\n",
    "    ) PARTITIONED BY (order_month INT)\n",
    "    ROW FORMAT DELIMITED FIELDS TERMINATED BY ','\n",
    "\"\"\")"
   ]
  },
  {
   "cell_type": "code",
   "execution_count": 47,
   "id": "676ccd6c-ee96-4f2b-998b-9c1e60bbba69",
   "metadata": {},
   "outputs": [
    {
     "data": {
      "text/html": [
       "<table border='1'>\n",
       "<tr><th>col_name</th><th>data_type</th><th>comment</th></tr>\n",
       "<tr><td>order_id</td><td>int</td><td>null</td></tr>\n",
       "<tr><td>order_date</td><td>string</td><td>null</td></tr>\n",
       "<tr><td>order_customer_id</td><td>int</td><td>null</td></tr>\n",
       "<tr><td>order_status</td><td>string</td><td>null</td></tr>\n",
       "<tr><td>order_month</td><td>int</td><td>null</td></tr>\n",
       "<tr><td># Partition Infor...</td><td></td><td></td></tr>\n",
       "<tr><td># col_name</td><td>data_type</td><td>comment</td></tr>\n",
       "<tr><td>order_month</td><td>int</td><td>null</td></tr>\n",
       "</table>\n"
      ],
      "text/plain": [
       "+--------------------+---------+-------+\n",
       "|            col_name|data_type|comment|\n",
       "+--------------------+---------+-------+\n",
       "|            order_id|      int|   null|\n",
       "|          order_date|   string|   null|\n",
       "|   order_customer_id|      int|   null|\n",
       "|        order_status|   string|   null|\n",
       "|         order_month|      int|   null|\n",
       "|# Partition Infor...|         |       |\n",
       "|          # col_name|data_type|comment|\n",
       "|         order_month|      int|   null|\n",
       "+--------------------+---------+-------+"
      ]
     },
     "execution_count": 47,
     "metadata": {},
     "output_type": "execute_result"
    }
   ],
   "source": [
    "spark.sql(\"DESCRIBE orders_part\")"
   ]
  },
  {
   "cell_type": "code",
   "execution_count": 68,
   "id": "dfbd69eb-9565-4495-8665-6521312b8c50",
   "metadata": {},
   "outputs": [
    {
     "data": {
      "text/html": [
       "<table border='1'>\n",
       "<tr><th></th></tr>\n",
       "</table>\n"
      ],
      "text/plain": [
       "++\n",
       "||\n",
       "++\n",
       "++"
      ]
     },
     "execution_count": 68,
     "metadata": {},
     "output_type": "execute_result"
    }
   ],
   "source": [
    "spark.sql(\"\"\"\n",
    "    ALTER TABLE orders_part\n",
    "    ADD COLUMN order_year INT\n",
    "\"\"\")"
   ]
  },
  {
   "cell_type": "code",
   "execution_count": 69,
   "id": "781be05a-35be-47b7-91ad-c26e7b740309",
   "metadata": {},
   "outputs": [
    {
     "data": {
      "text/html": [
       "<table border='1'>\n",
       "<tr><th>col_name</th><th>data_type</th><th>comment</th></tr>\n",
       "<tr><td>order_id</td><td>int</td><td>null</td></tr>\n",
       "<tr><td>order_date</td><td>string</td><td>null</td></tr>\n",
       "<tr><td>order_customer_id</td><td>int</td><td>null</td></tr>\n",
       "<tr><td>order_status</td><td>string</td><td>null</td></tr>\n",
       "<tr><td>order_year</td><td>int</td><td>null</td></tr>\n",
       "<tr><td>order_month</td><td>int</td><td>null</td></tr>\n",
       "<tr><td># Partition Infor...</td><td></td><td></td></tr>\n",
       "<tr><td># col_name</td><td>data_type</td><td>comment</td></tr>\n",
       "<tr><td>order_month</td><td>int</td><td>null</td></tr>\n",
       "</table>\n"
      ],
      "text/plain": [
       "+--------------------+---------+-------+\n",
       "|            col_name|data_type|comment|\n",
       "+--------------------+---------+-------+\n",
       "|            order_id|      int|   null|\n",
       "|          order_date|   string|   null|\n",
       "|   order_customer_id|      int|   null|\n",
       "|        order_status|   string|   null|\n",
       "|          order_year|      int|   null|\n",
       "|         order_month|      int|   null|\n",
       "|# Partition Infor...|         |       |\n",
       "|          # col_name|data_type|comment|\n",
       "|         order_month|      int|   null|\n",
       "+--------------------+---------+-------+"
      ]
     },
     "execution_count": 69,
     "metadata": {},
     "output_type": "execute_result"
    }
   ],
   "source": [
    "spark.sql(\"DESCRIBE orders_part\")"
   ]
  },
  {
   "cell_type": "code",
   "execution_count": 78,
   "id": "3276b9a3-cc58-4e2a-a640-c3b67c2a5d68",
   "metadata": {},
   "outputs": [
    {
     "data": {
      "text/html": [
       "<table border='1'>\n",
       "<tr><th></th></tr>\n",
       "</table>\n"
      ],
      "text/plain": [
       "++\n",
       "||\n",
       "++\n",
       "++"
      ]
     },
     "execution_count": 78,
     "metadata": {},
     "output_type": "execute_result"
    }
   ],
   "source": [
    "spark.sql(\"\"\"\n",
    "    ALTER TABLE orders_part\n",
    "    ADD COLUMNS (order_name INT, order_bod INT)\n",
    "\"\"\")"
   ]
  },
  {
   "cell_type": "code",
   "execution_count": 79,
   "id": "039374bb-101f-4874-8116-43f074413602",
   "metadata": {},
   "outputs": [
    {
     "data": {
      "text/html": [
       "<table border='1'>\n",
       "<tr><th>col_name</th><th>data_type</th><th>comment</th></tr>\n",
       "<tr><td>order_id</td><td>int</td><td>null</td></tr>\n",
       "<tr><td>order_date</td><td>string</td><td>null</td></tr>\n",
       "<tr><td>order_customer_id</td><td>int</td><td>null</td></tr>\n",
       "<tr><td>order_status</td><td>string</td><td>null</td></tr>\n",
       "<tr><td>order_year</td><td>int</td><td>null</td></tr>\n",
       "<tr><td>order_name</td><td>int</td><td>null</td></tr>\n",
       "<tr><td>order_bod</td><td>int</td><td>null</td></tr>\n",
       "<tr><td>order_month</td><td>int</td><td>null</td></tr>\n",
       "<tr><td># Partition Infor...</td><td></td><td></td></tr>\n",
       "<tr><td># col_name</td><td>data_type</td><td>comment</td></tr>\n",
       "<tr><td>order_month</td><td>int</td><td>null</td></tr>\n",
       "</table>\n"
      ],
      "text/plain": [
       "+--------------------+---------+-------+\n",
       "|            col_name|data_type|comment|\n",
       "+--------------------+---------+-------+\n",
       "|            order_id|      int|   null|\n",
       "|          order_date|   string|   null|\n",
       "|   order_customer_id|      int|   null|\n",
       "|        order_status|   string|   null|\n",
       "|          order_year|      int|   null|\n",
       "|          order_name|      int|   null|\n",
       "|           order_bod|      int|   null|\n",
       "|         order_month|      int|   null|\n",
       "|# Partition Infor...|         |       |\n",
       "|          # col_name|data_type|comment|\n",
       "|         order_month|      int|   null|\n",
       "+--------------------+---------+-------+"
      ]
     },
     "execution_count": 79,
     "metadata": {},
     "output_type": "execute_result"
    }
   ],
   "source": [
    "spark.sql(\"DESCRIBE orders_part\")"
   ]
  },
  {
   "cell_type": "code",
   "execution_count": 85,
   "id": "e6b35333-6780-4429-a139-f1d082e200c4",
   "metadata": {},
   "outputs": [
    {
     "data": {
      "text/html": [
       "<table border='1'>\n",
       "<tr><th></th></tr>\n",
       "</table>\n"
      ],
      "text/plain": [
       "++\n",
       "||\n",
       "++\n",
       "++"
      ]
     },
     "execution_count": 85,
     "metadata": {},
     "output_type": "execute_result"
    }
   ],
   "source": [
    "spark.sql(\"ALTER TABLE orders_part ADD PARTITION (order_month=201307)\")"
   ]
  },
  {
   "cell_type": "code",
   "execution_count": 86,
   "id": "f19a406f-de4f-43a9-bd77-7d08a54882fc",
   "metadata": {},
   "outputs": [
    {
     "data": {
      "text/html": [
       "<table border='1'>\n",
       "<tr><th>col_name</th><th>data_type</th><th>comment</th></tr>\n",
       "<tr><td>order_id</td><td>int</td><td>null</td></tr>\n",
       "<tr><td>order_date</td><td>string</td><td>null</td></tr>\n",
       "<tr><td>order_customer_id</td><td>int</td><td>null</td></tr>\n",
       "<tr><td>order_status</td><td>string</td><td>null</td></tr>\n",
       "<tr><td>order_year</td><td>int</td><td>null</td></tr>\n",
       "<tr><td>order_name</td><td>int</td><td>null</td></tr>\n",
       "<tr><td>order_bod</td><td>int</td><td>null</td></tr>\n",
       "<tr><td>order_month</td><td>int</td><td>null</td></tr>\n",
       "<tr><td># Partition Infor...</td><td></td><td></td></tr>\n",
       "<tr><td># col_name</td><td>data_type</td><td>comment</td></tr>\n",
       "<tr><td>order_month</td><td>int</td><td>null</td></tr>\n",
       "</table>\n"
      ],
      "text/plain": [
       "+--------------------+---------+-------+\n",
       "|            col_name|data_type|comment|\n",
       "+--------------------+---------+-------+\n",
       "|            order_id|      int|   null|\n",
       "|          order_date|   string|   null|\n",
       "|   order_customer_id|      int|   null|\n",
       "|        order_status|   string|   null|\n",
       "|          order_year|      int|   null|\n",
       "|          order_name|      int|   null|\n",
       "|           order_bod|      int|   null|\n",
       "|         order_month|      int|   null|\n",
       "|# Partition Infor...|         |       |\n",
       "|          # col_name|data_type|comment|\n",
       "|         order_month|      int|   null|\n",
       "+--------------------+---------+-------+"
      ]
     },
     "execution_count": 86,
     "metadata": {},
     "output_type": "execute_result"
    }
   ],
   "source": [
    "spark.sql(\"DESCRIBE orders_part\")"
   ]
  },
  {
   "cell_type": "code",
   "execution_count": 87,
   "id": "bab5f519-9986-4b94-8a9c-be1896c0a2dc",
   "metadata": {},
   "outputs": [
    {
     "data": {
      "text/html": [
       "<table border='1'>\n",
       "<tr><th></th></tr>\n",
       "</table>\n"
      ],
      "text/plain": [
       "++\n",
       "||\n",
       "++\n",
       "++"
      ]
     },
     "execution_count": 87,
     "metadata": {},
     "output_type": "execute_result"
    }
   ],
   "source": [
    "spark.sql(\"ALTER TABLE orders_part ADD PARTITION (order_month=202107)\")"
   ]
  },
  {
   "cell_type": "code",
   "execution_count": 88,
   "id": "f4f4393e-83df-44a4-99e9-1b1d22caa59a",
   "metadata": {},
   "outputs": [
    {
     "data": {
      "text/html": [
       "<table border='1'>\n",
       "<tr><th></th></tr>\n",
       "</table>\n"
      ],
      "text/plain": [
       "++\n",
       "||\n",
       "++\n",
       "++"
      ]
     },
     "execution_count": 88,
     "metadata": {},
     "output_type": "execute_result"
    }
   ],
   "source": [
    "spark.sql(\"ALTER TABLE orders_part ADD PARTITION (order_month=202112)\")"
   ]
  },
  {
   "cell_type": "code",
   "execution_count": 89,
   "id": "f69cf783-5327-42c2-b21f-c08e3f954812",
   "metadata": {},
   "outputs": [
    {
     "data": {
      "text/html": [
       "<table border='1'>\n",
       "<tr><th></th></tr>\n",
       "</table>\n"
      ],
      "text/plain": [
       "++\n",
       "||\n",
       "++\n",
       "++"
      ]
     },
     "execution_count": 89,
     "metadata": {},
     "output_type": "execute_result"
    }
   ],
   "source": [
    "spark.sql(\"ALTER TABLE orders_part ADD PARTITION (order_month=2022)\")"
   ]
  },
  {
   "cell_type": "code",
   "execution_count": 101,
   "id": "ae8a9ac7-2aec-4bc3-923a-64b0b3ccaa51",
   "metadata": {},
   "outputs": [
    {
     "data": {
      "text/html": [
       "<table border='1'>\n",
       "<tr><th></th></tr>\n",
       "</table>\n"
      ],
      "text/plain": [
       "++\n",
       "||\n",
       "++\n",
       "++"
      ]
     },
     "execution_count": 101,
     "metadata": {},
     "output_type": "execute_result"
    }
   ],
   "source": [
    "spark.sql(\"\"\"ALTER TABLE orders_part ADD\n",
    "        PARTITION (order_month=200299)\n",
    "        PARTITION (order_month=200399)\n",
    "        \"\"\")"
   ]
  },
  {
   "cell_type": "code",
   "execution_count": 102,
   "id": "41f6e9db-a957-4b30-9e9a-3b4368f4fd2e",
   "metadata": {},
   "outputs": [
    {
     "name": "stderr",
     "output_type": "stream",
     "text": [
      "2021-12-22 16:14:24,338 WARN hive.log: Updating partition stats fast for: orders_part\n",
      "2021-12-22 16:14:24,341 WARN hive.log: Updated size to 64737\n"
     ]
    },
    {
     "data": {
      "text/html": [
       "<table border='1'>\n",
       "<tr><th></th></tr>\n",
       "</table>\n"
      ],
      "text/plain": [
       "++\n",
       "||\n",
       "++\n",
       "++"
      ]
     },
     "execution_count": 102,
     "metadata": {},
     "output_type": "execute_result"
    }
   ],
   "source": [
    "spark.sql(\"\"\"\n",
    "    LOAD DATA LOCAL INPATH '/home/band/orders_part/orders_201307'\n",
    "    INTO TABLE orders_part PARTITION (order_month=202107)\n",
    "\"\"\")"
   ]
  },
  {
   "cell_type": "code",
   "execution_count": 103,
   "id": "195f525f-4e17-4e1d-974d-f2ae855029d8",
   "metadata": {},
   "outputs": [
    {
     "name": "stderr",
     "output_type": "stream",
     "text": [
      "2021-12-22 16:14:42,351 WARN hive.log: Updating partition stats fast for: orders_part\n",
      "2021-12-22 16:14:42,353 WARN hive.log: Updated size to 64737\n"
     ]
    },
    {
     "data": {
      "text/html": [
       "<table border='1'>\n",
       "<tr><th></th></tr>\n",
       "</table>\n"
      ],
      "text/plain": [
       "++\n",
       "||\n",
       "++\n",
       "++"
      ]
     },
     "execution_count": 103,
     "metadata": {},
     "output_type": "execute_result"
    }
   ],
   "source": [
    "spark.sql(\"\"\"\n",
    "    LOAD DATA LOCAL INPATH '/home/band/orders_part/orders_201307'\n",
    "    INTO TABLE orders_part PARTITION (order_month=201307)\n",
    "\"\"\")"
   ]
  },
  {
   "cell_type": "code",
   "execution_count": 104,
   "id": "4e82a90f-4e5f-4574-8bd9-e198763db80d",
   "metadata": {},
   "outputs": [
    {
     "name": "stderr",
     "output_type": "stream",
     "text": [
      "                                                                                \r"
     ]
    },
    {
     "data": {
      "text/html": [
       "<table border='1'>\n",
       "<tr><th>order_id</th><th>order_date</th><th>order_customer_id</th><th>order_status</th><th>order_year</th><th>order_name</th><th>order_bod</th><th>order_month</th></tr>\n",
       "<tr><td>778</td><td>2013-07-29 00:00:...</td><td>5759</td><td>COMPLETE</td><td>null</td><td>null</td><td>null</td><td>202107</td></tr>\n",
       "<tr><td>779</td><td>2013-07-29 00:00:...</td><td>2004</td><td>PENDING_PAYMENT</td><td>null</td><td>null</td><td>null</td><td>202107</td></tr>\n",
       "<tr><td>780</td><td>2013-07-29 00:00:...</td><td>2016</td><td>COMPLETE</td><td>null</td><td>null</td><td>null</td><td>202107</td></tr>\n",
       "<tr><td>781</td><td>2013-07-29 00:00:...</td><td>7971</td><td>PENDING</td><td>null</td><td>null</td><td>null</td><td>202107</td></tr>\n",
       "<tr><td>782</td><td>2013-07-29 00:00:...</td><td>12213</td><td>COMPLETE</td><td>null</td><td>null</td><td>null</td><td>202107</td></tr>\n",
       "<tr><td>783</td><td>2013-07-29 00:00:...</td><td>8321</td><td>PROCESSING</td><td>null</td><td>null</td><td>null</td><td>202107</td></tr>\n",
       "<tr><td>784</td><td>2013-07-29 00:00:...</td><td>3321</td><td>PENDING_PAYMENT</td><td>null</td><td>null</td><td>null</td><td>202107</td></tr>\n",
       "<tr><td>785</td><td>2013-07-29 00:00:...</td><td>8191</td><td>COMPLETE</td><td>null</td><td>null</td><td>null</td><td>202107</td></tr>\n",
       "<tr><td>786</td><td>2013-07-29 00:00:...</td><td>8974</td><td>CLOSED</td><td>null</td><td>null</td><td>null</td><td>202107</td></tr>\n",
       "<tr><td>787</td><td>2013-07-29 00:00:...</td><td>1150</td><td>CLOSED</td><td>null</td><td>null</td><td>null</td><td>202107</td></tr>\n",
       "</table>\n"
      ],
      "text/plain": [
       "+--------+--------------------+-----------------+---------------+----------+----------+---------+-----------+\n",
       "|order_id|          order_date|order_customer_id|   order_status|order_year|order_name|order_bod|order_month|\n",
       "+--------+--------------------+-----------------+---------------+----------+----------+---------+-----------+\n",
       "|     778|2013-07-29 00:00:...|             5759|       COMPLETE|      null|      null|     null|     202107|\n",
       "|     779|2013-07-29 00:00:...|             2004|PENDING_PAYMENT|      null|      null|     null|     202107|\n",
       "|     780|2013-07-29 00:00:...|             2016|       COMPLETE|      null|      null|     null|     202107|\n",
       "|     781|2013-07-29 00:00:...|             7971|        PENDING|      null|      null|     null|     202107|\n",
       "|     782|2013-07-29 00:00:...|            12213|       COMPLETE|      null|      null|     null|     202107|\n",
       "|     783|2013-07-29 00:00:...|             8321|     PROCESSING|      null|      null|     null|     202107|\n",
       "|     784|2013-07-29 00:00:...|             3321|PENDING_PAYMENT|      null|      null|     null|     202107|\n",
       "|     785|2013-07-29 00:00:...|             8191|       COMPLETE|      null|      null|     null|     202107|\n",
       "|     786|2013-07-29 00:00:...|             8974|         CLOSED|      null|      null|     null|     202107|\n",
       "|     787|2013-07-29 00:00:...|             1150|         CLOSED|      null|      null|     null|     202107|\n",
       "+--------+--------------------+-----------------+---------------+----------+----------+---------+-----------+"
      ]
     },
     "execution_count": 104,
     "metadata": {},
     "output_type": "execute_result"
    }
   ],
   "source": [
    "spark.sql(\"SELECT * FROM orders_part LIMIT 10\")"
   ]
  },
  {
   "cell_type": "code",
   "execution_count": 106,
   "id": "70546b8e-4a8f-4ef6-8f0d-90b78f9987b9",
   "metadata": {},
   "outputs": [
    {
     "data": {
      "text/html": [
       "<table border='1'>\n",
       "<tr><th>key</th><th>value</th></tr>\n",
       "<tr><td>hive.exec.dynamic...</td><td>&lt;undefined&gt;</td></tr>\n",
       "</table>\n"
      ],
      "text/plain": [
       "+--------------------+-----------+\n",
       "|                 key|      value|\n",
       "+--------------------+-----------+\n",
       "|hive.exec.dynamic...|<undefined>|\n",
       "+--------------------+-----------+"
      ]
     },
     "execution_count": 106,
     "metadata": {},
     "output_type": "execute_result"
    }
   ],
   "source": [
    "spark.sql(\"SET hive.exec.dynamic.partition\")"
   ]
  },
  {
   "cell_type": "code",
   "execution_count": 107,
   "id": "b2ac4f65-9100-43e4-8365-b1c6e4b8847c",
   "metadata": {},
   "outputs": [
    {
     "data": {
      "text/html": [
       "<table border='1'>\n",
       "<tr><th>key</th><th>value</th></tr>\n",
       "<tr><td>hive.exec.dynamic...</td><td>&lt;undefined&gt;</td></tr>\n",
       "</table>\n"
      ],
      "text/plain": [
       "+--------------------+-----------+\n",
       "|                 key|      value|\n",
       "+--------------------+-----------+\n",
       "|hive.exec.dynamic...|<undefined>|\n",
       "+--------------------+-----------+"
      ]
     },
     "execution_count": 107,
     "metadata": {},
     "output_type": "execute_result"
    }
   ],
   "source": [
    "spark.sql(\"SET hive.exec.dynamic.partition.mode\")"
   ]
  },
  {
   "cell_type": "code",
   "execution_count": null,
   "id": "61f65295-76ec-4731-85ae-8c41383713bb",
   "metadata": {},
   "outputs": [],
   "source": []
  }
 ],
 "metadata": {
  "kernelspec": {
   "display_name": "Pyspark 3",
   "language": "python",
   "name": "pyspark3"
  },
  "language_info": {
   "codemirror_mode": {
    "name": "ipython",
    "version": 3
   },
   "file_extension": ".py",
   "mimetype": "text/x-python",
   "name": "python",
   "nbconvert_exporter": "python",
   "pygments_lexer": "ipython3",
   "version": "3.8.10"
  }
 },
 "nbformat": 4,
 "nbformat_minor": 5
}
